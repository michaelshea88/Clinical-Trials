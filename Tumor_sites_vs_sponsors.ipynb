{
 "cells": [
  {
   "cell_type": "markdown",
   "metadata": {},
   "source": [
    "# Investigate the most studied cancer type of each of the top sponsors"
   ]
  },
  {
   "cell_type": "code",
   "execution_count": 28,
   "metadata": {
    "collapsed": true
   },
   "outputs": [],
   "source": [
    "import pandas as pd\n",
    "import numpy as np\n",
    "from matplotlib import pyplot as plt\n",
    "% matplotlib inline\n",
    "import seaborn as sns"
   ]
  },
  {
   "cell_type": "code",
   "execution_count": 29,
   "metadata": {
    "collapsed": true
   },
   "outputs": [],
   "source": [
    "# Read in data\n",
    "trials = pd.read_csv('assets/study_fields.csv', encoding='utf-8')"
   ]
  },
  {
   "cell_type": "code",
   "execution_count": 30,
   "metadata": {
    "collapsed": true
   },
   "outputs": [],
   "source": [
    "# List of cancer sites\n",
    "cancer_sites = [('breast', 'Breast'), ('lung', 'Lung'), ('colo', 'Colorectal'), ('prostate', 'Prostate'),\n",
    "                ('pancrea', 'Pancreatic'), ('thyroid', 'Thyroid'), ('ovar', 'Ovarian'), ('melanoma', 'Melanoma'),\n",
    "               ('esoph', 'Esophageal'), ('myeloma', 'Multiple Myeloma'), ('lymphoma', 'Lymphomas'),\n",
    "                ('leukemia', 'Leukemias'), ('uter', 'Uterine'), ('bladder', 'Bladder'), ('cerv', 'Cervical'),\n",
    "               ('head and neck', 'Head and Neck'), ('liver', 'Liver'), ('testi', 'Testicular')]"
   ]
  },
  {
   "cell_type": "code",
   "execution_count": 31,
   "metadata": {
    "collapsed": true
   },
   "outputs": [],
   "source": [
    "# Add columns for cancer sites\n",
    "for search_term, site in cancer_sites:\n",
    "    trials[site] = trials.Conditions.str.contains(search_term, case=False)\n",
    "    trials[site] = trials[site].map({True:1, False:0})"
   ]
  },
  {
   "cell_type": "code",
   "execution_count": 32,
   "metadata": {
    "collapsed": true
   },
   "outputs": [],
   "source": [
    "# List of cancer sites with multiple names\n",
    "cancer_sites_mult_names = [(('brain', 'glio'), 'Brain'), (('kidney', 'renal'), 'Kidney'), (('stomach', 'gastric'), 'Gastric'),\n",
    "                           (('bone', 'osteos'), 'Bone'), (('soft tissue', 'gastrointestinal stromal'), 'Soft-tissue')]"
   ]
  },
  {
   "cell_type": "code",
   "execution_count": 33,
   "metadata": {
    "collapsed": true
   },
   "outputs": [],
   "source": [
    "# Add additional columns for cancer sites with multiple search terms\n",
    "for search_terms, site in cancer_sites_mult_names:\n",
    "    trials[site] = ((trials.Conditions.str.contains(search_terms[0], case=False)) | \n",
    "                     (trials.Conditions.str.contains(search_terms[1], case=False)))\n",
    "    trials[site] = trials[site].map({True:1, False:0})"
   ]
  },
  {
   "cell_type": "code",
   "execution_count": 34,
   "metadata": {
    "collapsed": true
   },
   "outputs": [],
   "source": [
    "# split pipe delimited sponsor names into a list in each cell\n",
    "s = trials['Sponsor/Collaborators'].str.split('|')"
   ]
  },
  {
   "cell_type": "code",
   "execution_count": 35,
   "metadata": {
    "collapsed": true
   },
   "outputs": [],
   "source": [
    "# The lead sponsor is the first one listed - generate new list with only lead sponsor\n",
    "lead_sponsors = [row[0] for row in s]"
   ]
  },
  {
   "cell_type": "code",
   "execution_count": 36,
   "metadata": {
    "collapsed": true
   },
   "outputs": [],
   "source": [
    "# Turn lead_sponsors list to a pandas series\n",
    "lead_sponsors_series = pd.Series(lead_sponsors)"
   ]
  },
  {
   "cell_type": "code",
   "execution_count": 37,
   "metadata": {
    "collapsed": true
   },
   "outputs": [],
   "source": [
    "# create seriers from list\n",
    "trials['lead_sponsors_series'] = lead_sponsors_series"
   ]
  },
  {
   "cell_type": "code",
   "execution_count": 38,
   "metadata": {
    "collapsed": true
   },
   "outputs": [],
   "source": [
    "# drop the rank column\n",
    "trials.drop('Rank', axis=1, inplace=True)"
   ]
  },
  {
   "cell_type": "code",
   "execution_count": 39,
   "metadata": {
    "collapsed": true
   },
   "outputs": [],
   "source": [
    "# list of sponsors with most trials sponsored\n",
    "top_hundred = trials.lead_sponsors_series.value_counts().sort_values(ascending=False)[:200].index"
   ]
  },
  {
   "cell_type": "code",
   "execution_count": 40,
   "metadata": {
    "collapsed": true
   },
   "outputs": [],
   "source": [
    "# here i'm trying to get all the sponsor and collaborators. notice how NCI shoots up\n",
    "sponsors = []\n",
    "tot_trials_sponsored = []\n",
    "for spons in top_hundred:\n",
    "    x = 0\n",
    "    for row in s:\n",
    "        for i in row:\n",
    "            if i == spons:\n",
    "                x +=1\n",
    "    sponsors.append(spons)\n",
    "    tot_trials_sponsored.append(x)\n",
    "sponsors_dict = dict(sponsor=sponsors, trial_count=tot_trials_sponsored)"
   ]
  },
  {
   "cell_type": "code",
   "execution_count": 41,
   "metadata": {
    "collapsed": true
   },
   "outputs": [],
   "source": [
    "# convert list to dataframe\n",
    "tot_trials_sponsored_df = pd.DataFrame(sponsors_dict)"
   ]
  },
  {
   "cell_type": "code",
   "execution_count": 47,
   "metadata": {
    "collapsed": true
   },
   "outputs": [],
   "source": [
    "tot_trials_sponsored_df.sort_values(by='trial_count', ascending=False, inplace=True)"
   ]
  },
  {
   "cell_type": "code",
   "execution_count": 53,
   "metadata": {
    "collapsed": true
   },
   "outputs": [],
   "source": [
    "tot_trials_sponsored_df.set_index(keys='sponsor', drop=False, inplace=True)"
   ]
  },
  {
   "cell_type": "code",
   "execution_count": 54,
   "metadata": {
    "collapsed": true
   },
   "outputs": [],
   "source": [
    "# get top 42 sponsors to go along with the number in the charts on plotly\n",
    "top_forty_two = tot_trials_sponsored_df.iloc[:42,:]"
   ]
  },
  {
   "cell_type": "code",
   "execution_count": 55,
   "metadata": {
    "collapsed": true
   },
   "outputs": [],
   "source": [
    "# this gives you the sum of each cancer type grouped by sponsor\n",
    "final_df = pd.DataFrame(trials.groupby('lead_sponsors_series').sum().ix[top_forty_two.index, :])"
   ]
  },
  {
   "cell_type": "code",
   "execution_count": 56,
   "metadata": {
    "collapsed": true
   },
   "outputs": [],
   "source": [
    "# from this i get the index of each maximum value per row\n",
    "top_sites_per_spons = pd.DataFrame(final_df.idxmax(axis=1))"
   ]
  },
  {
   "cell_type": "code",
   "execution_count": 57,
   "metadata": {
    "collapsed": true
   },
   "outputs": [],
   "source": [
    "# adding number of trials to that dataframe i just created\n",
    "top_sites_per_spons['num_trials'] = final_df.max(axis=1).values"
   ]
  },
  {
   "cell_type": "code",
   "execution_count": 58,
   "metadata": {
    "collapsed": false
   },
   "outputs": [
    {
     "data": {
      "text/html": [
       "<div>\n",
       "<table border=\"1\" class=\"dataframe\">\n",
       "  <thead>\n",
       "    <tr style=\"text-align: right;\">\n",
       "      <th></th>\n",
       "      <th>0</th>\n",
       "      <th>num_trials</th>\n",
       "    </tr>\n",
       "    <tr>\n",
       "      <th>sponsor</th>\n",
       "      <th></th>\n",
       "      <th></th>\n",
       "    </tr>\n",
       "  </thead>\n",
       "  <tbody>\n",
       "    <tr>\n",
       "      <th>National Cancer Institute (NCI)</th>\n",
       "      <td>Leukemias</td>\n",
       "      <td>135</td>\n",
       "    </tr>\n",
       "    <tr>\n",
       "      <th>M.D. Anderson Cancer Center</th>\n",
       "      <td>Leukemias</td>\n",
       "      <td>259</td>\n",
       "    </tr>\n",
       "    <tr>\n",
       "      <th>Memorial Sloan Kettering Cancer Center</th>\n",
       "      <td>Breast</td>\n",
       "      <td>151</td>\n",
       "    </tr>\n",
       "    <tr>\n",
       "      <th>Novartis</th>\n",
       "      <td>Breast</td>\n",
       "      <td>7</td>\n",
       "    </tr>\n",
       "    <tr>\n",
       "      <th>National Institutes of Health Clinical Center (CC)</th>\n",
       "      <td>Liver</td>\n",
       "      <td>8</td>\n",
       "    </tr>\n",
       "    <tr>\n",
       "      <th>Hoffmann-La Roche</th>\n",
       "      <td>Breast</td>\n",
       "      <td>119</td>\n",
       "    </tr>\n",
       "    <tr>\n",
       "      <th>Novartis Pharmaceuticals</th>\n",
       "      <td>Breast</td>\n",
       "      <td>68</td>\n",
       "    </tr>\n",
       "    <tr>\n",
       "      <th>AstraZeneca</th>\n",
       "      <td>Breast</td>\n",
       "      <td>83</td>\n",
       "    </tr>\n",
       "    <tr>\n",
       "      <th>Pfizer</th>\n",
       "      <td>Breast</td>\n",
       "      <td>46</td>\n",
       "    </tr>\n",
       "    <tr>\n",
       "      <th>Merck Sharp &amp; Dohme Corp.</th>\n",
       "      <td>Breast</td>\n",
       "      <td>27</td>\n",
       "    </tr>\n",
       "    <tr>\n",
       "      <th>Genentech, Inc.</th>\n",
       "      <td>Breast</td>\n",
       "      <td>28</td>\n",
       "    </tr>\n",
       "    <tr>\n",
       "      <th>GlaxoSmithKline</th>\n",
       "      <td>Breast</td>\n",
       "      <td>26</td>\n",
       "    </tr>\n",
       "    <tr>\n",
       "      <th>Celgene Corporation</th>\n",
       "      <td>Multiple Myeloma</td>\n",
       "      <td>53</td>\n",
       "    </tr>\n",
       "    <tr>\n",
       "      <th>Dana-Farber Cancer Institute</th>\n",
       "      <td>Breast</td>\n",
       "      <td>53</td>\n",
       "    </tr>\n",
       "    <tr>\n",
       "      <th>Bristol-Myers Squibb</th>\n",
       "      <td>Melanoma</td>\n",
       "      <td>47</td>\n",
       "    </tr>\n",
       "    <tr>\n",
       "      <th>Mayo Clinic</th>\n",
       "      <td>Breast</td>\n",
       "      <td>63</td>\n",
       "    </tr>\n",
       "    <tr>\n",
       "      <th>Bayer</th>\n",
       "      <td>Colorectal</td>\n",
       "      <td>26</td>\n",
       "    </tr>\n",
       "    <tr>\n",
       "      <th>Sanofi</th>\n",
       "      <td>Breast</td>\n",
       "      <td>17</td>\n",
       "    </tr>\n",
       "    <tr>\n",
       "      <th>Massachusetts General Hospital</th>\n",
       "      <td>Lung</td>\n",
       "      <td>31</td>\n",
       "    </tr>\n",
       "    <tr>\n",
       "      <th>Duke University</th>\n",
       "      <td>Brain</td>\n",
       "      <td>38</td>\n",
       "    </tr>\n",
       "    <tr>\n",
       "      <th>Eli Lilly and Company</th>\n",
       "      <td>Lung</td>\n",
       "      <td>79</td>\n",
       "    </tr>\n",
       "    <tr>\n",
       "      <th>Washington University School of Medicine</th>\n",
       "      <td>Breast</td>\n",
       "      <td>35</td>\n",
       "    </tr>\n",
       "    <tr>\n",
       "      <th>Stanford University</th>\n",
       "      <td>Breast</td>\n",
       "      <td>37</td>\n",
       "    </tr>\n",
       "    <tr>\n",
       "      <th>Sun Yat-sen University</th>\n",
       "      <td>Lung</td>\n",
       "      <td>39</td>\n",
       "    </tr>\n",
       "    <tr>\n",
       "      <th>University Health Network, Toronto</th>\n",
       "      <td>Prostate</td>\n",
       "      <td>44</td>\n",
       "    </tr>\n",
       "    <tr>\n",
       "      <th>Amgen</th>\n",
       "      <td>Colorectal</td>\n",
       "      <td>38</td>\n",
       "    </tr>\n",
       "    <tr>\n",
       "      <th>Samsung Medical Center</th>\n",
       "      <td>Gastric</td>\n",
       "      <td>32</td>\n",
       "    </tr>\n",
       "    <tr>\n",
       "      <th>University of California, San Francisco</th>\n",
       "      <td>Prostate</td>\n",
       "      <td>27</td>\n",
       "    </tr>\n",
       "    <tr>\n",
       "      <th>Millennium Pharmaceuticals, Inc.</th>\n",
       "      <td>Lymphomas</td>\n",
       "      <td>31</td>\n",
       "    </tr>\n",
       "    <tr>\n",
       "      <th>Fudan University</th>\n",
       "      <td>Breast</td>\n",
       "      <td>47</td>\n",
       "    </tr>\n",
       "    <tr>\n",
       "      <th>Sidney Kimmel Comprehensive Cancer Center</th>\n",
       "      <td>Prostate</td>\n",
       "      <td>41</td>\n",
       "    </tr>\n",
       "    <tr>\n",
       "      <th>National Taiwan University Hospital</th>\n",
       "      <td>Lung</td>\n",
       "      <td>28</td>\n",
       "    </tr>\n",
       "    <tr>\n",
       "      <th>Boehringer Ingelheim</th>\n",
       "      <td>Lung</td>\n",
       "      <td>52</td>\n",
       "    </tr>\n",
       "    <tr>\n",
       "      <th>City of Hope Medical Center</th>\n",
       "      <td>Breast</td>\n",
       "      <td>48</td>\n",
       "    </tr>\n",
       "    <tr>\n",
       "      <th>Abramson Cancer Center of the University of Pennsylvania</th>\n",
       "      <td>Breast</td>\n",
       "      <td>39</td>\n",
       "    </tr>\n",
       "    <tr>\n",
       "      <th>Fred Hutchinson Cancer Research Center</th>\n",
       "      <td>Leukemias</td>\n",
       "      <td>67</td>\n",
       "    </tr>\n",
       "    <tr>\n",
       "      <th>Children's Oncology Group</th>\n",
       "      <td>Leukemias</td>\n",
       "      <td>96</td>\n",
       "    </tr>\n",
       "    <tr>\n",
       "      <th>Case Comprehensive Cancer Center</th>\n",
       "      <td>Breast</td>\n",
       "      <td>34</td>\n",
       "    </tr>\n",
       "    <tr>\n",
       "      <th>H. Lee Moffitt Cancer Center and Research Institute</th>\n",
       "      <td>Melanoma</td>\n",
       "      <td>18</td>\n",
       "    </tr>\n",
       "    <tr>\n",
       "      <th>University of Pittsburgh</th>\n",
       "      <td>Breast</td>\n",
       "      <td>17</td>\n",
       "    </tr>\n",
       "    <tr>\n",
       "      <th>Brigham and Women's Hospital</th>\n",
       "      <td>Breast</td>\n",
       "      <td>5</td>\n",
       "    </tr>\n",
       "    <tr>\n",
       "      <th>Seoul National University Hospital</th>\n",
       "      <td>Breast</td>\n",
       "      <td>17</td>\n",
       "    </tr>\n",
       "  </tbody>\n",
       "</table>\n",
       "</div>"
      ],
      "text/plain": [
       "                                                                   0  \\\n",
       "sponsor                                                                \n",
       "National Cancer Institute (NCI)                            Leukemias   \n",
       "M.D. Anderson Cancer Center                                Leukemias   \n",
       "Memorial Sloan Kettering Cancer Center                        Breast   \n",
       "Novartis                                                      Breast   \n",
       "National Institutes of Health Clinical Center (CC)             Liver   \n",
       "Hoffmann-La Roche                                             Breast   \n",
       "Novartis Pharmaceuticals                                      Breast   \n",
       "AstraZeneca                                                   Breast   \n",
       "Pfizer                                                        Breast   \n",
       "Merck Sharp & Dohme Corp.                                     Breast   \n",
       "Genentech, Inc.                                               Breast   \n",
       "GlaxoSmithKline                                               Breast   \n",
       "Celgene Corporation                                 Multiple Myeloma   \n",
       "Dana-Farber Cancer Institute                                  Breast   \n",
       "Bristol-Myers Squibb                                        Melanoma   \n",
       "Mayo Clinic                                                   Breast   \n",
       "Bayer                                                     Colorectal   \n",
       "Sanofi                                                        Breast   \n",
       "Massachusetts General Hospital                                  Lung   \n",
       "Duke University                                                Brain   \n",
       "Eli Lilly and Company                                           Lung   \n",
       "Washington University School of Medicine                      Breast   \n",
       "Stanford University                                           Breast   \n",
       "Sun Yat-sen University                                          Lung   \n",
       "University Health Network, Toronto                          Prostate   \n",
       "Amgen                                                     Colorectal   \n",
       "Samsung Medical Center                                       Gastric   \n",
       "University of California, San Francisco                     Prostate   \n",
       "Millennium Pharmaceuticals, Inc.                           Lymphomas   \n",
       "Fudan University                                              Breast   \n",
       "Sidney Kimmel Comprehensive Cancer Center                   Prostate   \n",
       "National Taiwan University Hospital                             Lung   \n",
       "Boehringer Ingelheim                                            Lung   \n",
       "City of Hope Medical Center                                   Breast   \n",
       "Abramson Cancer Center of the University of Pen...            Breast   \n",
       "Fred Hutchinson Cancer Research Center                     Leukemias   \n",
       "Children's Oncology Group                                  Leukemias   \n",
       "Case Comprehensive Cancer Center                              Breast   \n",
       "H. Lee Moffitt Cancer Center and Research Insti...          Melanoma   \n",
       "University of Pittsburgh                                      Breast   \n",
       "Brigham and Women's Hospital                                  Breast   \n",
       "Seoul National University Hospital                            Breast   \n",
       "\n",
       "                                                    num_trials  \n",
       "sponsor                                                         \n",
       "National Cancer Institute (NCI)                            135  \n",
       "M.D. Anderson Cancer Center                                259  \n",
       "Memorial Sloan Kettering Cancer Center                     151  \n",
       "Novartis                                                     7  \n",
       "National Institutes of Health Clinical Center (CC)           8  \n",
       "Hoffmann-La Roche                                          119  \n",
       "Novartis Pharmaceuticals                                    68  \n",
       "AstraZeneca                                                 83  \n",
       "Pfizer                                                      46  \n",
       "Merck Sharp & Dohme Corp.                                   27  \n",
       "Genentech, Inc.                                             28  \n",
       "GlaxoSmithKline                                             26  \n",
       "Celgene Corporation                                         53  \n",
       "Dana-Farber Cancer Institute                                53  \n",
       "Bristol-Myers Squibb                                        47  \n",
       "Mayo Clinic                                                 63  \n",
       "Bayer                                                       26  \n",
       "Sanofi                                                      17  \n",
       "Massachusetts General Hospital                              31  \n",
       "Duke University                                             38  \n",
       "Eli Lilly and Company                                       79  \n",
       "Washington University School of Medicine                    35  \n",
       "Stanford University                                         37  \n",
       "Sun Yat-sen University                                      39  \n",
       "University Health Network, Toronto                          44  \n",
       "Amgen                                                       38  \n",
       "Samsung Medical Center                                      32  \n",
       "University of California, San Francisco                     27  \n",
       "Millennium Pharmaceuticals, Inc.                            31  \n",
       "Fudan University                                            47  \n",
       "Sidney Kimmel Comprehensive Cancer Center                   41  \n",
       "National Taiwan University Hospital                         28  \n",
       "Boehringer Ingelheim                                        52  \n",
       "City of Hope Medical Center                                 48  \n",
       "Abramson Cancer Center of the University of Pen...          39  \n",
       "Fred Hutchinson Cancer Research Center                      67  \n",
       "Children's Oncology Group                                   96  \n",
       "Case Comprehensive Cancer Center                            34  \n",
       "H. Lee Moffitt Cancer Center and Research Insti...          18  \n",
       "University of Pittsburgh                                    17  \n",
       "Brigham and Women's Hospital                                 5  \n",
       "Seoul National University Hospital                          17  "
      ]
     },
     "execution_count": 58,
     "metadata": {},
     "output_type": "execute_result"
    }
   ],
   "source": [
    "top_sites_per_spons"
   ]
  },
  {
   "cell_type": "code",
   "execution_count": null,
   "metadata": {
    "collapsed": true
   },
   "outputs": [],
   "source": []
  }
 ],
 "metadata": {
  "kernelspec": {
   "display_name": "Python 2",
   "language": "python",
   "name": "python2"
  },
  "language_info": {
   "codemirror_mode": {
    "name": "ipython",
    "version": 2
   },
   "file_extension": ".py",
   "mimetype": "text/x-python",
   "name": "python",
   "nbconvert_exporter": "python",
   "pygments_lexer": "ipython2",
   "version": "2.7.11"
  }
 },
 "nbformat": 4,
 "nbformat_minor": 0
}
