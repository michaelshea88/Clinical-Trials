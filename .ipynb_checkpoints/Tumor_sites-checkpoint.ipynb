{
 "cells": [
  {
   "cell_type": "markdown",
   "metadata": {},
   "source": [
    "# Number of trials by tumor site"
   ]
  },
  {
   "cell_type": "code",
   "execution_count": 1,
   "metadata": {
    "collapsed": true
   },
   "outputs": [],
   "source": [
    "import pandas as pd\n",
    "import numpy as np\n",
    "from matplotlib import pyplot as plt\n",
    "% matplotlib inline\n",
    "import seaborn as sns"
   ]
  },
  {
   "cell_type": "code",
   "execution_count": 2,
   "metadata": {
    "collapsed": true
   },
   "outputs": [],
   "source": [
    "# Read in data\n",
    "trials = pd.read_csv('assets/study_fields.csv', encoding='utf-8')"
   ]
  },
  {
   "cell_type": "code",
   "execution_count": 3,
   "metadata": {
    "collapsed": true
   },
   "outputs": [],
   "source": [
    "# List of cancer sites\n",
    "cancer_sites = [('breast', 'Breast'), ('lung', 'Lung'), ('colo', 'Colorectal'), ('prostate', 'Prostate'),\n",
    "                ('pancrea', 'Pancreatic'), ('thyroid', 'Thyroid'), ('ovar', 'Ovarian'), ('melanoma', 'Melanoma'),\n",
    "               ('esoph', 'Esophageal'), ('myeloma', 'Multiple Myeloma'), ('lymphoma', 'Lymphomas'),\n",
    "                ('leukemia', 'Leukemias'), ('uter', 'Uterine'), ('bladder', 'Bladder'), ('cerv', 'Cervical'),\n",
    "               ('head and neck', 'Head and Neck'), ('liver', 'Liver'), ('testi', 'Testicular')]"
   ]
  },
  {
   "cell_type": "code",
   "execution_count": 4,
   "metadata": {
    "collapsed": true
   },
   "outputs": [],
   "source": [
    "# Add columns for cancer sites\n",
    "for search_term, site in cancer_sites:\n",
    "    trials[site] = trials.Conditions.str.contains(search_term, case=False)\n",
    "    trials[site] = trials[site].map({True:1, False:0})"
   ]
  },
  {
   "cell_type": "code",
   "execution_count": 5,
   "metadata": {
    "collapsed": true
   },
   "outputs": [],
   "source": [
    "# List of cancer sites with multiple names\n",
    "cancer_sites_mult_names = [(('brain', 'glio'), 'Brain'), (('kidney', 'renal'), 'Kidney'), (('stomach', 'gastric'), 'Gastric'),\n",
    "                           (('bone', 'osteos'), 'Bone'), (('soft tissue', 'gastrointestinal stromal'), 'Soft-tissue')]"
   ]
  },
  {
   "cell_type": "code",
   "execution_count": 6,
   "metadata": {
    "collapsed": true
   },
   "outputs": [],
   "source": [
    "# Add additional columns for cancer sites with multiple search terms\n",
    "for search_terms, site in cancer_sites_mult_names:\n",
    "    trials[site] = ((trials.Conditions.str.contains(search_terms[0], case=False)) | \n",
    "                     (trials.Conditions.str.contains(search_terms[1], case=False)))\n",
    "    trials[site] = trials[site].map({True:1, False:0})"
   ]
  },
  {
   "cell_type": "code",
   "execution_count": 7,
   "metadata": {
    "collapsed": false
   },
   "outputs": [
    {
     "data": {
      "image/png": "[encoded data removed]",
      "text/plain": [
       "<matplotlib.figure.Figure at 0x103f8db50>"
      ]
     },
     "metadata": {},
     "output_type": "display_data"
    }
   ],
   "source": [
    "# Number of cancer sites - for number of bars on plot\n",
    "num_cancer_sites = np.arange(len(cancer_sites) + len(cancer_sites_mult_names))\n",
    "\n",
    "# Trial totals - for length of bars\n",
    "trial_totals_by_site = trials.iloc[:, -23:].sum().sort_values(ascending=False).values\n",
    "\n",
    "# Names of cancer sites - for bar labels\n",
    "cancer_sites_high_to_low = trials.iloc[:, -23:].sum().sort_values(ascending=False).index\n",
    "\n",
    "# Create horizontal bar\n",
    "plt.barh(num_cancer_sites, trial_totals_by_site, align='center', alpha=0.4)\n",
    "\n",
    "# Create yticks\n",
    "plt.yticks(num_cancer_sites, cancer_sites_high_to_low)\n",
    "\n",
    "# Create xlabel\n",
    "plt.xlabel('Number of Trials')\n",
    "\n",
    "# Invert graph\n",
    "plt.gca().invert_yaxis()"
   ]
  },
  {
   "cell_type": "code",
   "execution_count": 8,
   "metadata": {
    "collapsed": false
   },
   "outputs": [
    {
     "data": {
      "text/html": [
       "<iframe id=\"igraph\" scrolling=\"no\" style=\"border:none;\" seamless=\"seamless\" src=\"https://plot.ly/~mshea88/20.embed\" height=\"525px\" width=\"100%\"></iframe>"
      ],
      "text/plain": [
       "<plotly.tools.PlotlyDisplay object>"
      ]
     },
     "execution_count": 8,
     "metadata": {},
     "output_type": "execute_result"
    }
   ],
   "source": [
    "# graph with plotly\n",
    "\n",
    "import plotly.plotly as py\n",
    "import plotly.graph_objs as go\n",
    "\n",
    "# x is name of the condition, y is the number of trials for that condition\n",
    "x = trials.iloc[:, -23:].sum().sort_values(ascending=False).index.values\n",
    "y = trials.iloc[:, -23:].sum().sort_values(ascending=False).values\n",
    "\n",
    "data = [\n",
    "    go.Bar(\n",
    "    x = trials.iloc[:, -23:].sum().sort_values(ascending=True).values,\n",
    "    y = trials.iloc[:, -23:].sum().sort_values(ascending=True).index.values,\n",
    "    orientation='h')\n",
    "]\n",
    "\n",
    "layout = go.Layout(margin=dict(\n",
    "    l=120, r=30, b=60, t=60))\n",
    "\n",
    "fig = go.Figure(data=data, layout=layout)\n",
    "py.iplot(fig, filename='cancer_counts_hbar')"
   ]
  },
  {
   "cell_type": "code",
   "execution_count": 8,
   "metadata": {
    "collapsed": false
   },
   "outputs": [
    {
     "data": {
      "text/plain": [
       "Index([                   u'Rank',              u'NCT Number',\n",
       "                         u'Title',             u'Recruitment',\n",
       "                 u'Study Results',              u'Conditions',\n",
       "                 u'Interventions',   u'Sponsor/Collaborators',\n",
       "                        u'Gender',                     u'Age',\n",
       "                        u'Phases',              u'Enrollment',\n",
       "                    u'Funded Bys',             u'Study Types',\n",
       "                 u'Study Designs',               u'Other IDs',\n",
       "                u'First Received',              u'Start Date',\n",
       "               u'Completion Date',            u'Last Updated',\n",
       "                 u'Last Verified',  u'Results First Received',\n",
       "                       u'Acronym', u'Primary Completion Date',\n",
       "              u'Outcome Measures',                     u'URL',\n",
       "                        u'Breast',                    u'Lung',\n",
       "                    u'Colorectal',                u'Prostate',\n",
       "                    u'Pancreatic',                 u'Thyroid',\n",
       "                       u'Ovarian',                u'Melanoma',\n",
       "                    u'Esophageal',        u'Multiple Myeloma',\n",
       "                     u'Lymphomas',               u'Leukemias',\n",
       "                       u'Uterine',                 u'Bladder',\n",
       "                      u'Cervical',           u'Head and Neck',\n",
       "                         u'Liver',              u'Testicular',\n",
       "                         u'Brain',                  u'Kidney',\n",
       "                       u'Gastric',                    u'Bone',\n",
       "                   u'Soft-tissue'],\n",
       "      dtype='object')"
      ]
     },
     "execution_count": 8,
     "metadata": {},
     "output_type": "execute_result"
    }
   ],
   "source": [
    "trials.columns"
   ]
  },
  {
   "cell_type": "markdown",
   "metadata": {},
   "source": [
    "## Investigate relationship btwn. sponsors and tumor types"
   ]
  },
  {
   "cell_type": "code",
   "execution_count": 9,
   "metadata": {
    "collapsed": true
   },
   "outputs": [],
   "source": [
    "# split pipe delimited sponsor names into a list in each cell\n",
    "s = trials['Sponsor/Collaborators'].str.split('|')"
   ]
  },
  {
   "cell_type": "code",
   "execution_count": 10,
   "metadata": {
    "collapsed": true
   },
   "outputs": [],
   "source": [
    "# The lead sponsor is the first one listed - generate new list with only lead sponsor\n",
    "lead_sponsors = [row[0] for row in s]"
   ]
  },
  {
   "cell_type": "code",
   "execution_count": 11,
   "metadata": {
    "collapsed": true
   },
   "outputs": [],
   "source": [
    "# Turn lead_sponsors list to a pandas series\n",
    "lead_sponsors_series = pd.Series(lead_sponsors)"
   ]
  },
  {
   "cell_type": "code",
   "execution_count": 12,
   "metadata": {
    "collapsed": true
   },
   "outputs": [],
   "source": [
    "trials['lead_sponsors_series'] = lead_sponsors_series"
   ]
  },
  {
   "cell_type": "code",
   "execution_count": 39,
   "metadata": {
    "collapsed": true
   },
   "outputs": [],
   "source": [
    "top_hundred = trials.lead_sponsors_series.value_counts().sort_values(ascending=False)[:200].index"
   ]
  },
  {
   "cell_type": "code",
   "execution_count": 40,
   "metadata": {
    "collapsed": true
   },
   "outputs": [],
   "source": [
    "# here i'm trying to get all the sponsor and collaborators. notice how NCI shoots up\n",
    "sponsors = []\n",
    "tot_trials_sponsored = []\n",
    "for spons in top_hundred:\n",
    "    x = 0\n",
    "    for row in s:\n",
    "        for i in row:\n",
    "            if i == spons:\n",
    "                x +=1\n",
    "    sponsors.append(spons)\n",
    "    tot_trials_sponsored.append(x)\n",
    "sponsors_dict = dict(sponsor=sponsors, trial_count=tot_trials_sponsored)"
   ]
  },
  {
   "cell_type": "code",
   "execution_count": 41,
   "metadata": {
    "collapsed": true
   },
   "outputs": [],
   "source": [
    "tot_trials_sponsored_df = pd.DataFrame(sponsors_dict)"
   ]
  },
  {
   "cell_type": "code",
   "execution_count": 42,
   "metadata": {
    "collapsed": true
   },
   "outputs": [],
   "source": [
    "tot_trials_sponsored_df.sort_values(by='trial_count', ascending=False, inplace=True)"
   ]
  },
  {
   "cell_type": "code",
   "execution_count": 43,
   "metadata": {
    "collapsed": true
   },
   "outputs": [],
   "source": [
    "tot_trials_sponsored_df.set_index(keys='sponsor', drop=False, inplace=True)"
   ]
  },
  {
   "cell_type": "code",
   "execution_count": 44,
   "metadata": {
    "collapsed": true
   },
   "outputs": [],
   "source": [
    "lead_sponsors_df = pd.DataFrame(trials['lead_sponsors_series'].value_counts().sort_values(ascending=False)[:200])"
   ]
  },
  {
   "cell_type": "code",
   "execution_count": 45,
   "metadata": {
    "collapsed": true
   },
   "outputs": [],
   "source": [
    "result = pd.concat([lead_sponsors_df, tot_trials_sponsored_df], axis=1)"
   ]
  },
  {
   "cell_type": "code",
   "execution_count": 46,
   "metadata": {
    "collapsed": true
   },
   "outputs": [],
   "source": [
    "result.sort_values(by='trial_count', inplace=True, ascending=True)"
   ]
  },
  {
   "cell_type": "code",
   "execution_count": 47,
   "metadata": {
    "collapsed": true
   },
   "outputs": [],
   "source": [
    "result['collaborator'] = result.trial_count - result.lead_sponsors_series"
   ]
  },
  {
   "cell_type": "code",
   "execution_count": 48,
   "metadata": {
    "collapsed": false
   },
   "outputs": [],
   "source": [
    "result.rename(columns={'sponsor': 'Sponsor/Collaborators'}, inplace=True)"
   ]
  },
  {
   "cell_type": "code",
   "execution_count": 49,
   "metadata": {
    "collapsed": false
   },
   "outputs": [],
   "source": [
    "result_two = pd.merge(result, trials, how='inner', on='Sponsor/Collaborators')"
   ]
  },
  {
   "cell_type": "code",
   "execution_count": 13,
   "metadata": {
    "collapsed": false
   },
   "outputs": [],
   "source": [
    "trials.drop('Rank', axis=1, inplace=True)"
   ]
  },
  {
   "cell_type": "code",
   "execution_count": 24,
   "metadata": {
    "collapsed": false
   },
   "outputs": [],
   "source": [
    "total_captured = pd.DataFrame(trials.groupby('lead_sponsors_series').sum().sum(axis=1).sort_values(ascending=False))"
   ]
  },
  {
   "cell_type": "code",
   "execution_count": 28,
   "metadata": {
    "collapsed": false
   },
   "outputs": [],
   "source": [
    "total_true = pd.DataFrame(trials['lead_sponsors_series'].value_counts())"
   ]
  },
  {
   "cell_type": "code",
   "execution_count": 32,
   "metadata": {
    "collapsed": false
   },
   "outputs": [],
   "source": [
    "combined = pd.merge(total_captured, total_true, left_index=True, right_index=True)"
   ]
  },
  {
   "cell_type": "code",
   "execution_count": 64,
   "metadata": {
    "collapsed": false
   },
   "outputs": [],
   "source": [
    "top_forty_two = tot_trials_sponsored_df.iloc[:42,:]"
   ]
  },
  {
   "cell_type": "code",
   "execution_count": 73,
   "metadata": {
    "collapsed": false
   },
   "outputs": [],
   "source": [
    "final_df = pd.DataFrame(trials.groupby('lead_sponsors_series').sum().ix[top_forty_two.index, :])"
   ]
  },
  {
   "cell_type": "code",
   "execution_count": 75,
   "metadata": {
    "collapsed": false
   },
   "outputs": [],
   "source": [
    "top_sites_per_spons = pd.DataFrame(final_df.idxmax(axis=1))"
   ]
  },
  {
   "cell_type": "code",
   "execution_count": 78,
   "metadata": {
    "collapsed": false
   },
   "outputs": [],
   "source": [
    "top_sites_per_spons['num_trials'] = final_df.max(axis=1).values"
   ]
  },
  {
   "cell_type": "code",
   "execution_count": 79,
   "metadata": {
    "collapsed": false
   },
   "outputs": [
    {
     "data": {
      "text/html": [
       "<div>\n",
       "<table border=\"1\" class=\"dataframe\">\n",
       "  <thead>\n",
       "    <tr style=\"text-align: right;\">\n",
       "      <th></th>\n",
       "      <th>0</th>\n",
       "      <th>num_trials</th>\n",
       "    </tr>\n",
       "    <tr>\n",
       "      <th>sponsor</th>\n",
       "      <th></th>\n",
       "      <th></th>\n",
       "    </tr>\n",
       "  </thead>\n",
       "  <tbody>\n",
       "    <tr>\n",
       "      <th>National Cancer Institute (NCI)</th>\n",
       "      <td>Leukemias</td>\n",
       "      <td>135</td>\n",
       "    </tr>\n",
       "    <tr>\n",
       "      <th>M.D. Anderson Cancer Center</th>\n",
       "      <td>Leukemias</td>\n",
       "      <td>259</td>\n",
       "    </tr>\n",
       "    <tr>\n",
       "      <th>Memorial Sloan Kettering Cancer Center</th>\n",
       "      <td>Breast</td>\n",
       "      <td>151</td>\n",
       "    </tr>\n",
       "    <tr>\n",
       "      <th>Novartis</th>\n",
       "      <td>Breast</td>\n",
       "      <td>7</td>\n",
       "    </tr>\n",
       "    <tr>\n",
       "      <th>National Institutes of Health Clinical Center (CC)</th>\n",
       "      <td>Liver</td>\n",
       "      <td>8</td>\n",
       "    </tr>\n",
       "    <tr>\n",
       "      <th>Hoffmann-La Roche</th>\n",
       "      <td>Breast</td>\n",
       "      <td>119</td>\n",
       "    </tr>\n",
       "    <tr>\n",
       "      <th>Novartis Pharmaceuticals</th>\n",
       "      <td>Breast</td>\n",
       "      <td>68</td>\n",
       "    </tr>\n",
       "    <tr>\n",
       "      <th>AstraZeneca</th>\n",
       "      <td>Breast</td>\n",
       "      <td>83</td>\n",
       "    </tr>\n",
       "    <tr>\n",
       "      <th>Pfizer</th>\n",
       "      <td>Breast</td>\n",
       "      <td>46</td>\n",
       "    </tr>\n",
       "    <tr>\n",
       "      <th>Merck Sharp &amp; Dohme Corp.</th>\n",
       "      <td>Breast</td>\n",
       "      <td>27</td>\n",
       "    </tr>\n",
       "    <tr>\n",
       "      <th>Genentech, Inc.</th>\n",
       "      <td>Breast</td>\n",
       "      <td>28</td>\n",
       "    </tr>\n",
       "    <tr>\n",
       "      <th>GlaxoSmithKline</th>\n",
       "      <td>Breast</td>\n",
       "      <td>26</td>\n",
       "    </tr>\n",
       "    <tr>\n",
       "      <th>Celgene Corporation</th>\n",
       "      <td>Multiple Myeloma</td>\n",
       "      <td>53</td>\n",
       "    </tr>\n",
       "    <tr>\n",
       "      <th>Dana-Farber Cancer Institute</th>\n",
       "      <td>Breast</td>\n",
       "      <td>53</td>\n",
       "    </tr>\n",
       "    <tr>\n",
       "      <th>Bristol-Myers Squibb</th>\n",
       "      <td>Melanoma</td>\n",
       "      <td>47</td>\n",
       "    </tr>\n",
       "    <tr>\n",
       "      <th>Mayo Clinic</th>\n",
       "      <td>Breast</td>\n",
       "      <td>63</td>\n",
       "    </tr>\n",
       "    <tr>\n",
       "      <th>Bayer</th>\n",
       "      <td>Colorectal</td>\n",
       "      <td>26</td>\n",
       "    </tr>\n",
       "    <tr>\n",
       "      <th>Sanofi</th>\n",
       "      <td>Breast</td>\n",
       "      <td>17</td>\n",
       "    </tr>\n",
       "    <tr>\n",
       "      <th>Massachusetts General Hospital</th>\n",
       "      <td>Lung</td>\n",
       "      <td>31</td>\n",
       "    </tr>\n",
       "    <tr>\n",
       "      <th>Duke University</th>\n",
       "      <td>Brain</td>\n",
       "      <td>38</td>\n",
       "    </tr>\n",
       "    <tr>\n",
       "      <th>Eli Lilly and Company</th>\n",
       "      <td>Lung</td>\n",
       "      <td>79</td>\n",
       "    </tr>\n",
       "    <tr>\n",
       "      <th>Washington University School of Medicine</th>\n",
       "      <td>Breast</td>\n",
       "      <td>35</td>\n",
       "    </tr>\n",
       "    <tr>\n",
       "      <th>Stanford University</th>\n",
       "      <td>Breast</td>\n",
       "      <td>37</td>\n",
       "    </tr>\n",
       "    <tr>\n",
       "      <th>Sun Yat-sen University</th>\n",
       "      <td>Lung</td>\n",
       "      <td>39</td>\n",
       "    </tr>\n",
       "    <tr>\n",
       "      <th>University Health Network, Toronto</th>\n",
       "      <td>Prostate</td>\n",
       "      <td>44</td>\n",
       "    </tr>\n",
       "    <tr>\n",
       "      <th>Amgen</th>\n",
       "      <td>Colorectal</td>\n",
       "      <td>38</td>\n",
       "    </tr>\n",
       "    <tr>\n",
       "      <th>Samsung Medical Center</th>\n",
       "      <td>Gastric</td>\n",
       "      <td>32</td>\n",
       "    </tr>\n",
       "    <tr>\n",
       "      <th>University of California, San Francisco</th>\n",
       "      <td>Prostate</td>\n",
       "      <td>27</td>\n",
       "    </tr>\n",
       "    <tr>\n",
       "      <th>Millennium Pharmaceuticals, Inc.</th>\n",
       "      <td>Lymphomas</td>\n",
       "      <td>31</td>\n",
       "    </tr>\n",
       "    <tr>\n",
       "      <th>Fudan University</th>\n",
       "      <td>Breast</td>\n",
       "      <td>47</td>\n",
       "    </tr>\n",
       "    <tr>\n",
       "      <th>Sidney Kimmel Comprehensive Cancer Center</th>\n",
       "      <td>Prostate</td>\n",
       "      <td>41</td>\n",
       "    </tr>\n",
       "    <tr>\n",
       "      <th>National Taiwan University Hospital</th>\n",
       "      <td>Lung</td>\n",
       "      <td>28</td>\n",
       "    </tr>\n",
       "    <tr>\n",
       "      <th>Boehringer Ingelheim</th>\n",
       "      <td>Lung</td>\n",
       "      <td>52</td>\n",
       "    </tr>\n",
       "    <tr>\n",
       "      <th>City of Hope Medical Center</th>\n",
       "      <td>Breast</td>\n",
       "      <td>48</td>\n",
       "    </tr>\n",
       "    <tr>\n",
       "      <th>Abramson Cancer Center of the University of Pennsylvania</th>\n",
       "      <td>Breast</td>\n",
       "      <td>39</td>\n",
       "    </tr>\n",
       "    <tr>\n",
       "      <th>Fred Hutchinson Cancer Research Center</th>\n",
       "      <td>Leukemias</td>\n",
       "      <td>67</td>\n",
       "    </tr>\n",
       "    <tr>\n",
       "      <th>Children's Oncology Group</th>\n",
       "      <td>Leukemias</td>\n",
       "      <td>96</td>\n",
       "    </tr>\n",
       "    <tr>\n",
       "      <th>Case Comprehensive Cancer Center</th>\n",
       "      <td>Breast</td>\n",
       "      <td>34</td>\n",
       "    </tr>\n",
       "    <tr>\n",
       "      <th>H. Lee Moffitt Cancer Center and Research Institute</th>\n",
       "      <td>Melanoma</td>\n",
       "      <td>18</td>\n",
       "    </tr>\n",
       "    <tr>\n",
       "      <th>University of Pittsburgh</th>\n",
       "      <td>Breast</td>\n",
       "      <td>17</td>\n",
       "    </tr>\n",
       "    <tr>\n",
       "      <th>Brigham and Women's Hospital</th>\n",
       "      <td>Breast</td>\n",
       "      <td>5</td>\n",
       "    </tr>\n",
       "    <tr>\n",
       "      <th>Seoul National University Hospital</th>\n",
       "      <td>Breast</td>\n",
       "      <td>17</td>\n",
       "    </tr>\n",
       "  </tbody>\n",
       "</table>\n",
       "</div>"
      ],
      "text/plain": [
       "                                                                   0  \\\n",
       "sponsor                                                                \n",
       "National Cancer Institute (NCI)                            Leukemias   \n",
       "M.D. Anderson Cancer Center                                Leukemias   \n",
       "Memorial Sloan Kettering Cancer Center                        Breast   \n",
       "Novartis                                                      Breast   \n",
       "National Institutes of Health Clinical Center (CC)             Liver   \n",
       "Hoffmann-La Roche                                             Breast   \n",
       "Novartis Pharmaceuticals                                      Breast   \n",
       "AstraZeneca                                                   Breast   \n",
       "Pfizer                                                        Breast   \n",
       "Merck Sharp & Dohme Corp.                                     Breast   \n",
       "Genentech, Inc.                                               Breast   \n",
       "GlaxoSmithKline                                               Breast   \n",
       "Celgene Corporation                                 Multiple Myeloma   \n",
       "Dana-Farber Cancer Institute                                  Breast   \n",
       "Bristol-Myers Squibb                                        Melanoma   \n",
       "Mayo Clinic                                                   Breast   \n",
       "Bayer                                                     Colorectal   \n",
       "Sanofi                                                        Breast   \n",
       "Massachusetts General Hospital                                  Lung   \n",
       "Duke University                                                Brain   \n",
       "Eli Lilly and Company                                           Lung   \n",
       "Washington University School of Medicine                      Breast   \n",
       "Stanford University                                           Breast   \n",
       "Sun Yat-sen University                                          Lung   \n",
       "University Health Network, Toronto                          Prostate   \n",
       "Amgen                                                     Colorectal   \n",
       "Samsung Medical Center                                       Gastric   \n",
       "University of California, San Francisco                     Prostate   \n",
       "Millennium Pharmaceuticals, Inc.                           Lymphomas   \n",
       "Fudan University                                              Breast   \n",
       "Sidney Kimmel Comprehensive Cancer Center                   Prostate   \n",
       "National Taiwan University Hospital                             Lung   \n",
       "Boehringer Ingelheim                                            Lung   \n",
       "City of Hope Medical Center                                   Breast   \n",
       "Abramson Cancer Center of the University of Pen...            Breast   \n",
       "Fred Hutchinson Cancer Research Center                     Leukemias   \n",
       "Children's Oncology Group                                  Leukemias   \n",
       "Case Comprehensive Cancer Center                              Breast   \n",
       "H. Lee Moffitt Cancer Center and Research Insti...          Melanoma   \n",
       "University of Pittsburgh                                      Breast   \n",
       "Brigham and Women's Hospital                                  Breast   \n",
       "Seoul National University Hospital                            Breast   \n",
       "\n",
       "                                                    num_trials  \n",
       "sponsor                                                         \n",
       "National Cancer Institute (NCI)                            135  \n",
       "M.D. Anderson Cancer Center                                259  \n",
       "Memorial Sloan Kettering Cancer Center                     151  \n",
       "Novartis                                                     7  \n",
       "National Institutes of Health Clinical Center (CC)           8  \n",
       "Hoffmann-La Roche                                          119  \n",
       "Novartis Pharmaceuticals                                    68  \n",
       "AstraZeneca                                                 83  \n",
       "Pfizer                                                      46  \n",
       "Merck Sharp & Dohme Corp.                                   27  \n",
       "Genentech, Inc.                                             28  \n",
       "GlaxoSmithKline                                             26  \n",
       "Celgene Corporation                                         53  \n",
       "Dana-Farber Cancer Institute                                53  \n",
       "Bristol-Myers Squibb                                        47  \n",
       "Mayo Clinic                                                 63  \n",
       "Bayer                                                       26  \n",
       "Sanofi                                                      17  \n",
       "Massachusetts General Hospital                              31  \n",
       "Duke University                                             38  \n",
       "Eli Lilly and Company                                       79  \n",
       "Washington University School of Medicine                    35  \n",
       "Stanford University                                         37  \n",
       "Sun Yat-sen University                                      39  \n",
       "University Health Network, Toronto                          44  \n",
       "Amgen                                                       38  \n",
       "Samsung Medical Center                                      32  \n",
       "University of California, San Francisco                     27  \n",
       "Millennium Pharmaceuticals, Inc.                            31  \n",
       "Fudan University                                            47  \n",
       "Sidney Kimmel Comprehensive Cancer Center                   41  \n",
       "National Taiwan University Hospital                         28  \n",
       "Boehringer Ingelheim                                        52  \n",
       "City of Hope Medical Center                                 48  \n",
       "Abramson Cancer Center of the University of Pen...          39  \n",
       "Fred Hutchinson Cancer Research Center                      67  \n",
       "Children's Oncology Group                                   96  \n",
       "Case Comprehensive Cancer Center                            34  \n",
       "H. Lee Moffitt Cancer Center and Research Insti...          18  \n",
       "University of Pittsburgh                                    17  \n",
       "Brigham and Women's Hospital                                 5  \n",
       "Seoul National University Hospital                          17  "
      ]
     },
     "execution_count": 79,
     "metadata": {},
     "output_type": "execute_result"
    }
   ],
   "source": [
    "top_sites_per_spons"
   ]
  },
  {
   "cell_type": "code",
   "execution_count": 14,
   "metadata": {
    "collapsed": false
   },
   "outputs": [
    {
     "data": {
      "text/plain": [
       "lead_sponsors_series\n",
       "Memorial Sloan Kettering Cancer Center     835\n",
       "National Cancer Institute (NCI)           1395\n",
       "Hoffmann-La Roche                          498\n",
       "M.D. Anderson Cancer Center               1112\n",
       "AstraZeneca                                324\n",
       "Novartis Pharmaceuticals                   356\n",
       "Mayo Clinic                                382\n",
       "Dana-Farber Cancer Institute               250\n",
       "City of Hope Medical Center                312\n",
       "Fudan University                           150\n",
       "dtype: int64"
      ]
     },
     "execution_count": 14,
     "metadata": {},
     "output_type": "execute_result"
    }
   ],
   "source": [
    "trials.groupby('lead_sponsors_series').sum().sort_values(by='Breast', ascending=False).iloc[:10, :].sum(axis=1)"
   ]
  },
  {
   "cell_type": "code",
   "execution_count": 51,
   "metadata": {
    "collapsed": false
   },
   "outputs": [
    {
     "data": {
      "text/plain": [
       "M.D. Anderson Cancer Center                                 1387\n",
       "National Cancer Institute (NCI)                             1263\n",
       "Memorial Sloan Kettering Cancer Center                       854\n",
       "Hoffmann-La Roche                                            605\n",
       "Novartis Pharmaceuticals                                     478\n",
       "Mayo Clinic                                                  403\n",
       "AstraZeneca                                                  400\n",
       "Pfizer                                                       320\n",
       "Dana-Farber Cancer Institute                                 300\n",
       "GlaxoSmithKline                                              299\n",
       "Massachusetts General Hospital                               299\n",
       "Washington University School of Medicine                     292\n",
       "Eli Lilly and Company                                        289\n",
       "Bristol-Myers Squibb                                         284\n",
       "University Health Network, Toronto                           273\n",
       "Sidney Kimmel Comprehensive Cancer Center                    254\n",
       "Samsung Medical Center                                       252\n",
       "Merck Sharp & Dohme Corp.                                    242\n",
       "Sun Yat-sen University                                       238\n",
       "City of Hope Medical Center                                  232\n",
       "Abramson Cancer Center of the University of Pennsylvania     226\n",
       "National Taiwan University Hospital                          226\n",
       "Stanford University                                          224\n",
       "Duke University                                              223\n",
       "Children's Oncology Group                                    217\n",
       "Bayer                                                        212\n",
       "Case Comprehensive Cancer Center                             195\n",
       "H. Lee Moffitt Cancer Center and Research Institute          194\n",
       "Assistance Publique - Hôpitaux de Paris                      193\n",
       "Sanofi                                                       193\n",
       "                                                            ... \n",
       "Royal National Orthopaedic Hospital NHS Trust                  1\n",
       "Niiki Pharma Inc.                                              1\n",
       "Collaborative Medicinal Development Pty Limited                1\n",
       "Akdeniz University                                             1\n",
       "Michael Mann                                                   1\n",
       "Bai Jun                                                        1\n",
       "Intercept Pharmaceuticals                                      1\n",
       "OxOnc Development LP                                           1\n",
       "Saint Luke's Health System                                     1\n",
       "Graftys SA                                                     1\n",
       "Javeriana University                                           1\n",
       "GenBasix Incorporated                                          1\n",
       "Dr Anna Dorothea Wagner                                        1\n",
       "MDx Health                                                     1\n",
       "Telormedix SA                                                  1\n",
       "Tom Badgett                                                    1\n",
       "Universidad Nacional Autonoma de Mexico                        1\n",
       "The New York Eye & Ear Infirmary                               1\n",
       "Hologic Deutschland GmbH                                       1\n",
       "Eudocia Quant Lee, MD                                          1\n",
       "Sokbom Kang                                                    1\n",
       "Luminist, Inc.                                                 1\n",
       "Wenqi Jiang                                                    1\n",
       "Olof Akre                                                      1\n",
       "Alejandro Gonzalez-Ojeda                                       1\n",
       "Biontech AG                                                    1\n",
       "Senju USA, Inc.                                                1\n",
       "Centrallasarettet Västerås                                     1\n",
       "Masaryk University                                             1\n",
       "Tessa L Marburger                                              1\n",
       "Name: lead_sponsors_series, dtype: int64"
      ]
     },
     "execution_count": 51,
     "metadata": {},
     "output_type": "execute_result"
    }
   ],
   "source": [
    "trials.lead_sponsors_series.value_counts().sort_values(ascending=False)"
   ]
  },
  {
   "cell_type": "code",
   "execution_count": 52,
   "metadata": {
    "collapsed": true
   },
   "outputs": [],
   "source": [
    "# left off - need to create an 'other' category for all the cancer types not captured"
   ]
  },
  {
   "cell_type": "code",
   "execution_count": null,
   "metadata": {
    "collapsed": true
   },
   "outputs": [],
   "source": []
  }
 ],
 "metadata": {
  "kernelspec": {
   "display_name": "Python 2",
   "language": "python",
   "name": "python2"
  },
  "language_info": {
   "codemirror_mode": {
    "name": "ipython",
    "version": 2
   },
   "file_extension": ".py",
   "mimetype": "text/x-python",
   "name": "python",
   "nbconvert_exporter": "python",
   "pygments_lexer": "ipython2",
   "version": "2.7.11"
  }
 },
 "nbformat": 4,
 "nbformat_minor": 0
}
