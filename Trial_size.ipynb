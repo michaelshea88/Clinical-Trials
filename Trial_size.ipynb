{
 "cells": [
  {
   "cell_type": "markdown",
   "metadata": {},
   "source": [
    "## Distribution of number of trial participants"
   ]
  },
  {
   "cell_type": "code",
   "execution_count": 1,
   "metadata": {
    "collapsed": true
   },
   "outputs": [],
   "source": [
    "import pandas as pd\n",
    "import numpy as np\n",
    "from matplotlib import pyplot as plt\n",
    "% matplotlib inline\n",
    "import seaborn as sns"
   ]
  },
  {
   "cell_type": "code",
   "execution_count": 2,
   "metadata": {
    "collapsed": true
   },
   "outputs": [],
   "source": [
    "# Read in data\n",
    "trials = pd.read_csv('assets/study_fields.csv')"
   ]
  },
  {
   "cell_type": "code",
   "execution_count": 3,
   "metadata": {
    "collapsed": true
   },
   "outputs": [],
   "source": [
    "# Convert to numeric\n",
    "trials['Enrollment'] = pd.to_numeric(trials.Enrollment, errors='coerce')"
   ]
  },
  {
   "cell_type": "code",
   "execution_count": 4,
   "metadata": {
    "collapsed": false
   },
   "outputs": [
    {
     "data": {
      "text/plain": [
       "419"
      ]
     },
     "execution_count": 4,
     "metadata": {},
     "output_type": "execute_result"
    }
   ],
   "source": [
    "trials.Enrollment.isnull().sum()"
   ]
  },
  {
   "cell_type": "code",
   "execution_count": 5,
   "metadata": {
    "collapsed": true
   },
   "outputs": [],
   "source": [
    "# Create a new series without the nans\n",
    "without_nulls_enrollment = trials[['NCT Number', 'Enrollment', 'Study Types', 'Recruitment']].dropna()"
   ]
  },
  {
   "cell_type": "code",
   "execution_count": 6,
   "metadata": {
    "collapsed": false
   },
   "outputs": [
    {
     "data": {
      "text/plain": [
       "99999999.0"
      ]
     },
     "execution_count": 6,
     "metadata": {},
     "output_type": "execute_result"
    }
   ],
   "source": [
    "# alright, there's clear outlier\n",
    "without_nulls_enrollment['Enrollment'].max()"
   ]
  },
  {
   "cell_type": "code",
   "execution_count": 7,
   "metadata": {
    "collapsed": false
   },
   "outputs": [
    {
     "data": {
      "text/plain": [
       "(173, 4)"
      ]
     },
     "execution_count": 7,
     "metadata": {},
     "output_type": "execute_result"
    }
   ],
   "source": [
    "# View all the trials with enrollment of greater than 20k\n",
    "without_nulls_enrollment[without_nulls_enrollment['Enrollment'] > 20000].shape"
   ]
  },
  {
   "cell_type": "code",
   "execution_count": 8,
   "metadata": {
    "collapsed": false
   },
   "outputs": [
    {
     "data": {
      "text/plain": [
       "Observational     37\n",
       "Interventional     9\n",
       "Name: Study Types, dtype: int64"
      ]
     },
     "execution_count": 8,
     "metadata": {},
     "output_type": "execute_result"
    }
   ],
   "source": [
    "# How many interventional trials with greater than 100k participants?\n",
    "# There are still a good number of trials with over 100k participants, so not comfortable removing outliers\n",
    "# I would need to remove outliers if I wanted to do a swarm plot\n",
    "without_nulls_enrollment[without_nulls_enrollment['Enrollment'] > 100000]['Study Types'].value_counts()"
   ]
  },
  {
   "cell_type": "code",
   "execution_count": 9,
   "metadata": {
    "collapsed": false
   },
   "outputs": [
    {
     "data": {
      "text/html": [
       "<div>\n",
       "<table border=\"1\" class=\"dataframe\">\n",
       "  <thead>\n",
       "    <tr>\n",
       "      <th></th>\n",
       "      <th colspan=\"2\" halign=\"left\">Enrollment</th>\n",
       "    </tr>\n",
       "    <tr>\n",
       "      <th></th>\n",
       "      <th>mean</th>\n",
       "      <th>count_nonzero</th>\n",
       "    </tr>\n",
       "    <tr>\n",
       "      <th>Recruitment</th>\n",
       "      <th></th>\n",
       "      <th></th>\n",
       "    </tr>\n",
       "  </thead>\n",
       "  <tbody>\n",
       "    <tr>\n",
       "      <th>Active, not recruiting</th>\n",
       "      <td>1011.809568</td>\n",
       "      <td>6417.0</td>\n",
       "    </tr>\n",
       "    <tr>\n",
       "      <th>Completed</th>\n",
       "      <td>3356.210996</td>\n",
       "      <td>14349.0</td>\n",
       "    </tr>\n",
       "    <tr>\n",
       "      <th>Enrolling by invitation</th>\n",
       "      <td>7005.757366</td>\n",
       "      <td>577.0</td>\n",
       "    </tr>\n",
       "    <tr>\n",
       "      <th>Not yet recruiting</th>\n",
       "      <td>474.389142</td>\n",
       "      <td>2634.0</td>\n",
       "    </tr>\n",
       "    <tr>\n",
       "      <th>Recruiting</th>\n",
       "      <td>21934.732221</td>\n",
       "      <td>14861.0</td>\n",
       "    </tr>\n",
       "    <tr>\n",
       "      <th>Suspended</th>\n",
       "      <td>144.589172</td>\n",
       "      <td>314.0</td>\n",
       "    </tr>\n",
       "    <tr>\n",
       "      <th>Terminated</th>\n",
       "      <td>63.077882</td>\n",
       "      <td>3201.0</td>\n",
       "    </tr>\n",
       "    <tr>\n",
       "      <th>Withdrawn</th>\n",
       "      <td>4.615123</td>\n",
       "      <td>44.0</td>\n",
       "    </tr>\n",
       "  </tbody>\n",
       "</table>\n",
       "</div>"
      ],
      "text/plain": [
       "                           Enrollment              \n",
       "                                 mean count_nonzero\n",
       "Recruitment                                        \n",
       "Active, not recruiting    1011.809568        6417.0\n",
       "Completed                 3356.210996       14349.0\n",
       "Enrolling by invitation   7005.757366         577.0\n",
       "Not yet recruiting         474.389142        2634.0\n",
       "Recruiting               21934.732221       14861.0\n",
       "Suspended                  144.589172         314.0\n",
       "Terminated                  63.077882        3201.0\n",
       "Withdrawn                    4.615123          44.0"
      ]
     },
     "execution_count": 9,
     "metadata": {},
     "output_type": "execute_result"
    }
   ],
   "source": [
    "# View enrollment stats based on each recruitment category\n",
    "without_nulls_enrollment.groupby('Recruitment').agg([np.mean, np.count_nonzero,])"
   ]
  },
  {
   "cell_type": "code",
   "execution_count": 10,
   "metadata": {
    "collapsed": true
   },
   "outputs": [],
   "source": [
    "# Remove the trials with recruitment status withdrawn and terminated\n",
    "without_nulls_enrollment = without_nulls_enrollment.loc[\n",
    "    (without_nulls_enrollment['Recruitment'] != 'Withdrawn') & (without_nulls_enrollment['Recruitment'] != 'Terminated')]"
   ]
  },
  {
   "cell_type": "code",
   "execution_count": 11,
   "metadata": {
    "collapsed": true
   },
   "outputs": [],
   "source": [
    "# bin data\n",
    "bins = [-1, 30, 60, 100, 200, 400, 1000, 5000, 1000000000]\n",
    "group_names = ['< 30', '31-60', '61-100', '101-200', '201-400', '401-1000', '1000-5000', '>5000']\n",
    "categories = pd.cut(without_nulls_enrollment['Enrollment'], bins, labels=group_names)"
   ]
  },
  {
   "cell_type": "code",
   "execution_count": 12,
   "metadata": {
    "collapsed": true
   },
   "outputs": [],
   "source": [
    "# Add categories as column in dataframe\n",
    "without_nulls_enrollment['Category'] = categories"
   ]
  },
  {
   "cell_type": "code",
   "execution_count": 13,
   "metadata": {
    "collapsed": true
   },
   "outputs": [],
   "source": [
    "# View value counts\n",
    "enrollment_counts = without_nulls_enrollment['Category'].value_counts().sort_index(ascending=True)"
   ]
  },
  {
   "cell_type": "code",
   "execution_count": 14,
   "metadata": {
    "collapsed": false
   },
   "outputs": [
    {
     "data": {
      "text/plain": [
       "<matplotlib.axes._subplots.AxesSubplot at 0x11b4f15d0>"
      ]
     },
     "execution_count": 14,
     "metadata": {},
     "output_type": "execute_result"
    },
    {
     "data": {
      "image/png": "[encoded data removed]",
      "text/plain": [
       "<matplotlib.figure.Figure at 0x11cf02d50>"
      ]
     },
     "metadata": {},
     "output_type": "display_data"
    }
   ],
   "source": [
    "# plot\n",
    "enrollment_counts.plot(kind='bar', title='Size of Cancer Trials', alpha=0.6, colormap='Accent', rot=20)"
   ]
  },
  {
   "cell_type": "code",
   "execution_count": 15,
   "metadata": {
    "collapsed": false
   },
   "outputs": [
    {
     "data": {
      "text/plain": [
       "Interventional    31562\n",
       "Observational      7594\n",
       "Name: Study Types, dtype: int64"
      ]
     },
     "execution_count": 15,
     "metadata": {},
     "output_type": "execute_result"
    }
   ],
   "source": [
    "# View value counts for Interventional vs. observational\n",
    "without_nulls_enrollment['Study Types'].value_counts()"
   ]
  },
  {
   "cell_type": "code",
   "execution_count": 16,
   "metadata": {
    "collapsed": true
   },
   "outputs": [],
   "source": [
    "# Create dummies for study type - this will enable a stacked bar graph\n",
    "dummies = pd.get_dummies(without_nulls_enrollment['Study Types'], prefix_sep='')"
   ]
  },
  {
   "cell_type": "code",
   "execution_count": 17,
   "metadata": {
    "collapsed": true
   },
   "outputs": [],
   "source": [
    "# Join dummies with df\n",
    "result = pd.concat([without_nulls_enrollment, dummies], axis=1)"
   ]
  },
  {
   "cell_type": "code",
   "execution_count": 18,
   "metadata": {
    "collapsed": true
   },
   "outputs": [],
   "source": [
    "# Create a groupby object that can be converted to a stacked bar graph\n",
    "enrollment_by_study_type =  result.groupby('Category').sum()[['Interventional', 'Observational']]"
   ]
  },
  {
   "cell_type": "code",
   "execution_count": 19,
   "metadata": {
    "collapsed": true
   },
   "outputs": [],
   "source": [
    "# Sort the groupby object you just created\n",
    "groupby_sorted = enrollment_by_study_type.sort_index(ascending=False)"
   ]
  },
  {
   "cell_type": "code",
   "execution_count": 20,
   "metadata": {
    "collapsed": false
   },
   "outputs": [
    {
     "data": {
      "text/plain": [
       "<matplotlib.axes._subplots.AxesSubplot at 0x11b4f1310>"
      ]
     },
     "execution_count": 20,
     "metadata": {},
     "output_type": "execute_result"
    },
    {
     "data": {
      "image/png": "[encoded data removed]",
      "text/plain": [
       "<matplotlib.figure.Figure at 0x11b4f1110>"
      ]
     },
     "metadata": {},
     "output_type": "display_data"
    }
   ],
   "source": [
    "groupby_sorted.plot(kind='barh', stacked=True, alpha=0.6, colormap='Accent')"
   ]
  },
  {
   "cell_type": "code",
   "execution_count": 21,
   "metadata": {
    "collapsed": true
   },
   "outputs": [],
   "source": [
    "# build out list of tuples with enrollment category and amount of total trials in that category\n",
    "tuples = []\n",
    "for cat in without_nulls_enrollment['Category'].unique().sort_values():\n",
    "    tuples.append((without_nulls_enrollment.loc[without_nulls_enrollment['Category'] == cat].shape[0], cat))"
   ]
  },
  {
   "cell_type": "code",
   "execution_count": 22,
   "metadata": {
    "collapsed": false
   },
   "outputs": [
    {
     "data": {
      "text/plain": [
       "[(9714, '< 30'),\n",
       " (9077, '31-60'),\n",
       " (5638, '61-100'),\n",
       " (6019, '101-200'),\n",
       " (3762, '201-400'),\n",
       " (3004, '401-1000'),\n",
       " (1446, '1000-5000'),\n",
       " (496, '>5000')]"
      ]
     },
     "execution_count": 22,
     "metadata": {},
     "output_type": "execute_result"
    }
   ],
   "source": [
    "tuples"
   ]
  },
  {
   "cell_type": "code",
   "execution_count": 23,
   "metadata": {
    "collapsed": true
   },
   "outputs": [],
   "source": [
    "# build out another list of tuples, this time with the number of interventional trials per category\n",
    "int_per_cat = []\n",
    "for total, cat in tuples:\n",
    "    int_per_cat.append((without_nulls_enrollment.loc[(without_nulls_enrollment['Study Types'] == 'Interventional') & (without_nulls_enrollment['Category'] == cat)].shape[0], cat))"
   ]
  },
  {
   "cell_type": "code",
   "execution_count": 24,
   "metadata": {
    "collapsed": false
   },
   "outputs": [
    {
     "data": {
      "text/plain": [
       "[(8602, '< 30'),\n",
       " (8038, '31-60'),\n",
       " (4655, '61-100'),\n",
       " (4698, '101-200'),\n",
       " (2713, '201-400'),\n",
       " (1964, '401-1000'),\n",
       " (703, '1000-5000'),\n",
       " (189, '>5000')]"
      ]
     },
     "execution_count": 24,
     "metadata": {},
     "output_type": "execute_result"
    }
   ],
   "source": [
    "int_per_cat"
   ]
  },
  {
   "cell_type": "code",
   "execution_count": 25,
   "metadata": {
    "collapsed": true
   },
   "outputs": [],
   "source": [
    "# zip together the totals and the interventionals\n",
    "tot_vs_int = zip([i[0] for i in tuples], [i[0] for i in int_per_cat])"
   ]
  },
  {
   "cell_type": "code",
   "execution_count": 26,
   "metadata": {
    "collapsed": false
   },
   "outputs": [
    {
     "data": {
      "text/plain": [
       "[(9714, 8602),\n",
       " (9077, 8038),\n",
       " (5638, 4655),\n",
       " (6019, 4698),\n",
       " (3762, 2713),\n",
       " (3004, 1964),\n",
       " (1446, 703),\n",
       " (496, 189)]"
      ]
     },
     "execution_count": 26,
     "metadata": {},
     "output_type": "execute_result"
    }
   ],
   "source": [
    "tot_vs_int"
   ]
  },
  {
   "cell_type": "code",
   "execution_count": 27,
   "metadata": {
    "collapsed": true
   },
   "outputs": [],
   "source": [
    "# now just get a list of the percent of interventional trials per category\n",
    "percent_int_per_cat = []\n",
    "for total, inter in tot_vs_int:\n",
    "    percent_int_per_cat.append(float(inter)/total)"
   ]
  },
  {
   "cell_type": "code",
   "execution_count": 28,
   "metadata": {
    "collapsed": false
   },
   "outputs": [
    {
     "data": {
      "text/plain": [
       "[0.885526044883673,\n",
       " 0.8855348683485733,\n",
       " 0.8256473926924441,\n",
       " 0.780528326964612,\n",
       " 0.7211589580010632,\n",
       " 0.6537949400798935,\n",
       " 0.48616874135546334,\n",
       " 0.3810483870967742]"
      ]
     },
     "execution_count": 28,
     "metadata": {},
     "output_type": "execute_result"
    }
   ],
   "source": [
    "percent_int_per_cat"
   ]
  },
  {
   "cell_type": "code",
   "execution_count": 29,
   "metadata": {
    "collapsed": false
   },
   "outputs": [
    {
     "data": {
      "text/plain": [
       "[(1112, '< 30'),\n",
       " (1039, '31-60'),\n",
       " (983, '61-100'),\n",
       " (1321, '101-200'),\n",
       " (1049, '201-400'),\n",
       " (1040, '401-1000'),\n",
       " (743, '1000-5000'),\n",
       " (307, '>5000')]"
      ]
     },
     "execution_count": 29,
     "metadata": {},
     "output_type": "execute_result"
    }
   ],
   "source": [
    "# now i need to repeat for observational\n",
    "int_per_obs = []\n",
    "for total, cat in tuples:\n",
    "    int_per_obs.append((without_nulls_enrollment.loc[(without_nulls_enrollment['Study Types'] == 'Observational') & (without_nulls_enrollment['Category'] == cat)].shape[0], cat))\n",
    "int_per_obs"
   ]
  },
  {
   "cell_type": "code",
   "execution_count": 30,
   "metadata": {
    "collapsed": false
   },
   "outputs": [
    {
     "data": {
      "text/plain": [
       "[(9714, 1112),\n",
       " (9077, 1039),\n",
       " (5638, 983),\n",
       " (6019, 1321),\n",
       " (3762, 1049),\n",
       " (3004, 1040),\n",
       " (1446, 743),\n",
       " (496, 307)]"
      ]
     },
     "execution_count": 30,
     "metadata": {},
     "output_type": "execute_result"
    }
   ],
   "source": [
    "# now zip together with totals\n",
    "tot_vs_obs = zip([i[0] for i in tuples], [i[0] for i in int_per_obs])\n",
    "tot_vs_obs"
   ]
  },
  {
   "cell_type": "code",
   "execution_count": 31,
   "metadata": {
    "collapsed": false
   },
   "outputs": [
    {
     "data": {
      "text/plain": [
       "[0.11447395511632695,\n",
       " 0.11446513165142669,\n",
       " 0.17435260730755586,\n",
       " 0.21947167303538795,\n",
       " 0.2788410419989367,\n",
       " 0.34620505992010653,\n",
       " 0.5138312586445366,\n",
       " 0.6189516129032258]"
      ]
     },
     "execution_count": 31,
     "metadata": {},
     "output_type": "execute_result"
    }
   ],
   "source": [
    "# get percentages\n",
    "percent_int_per_obs = []\n",
    "for tot, obs in tot_vs_obs:\n",
    "    percent_int_per_obs.append(float(obs)/tot)\n",
    "percent_int_per_obs"
   ]
  },
  {
   "cell_type": "code",
   "execution_count": 32,
   "metadata": {
    "collapsed": true
   },
   "outputs": [],
   "source": [
    "# create df for the percent interventionals vs categories\n",
    "categories = [i[1] for i in tuples]\n",
    "int_df = pd.DataFrame({'category':categories, 'percent': percent_int_per_cat, 'study-type':'interventional'})"
   ]
  },
  {
   "cell_type": "code",
   "execution_count": 33,
   "metadata": {
    "collapsed": false
   },
   "outputs": [
    {
     "data": {
      "text/html": [
       "<div>\n",
       "<table border=\"1\" class=\"dataframe\">\n",
       "  <thead>\n",
       "    <tr style=\"text-align: right;\">\n",
       "      <th></th>\n",
       "      <th>category</th>\n",
       "      <th>percent</th>\n",
       "      <th>study-type</th>\n",
       "    </tr>\n",
       "  </thead>\n",
       "  <tbody>\n",
       "    <tr>\n",
       "      <th>0</th>\n",
       "      <td>&lt; 30</td>\n",
       "      <td>0.885526</td>\n",
       "      <td>interventional</td>\n",
       "    </tr>\n",
       "    <tr>\n",
       "      <th>1</th>\n",
       "      <td>31-60</td>\n",
       "      <td>0.885535</td>\n",
       "      <td>interventional</td>\n",
       "    </tr>\n",
       "    <tr>\n",
       "      <th>2</th>\n",
       "      <td>61-100</td>\n",
       "      <td>0.825647</td>\n",
       "      <td>interventional</td>\n",
       "    </tr>\n",
       "    <tr>\n",
       "      <th>3</th>\n",
       "      <td>101-200</td>\n",
       "      <td>0.780528</td>\n",
       "      <td>interventional</td>\n",
       "    </tr>\n",
       "    <tr>\n",
       "      <th>4</th>\n",
       "      <td>201-400</td>\n",
       "      <td>0.721159</td>\n",
       "      <td>interventional</td>\n",
       "    </tr>\n",
       "    <tr>\n",
       "      <th>5</th>\n",
       "      <td>401-1000</td>\n",
       "      <td>0.653795</td>\n",
       "      <td>interventional</td>\n",
       "    </tr>\n",
       "    <tr>\n",
       "      <th>6</th>\n",
       "      <td>1000-5000</td>\n",
       "      <td>0.486169</td>\n",
       "      <td>interventional</td>\n",
       "    </tr>\n",
       "    <tr>\n",
       "      <th>7</th>\n",
       "      <td>&gt;5000</td>\n",
       "      <td>0.381048</td>\n",
       "      <td>interventional</td>\n",
       "    </tr>\n",
       "  </tbody>\n",
       "</table>\n",
       "</div>"
      ],
      "text/plain": [
       "    category   percent      study-type\n",
       "0       < 30  0.885526  interventional\n",
       "1      31-60  0.885535  interventional\n",
       "2     61-100  0.825647  interventional\n",
       "3    101-200  0.780528  interventional\n",
       "4    201-400  0.721159  interventional\n",
       "5   401-1000  0.653795  interventional\n",
       "6  1000-5000  0.486169  interventional\n",
       "7      >5000  0.381048  interventional"
      ]
     },
     "execution_count": 33,
     "metadata": {},
     "output_type": "execute_result"
    }
   ],
   "source": [
    "int_df"
   ]
  },
  {
   "cell_type": "code",
   "execution_count": 34,
   "metadata": {
    "collapsed": true
   },
   "outputs": [],
   "source": [
    "# create df for percent observationals vs categories\n",
    "obs_df = pd.DataFrame({'category': categories, 'percent': percent_int_per_obs, 'study-type':'observational'})"
   ]
  },
  {
   "cell_type": "code",
   "execution_count": 35,
   "metadata": {
    "collapsed": false
   },
   "outputs": [
    {
     "data": {
      "text/html": [
       "<div>\n",
       "<table border=\"1\" class=\"dataframe\">\n",
       "  <thead>\n",
       "    <tr style=\"text-align: right;\">\n",
       "      <th></th>\n",
       "      <th>category</th>\n",
       "      <th>percent</th>\n",
       "      <th>study-type</th>\n",
       "    </tr>\n",
       "  </thead>\n",
       "  <tbody>\n",
       "    <tr>\n",
       "      <th>0</th>\n",
       "      <td>&lt; 30</td>\n",
       "      <td>0.114474</td>\n",
       "      <td>observational</td>\n",
       "    </tr>\n",
       "    <tr>\n",
       "      <th>1</th>\n",
       "      <td>31-60</td>\n",
       "      <td>0.114465</td>\n",
       "      <td>observational</td>\n",
       "    </tr>\n",
       "    <tr>\n",
       "      <th>2</th>\n",
       "      <td>61-100</td>\n",
       "      <td>0.174353</td>\n",
       "      <td>observational</td>\n",
       "    </tr>\n",
       "    <tr>\n",
       "      <th>3</th>\n",
       "      <td>101-200</td>\n",
       "      <td>0.219472</td>\n",
       "      <td>observational</td>\n",
       "    </tr>\n",
       "    <tr>\n",
       "      <th>4</th>\n",
       "      <td>201-400</td>\n",
       "      <td>0.278841</td>\n",
       "      <td>observational</td>\n",
       "    </tr>\n",
       "    <tr>\n",
       "      <th>5</th>\n",
       "      <td>401-1000</td>\n",
       "      <td>0.346205</td>\n",
       "      <td>observational</td>\n",
       "    </tr>\n",
       "    <tr>\n",
       "      <th>6</th>\n",
       "      <td>1000-5000</td>\n",
       "      <td>0.513831</td>\n",
       "      <td>observational</td>\n",
       "    </tr>\n",
       "    <tr>\n",
       "      <th>7</th>\n",
       "      <td>&gt;5000</td>\n",
       "      <td>0.618952</td>\n",
       "      <td>observational</td>\n",
       "    </tr>\n",
       "  </tbody>\n",
       "</table>\n",
       "</div>"
      ],
      "text/plain": [
       "    category   percent     study-type\n",
       "0       < 30  0.114474  observational\n",
       "1      31-60  0.114465  observational\n",
       "2     61-100  0.174353  observational\n",
       "3    101-200  0.219472  observational\n",
       "4    201-400  0.278841  observational\n",
       "5   401-1000  0.346205  observational\n",
       "6  1000-5000  0.513831  observational\n",
       "7      >5000  0.618952  observational"
      ]
     },
     "execution_count": 35,
     "metadata": {},
     "output_type": "execute_result"
    }
   ],
   "source": [
    "obs_df"
   ]
  },
  {
   "cell_type": "code",
   "execution_count": 36,
   "metadata": {
    "collapsed": true
   },
   "outputs": [],
   "source": [
    "# concat int_df and obs_df\n",
    "frames = [int_df, obs_df]\n",
    "df_for_plot = pd.concat(frames, ignore_index=True)"
   ]
  },
  {
   "cell_type": "code",
   "execution_count": 37,
   "metadata": {
    "collapsed": true
   },
   "outputs": [],
   "source": [
    "# multiply percent column by 100\n",
    "df_for_plot['percent'] = df_for_plot['percent'] * 100"
   ]
  },
  {
   "cell_type": "code",
   "execution_count": 38,
   "metadata": {
    "collapsed": false
   },
   "outputs": [
    {
     "data": {
      "text/plain": [
       "<matplotlib.axes._subplots.AxesSubplot at 0x104034410>"
      ]
     },
     "execution_count": 38,
     "metadata": {},
     "output_type": "execute_result"
    },
    {
     "data": {
      "image/png": "[encoded data removed]",
      "text/plain": [
       "<matplotlib.figure.Figure at 0x117056650>"
      ]
     },
     "metadata": {},
     "output_type": "display_data"
    }
   ],
   "source": [
    "sns.pointplot(x='category', y='percent', hue='study-type', data=df_for_plot)"
   ]
  },
  {
   "cell_type": "code",
   "execution_count": 39,
   "metadata": {
    "collapsed": false
   },
   "outputs": [
    {
     "data": {
      "text/html": [
       "<div>\n",
       "<table border=\"1\" class=\"dataframe\">\n",
       "  <thead>\n",
       "    <tr style=\"text-align: right;\">\n",
       "      <th></th>\n",
       "      <th>category</th>\n",
       "      <th>percent</th>\n",
       "      <th>study-type</th>\n",
       "    </tr>\n",
       "  </thead>\n",
       "  <tbody>\n",
       "    <tr>\n",
       "      <th>0</th>\n",
       "      <td>&lt; 30</td>\n",
       "      <td>88.552604</td>\n",
       "      <td>interventional</td>\n",
       "    </tr>\n",
       "    <tr>\n",
       "      <th>1</th>\n",
       "      <td>31-60</td>\n",
       "      <td>88.553487</td>\n",
       "      <td>interventional</td>\n",
       "    </tr>\n",
       "    <tr>\n",
       "      <th>2</th>\n",
       "      <td>61-100</td>\n",
       "      <td>82.564739</td>\n",
       "      <td>interventional</td>\n",
       "    </tr>\n",
       "    <tr>\n",
       "      <th>3</th>\n",
       "      <td>101-200</td>\n",
       "      <td>78.052833</td>\n",
       "      <td>interventional</td>\n",
       "    </tr>\n",
       "    <tr>\n",
       "      <th>4</th>\n",
       "      <td>201-400</td>\n",
       "      <td>72.115896</td>\n",
       "      <td>interventional</td>\n",
       "    </tr>\n",
       "    <tr>\n",
       "      <th>5</th>\n",
       "      <td>401-1000</td>\n",
       "      <td>65.379494</td>\n",
       "      <td>interventional</td>\n",
       "    </tr>\n",
       "    <tr>\n",
       "      <th>6</th>\n",
       "      <td>1000-5000</td>\n",
       "      <td>48.616874</td>\n",
       "      <td>interventional</td>\n",
       "    </tr>\n",
       "    <tr>\n",
       "      <th>7</th>\n",
       "      <td>&gt;5000</td>\n",
       "      <td>38.104839</td>\n",
       "      <td>interventional</td>\n",
       "    </tr>\n",
       "    <tr>\n",
       "      <th>8</th>\n",
       "      <td>&lt; 30</td>\n",
       "      <td>11.447396</td>\n",
       "      <td>observational</td>\n",
       "    </tr>\n",
       "    <tr>\n",
       "      <th>9</th>\n",
       "      <td>31-60</td>\n",
       "      <td>11.446513</td>\n",
       "      <td>observational</td>\n",
       "    </tr>\n",
       "    <tr>\n",
       "      <th>10</th>\n",
       "      <td>61-100</td>\n",
       "      <td>17.435261</td>\n",
       "      <td>observational</td>\n",
       "    </tr>\n",
       "    <tr>\n",
       "      <th>11</th>\n",
       "      <td>101-200</td>\n",
       "      <td>21.947167</td>\n",
       "      <td>observational</td>\n",
       "    </tr>\n",
       "    <tr>\n",
       "      <th>12</th>\n",
       "      <td>201-400</td>\n",
       "      <td>27.884104</td>\n",
       "      <td>observational</td>\n",
       "    </tr>\n",
       "    <tr>\n",
       "      <th>13</th>\n",
       "      <td>401-1000</td>\n",
       "      <td>34.620506</td>\n",
       "      <td>observational</td>\n",
       "    </tr>\n",
       "    <tr>\n",
       "      <th>14</th>\n",
       "      <td>1000-5000</td>\n",
       "      <td>51.383126</td>\n",
       "      <td>observational</td>\n",
       "    </tr>\n",
       "    <tr>\n",
       "      <th>15</th>\n",
       "      <td>&gt;5000</td>\n",
       "      <td>61.895161</td>\n",
       "      <td>observational</td>\n",
       "    </tr>\n",
       "  </tbody>\n",
       "</table>\n",
       "</div>"
      ],
      "text/plain": [
       "     category    percent      study-type\n",
       "0        < 30  88.552604  interventional\n",
       "1       31-60  88.553487  interventional\n",
       "2      61-100  82.564739  interventional\n",
       "3     101-200  78.052833  interventional\n",
       "4     201-400  72.115896  interventional\n",
       "5    401-1000  65.379494  interventional\n",
       "6   1000-5000  48.616874  interventional\n",
       "7       >5000  38.104839  interventional\n",
       "8        < 30  11.447396   observational\n",
       "9       31-60  11.446513   observational\n",
       "10     61-100  17.435261   observational\n",
       "11    101-200  21.947167   observational\n",
       "12    201-400  27.884104   observational\n",
       "13   401-1000  34.620506   observational\n",
       "14  1000-5000  51.383126   observational\n",
       "15      >5000  61.895161   observational"
      ]
     },
     "execution_count": 39,
     "metadata": {},
     "output_type": "execute_result"
    }
   ],
   "source": [
    "df_for_plot"
   ]
  },
  {
   "cell_type": "code",
   "execution_count": null,
   "metadata": {
    "collapsed": true
   },
   "outputs": [],
   "source": []
  }
 ],
 "metadata": {
  "kernelspec": {
   "display_name": "Python 2",
   "language": "python",
   "name": "python2"
  },
  "language_info": {
   "codemirror_mode": {
    "name": "ipython",
    "version": 2
   },
   "file_extension": ".py",
   "mimetype": "text/x-python",
   "name": "python",
   "nbconvert_exporter": "python",
   "pygments_lexer": "ipython2",
   "version": "2.7.11"
  }
 },
 "nbformat": 4,
 "nbformat_minor": 0
}
