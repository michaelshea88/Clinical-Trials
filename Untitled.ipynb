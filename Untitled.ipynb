{
 "cells": [
  {
   "cell_type": "code",
   "execution_count": 1,
   "metadata": {
    "collapsed": true
   },
   "outputs": [],
   "source": [
    "import pandas as pd\n",
    "import numpy as np\n",
    "from matplotlib import pyplot as plt\n",
    "% matplotlib inline\n",
    "import seaborn as sns"
   ]
  },
  {
   "cell_type": "code",
   "execution_count": 32,
   "metadata": {
    "collapsed": true
   },
   "outputs": [],
   "source": [
    "df = pd.read_csv('assets/study_fields.csv')"
   ]
  },
  {
   "cell_type": "code",
   "execution_count": 33,
   "metadata": {
    "collapsed": false
   },
   "outputs": [
    {
     "data": {
      "text/plain": [
       "Index([u'Rank', u'NCT Number', u'Title', u'Recruitment', u'Study Results',\n",
       "       u'Conditions', u'Interventions', u'Sponsor/Collaborators', u'Gender',\n",
       "       u'Age', u'Phases', u'Enrollment', u'Funded Bys', u'Study Types',\n",
       "       u'Study Designs', u'Other IDs', u'First Received', u'Start Date',\n",
       "       u'Completion Date', u'Last Updated', u'Last Verified',\n",
       "       u'Results First Received', u'Acronym', u'Primary Completion Date',\n",
       "       u'Outcome Measures', u'URL'],\n",
       "      dtype='object')"
      ]
     },
     "execution_count": 33,
     "metadata": {},
     "output_type": "execute_result"
    }
   ],
   "source": [
    "df.columns"
   ]
  },
  {
   "cell_type": "code",
   "execution_count": 34,
   "metadata": {
    "collapsed": true
   },
   "outputs": [],
   "source": [
    "df.replace(to_replace=['Other|NIH', 'NIH|Other, Other|U.S. Fed'], value='Other, NIH', inplace=True)"
   ]
  },
  {
   "cell_type": "code",
   "execution_count": 35,
   "metadata": {
    "collapsed": true
   },
   "outputs": [],
   "source": [
    "df.replace(to_replace=['Other|Industry', 'Industry|Other'], value='Other, Industry', inplace=True)"
   ]
  },
  {
   "cell_type": "code",
   "execution_count": 36,
   "metadata": {
    "collapsed": true
   },
   "outputs": [],
   "source": [
    "df.replace(to_replace=['Industry|NIH', 'NIH|Industry'], value='Industry, NIH', inplace=True)"
   ]
  },
  {
   "cell_type": "code",
   "execution_count": 37,
   "metadata": {
    "collapsed": true
   },
   "outputs": [],
   "source": [
    "df.replace(to_replace=['Other|NIH|Industry', 'Other|Industry|NIH'], value='Other, NIH, Industry', inplace=True)"
   ]
  },
  {
   "cell_type": "code",
   "execution_count": 69,
   "metadata": {
    "collapsed": true
   },
   "outputs": [],
   "source": [
    "interventional = df.loc[df['Study Types'] == 'Interventional']"
   ]
  },
  {
   "cell_type": "code",
   "execution_count": 70,
   "metadata": {
    "collapsed": false
   },
   "outputs": [
    {
     "data": {
      "text/plain": [
       "(35610, 26)"
      ]
     },
     "execution_count": 70,
     "metadata": {},
     "output_type": "execute_result"
    }
   ],
   "source": [
    "interventional.shape"
   ]
  },
  {
   "cell_type": "code",
   "execution_count": 71,
   "metadata": {
    "collapsed": false
   },
   "outputs": [
    {
     "name": "stderr",
     "output_type": "stream",
     "text": [
      "/Users/michaelshea/anaconda/lib/python2.7/site-packages/ipykernel/__main__.py:1: SettingWithCopyWarning: \n",
      "A value is trying to be set on a copy of a slice from a DataFrame\n",
      "\n",
      "See the caveats in the documentation: http://pandas.pydata.org/pandas-docs/stable/indexing.html#indexing-view-versus-copy\n",
      "  if __name__ == '__main__':\n"
     ]
    }
   ],
   "source": [
    "interventional.dropna(axis=0, inplace=True)"
   ]
  },
  {
   "cell_type": "code",
   "execution_count": 72,
   "metadata": {
    "collapsed": false
   },
   "outputs": [
    {
     "data": {
      "text/plain": [
       "(27946, 26)"
      ]
     },
     "execution_count": 72,
     "metadata": {},
     "output_type": "execute_result"
    }
   ],
   "source": [
    "interventional.shape"
   ]
  },
  {
   "cell_type": "code",
   "execution_count": 75,
   "metadata": {
    "collapsed": false
   },
   "outputs": [
    {
     "data": {
      "text/plain": [
       "Phase 2            11507\n",
       "Phase 1             6543\n",
       "Phase 3             4033\n",
       "Phase 1|Phase 2     3152\n",
       "Phase 4             1565\n",
       "Phase 2|Phase 3      643\n",
       "Phase 0              503\n",
       "Name: Phases, dtype: int64"
      ]
     },
     "execution_count": 75,
     "metadata": {},
     "output_type": "execute_result"
    }
   ],
   "source": [
    "interventional.Phases.value_counts()"
   ]
  },
  {
   "cell_type": "code",
   "execution_count": 80,
   "metadata": {
    "collapsed": false
   },
   "outputs": [],
   "source": [
    "dummies = pd.get_dummies(interventional['Funded Bys'], prefix_sep='')"
   ]
  },
  {
   "cell_type": "code",
   "execution_count": 82,
   "metadata": {
    "collapsed": false
   },
   "outputs": [],
   "source": [
    "result = pd.concat([interventional, dummies], axis=1)"
   ]
  },
  {
   "cell_type": "code",
   "execution_count": 84,
   "metadata": {
    "collapsed": false
   },
   "outputs": [
    {
     "data": {
      "text/html": [
       "<div>\n",
       "<table border=\"1\" class=\"dataframe\">\n",
       "  <thead>\n",
       "    <tr style=\"text-align: right;\">\n",
       "      <th></th>\n",
       "      <th>Rank</th>\n",
       "      <th>Industry</th>\n",
       "      <th>Industry, NIH</th>\n",
       "      <th>Industry|NIH|Other</th>\n",
       "      <th>Industry|Other|NIH</th>\n",
       "      <th>Industry|Other|U.S. Fed</th>\n",
       "      <th>Industry|Other|U.S. Fed|NIH</th>\n",
       "      <th>Industry|U.S. Fed</th>\n",
       "      <th>NIH</th>\n",
       "      <th>NIH|Other</th>\n",
       "      <th>...</th>\n",
       "      <th>Other|NIH|U.S. Fed</th>\n",
       "      <th>Other|NIH|U.S. Fed|Industry</th>\n",
       "      <th>Other|U.S. Fed</th>\n",
       "      <th>Other|U.S. Fed|Industry</th>\n",
       "      <th>Other|U.S. Fed|NIH</th>\n",
       "      <th>U.S. Fed</th>\n",
       "      <th>U.S. Fed|Industry</th>\n",
       "      <th>U.S. Fed|NIH</th>\n",
       "      <th>U.S. Fed|Other</th>\n",
       "      <th>U.S. Fed|Other|Industry</th>\n",
       "    </tr>\n",
       "    <tr>\n",
       "      <th>Phases</th>\n",
       "      <th></th>\n",
       "      <th></th>\n",
       "      <th></th>\n",
       "      <th></th>\n",
       "      <th></th>\n",
       "      <th></th>\n",
       "      <th></th>\n",
       "      <th></th>\n",
       "      <th></th>\n",
       "      <th></th>\n",
       "      <th></th>\n",
       "      <th></th>\n",
       "      <th></th>\n",
       "      <th></th>\n",
       "      <th></th>\n",
       "      <th></th>\n",
       "      <th></th>\n",
       "      <th></th>\n",
       "      <th></th>\n",
       "      <th></th>\n",
       "      <th></th>\n",
       "    </tr>\n",
       "  </thead>\n",
       "  <tbody>\n",
       "    <tr>\n",
       "      <th>Phase 0</th>\n",
       "      <td>11297036</td>\n",
       "      <td>11.0</td>\n",
       "      <td>0.0</td>\n",
       "      <td>0.0</td>\n",
       "      <td>0.0</td>\n",
       "      <td>0.0</td>\n",
       "      <td>0.0</td>\n",
       "      <td>0.0</td>\n",
       "      <td>15.0</td>\n",
       "      <td>3.0</td>\n",
       "      <td>...</td>\n",
       "      <td>0.0</td>\n",
       "      <td>0.0</td>\n",
       "      <td>2.0</td>\n",
       "      <td>1.0</td>\n",
       "      <td>0.0</td>\n",
       "      <td>1.0</td>\n",
       "      <td>0.0</td>\n",
       "      <td>0.0</td>\n",
       "      <td>0.0</td>\n",
       "      <td>0.0</td>\n",
       "    </tr>\n",
       "    <tr>\n",
       "      <th>Phase 1</th>\n",
       "      <td>126539747</td>\n",
       "      <td>2937.0</td>\n",
       "      <td>24.0</td>\n",
       "      <td>3.0</td>\n",
       "      <td>1.0</td>\n",
       "      <td>0.0</td>\n",
       "      <td>1.0</td>\n",
       "      <td>2.0</td>\n",
       "      <td>359.0</td>\n",
       "      <td>5.0</td>\n",
       "      <td>...</td>\n",
       "      <td>2.0</td>\n",
       "      <td>0.0</td>\n",
       "      <td>18.0</td>\n",
       "      <td>0.0</td>\n",
       "      <td>1.0</td>\n",
       "      <td>3.0</td>\n",
       "      <td>0.0</td>\n",
       "      <td>0.0</td>\n",
       "      <td>1.0</td>\n",
       "      <td>0.0</td>\n",
       "    </tr>\n",
       "    <tr>\n",
       "      <th>Phase 1|Phase 2</th>\n",
       "      <td>62959082</td>\n",
       "      <td>916.0</td>\n",
       "      <td>11.0</td>\n",
       "      <td>1.0</td>\n",
       "      <td>1.0</td>\n",
       "      <td>2.0</td>\n",
       "      <td>0.0</td>\n",
       "      <td>2.0</td>\n",
       "      <td>137.0</td>\n",
       "      <td>4.0</td>\n",
       "      <td>...</td>\n",
       "      <td>0.0</td>\n",
       "      <td>0.0</td>\n",
       "      <td>6.0</td>\n",
       "      <td>1.0</td>\n",
       "      <td>1.0</td>\n",
       "      <td>5.0</td>\n",
       "      <td>0.0</td>\n",
       "      <td>1.0</td>\n",
       "      <td>2.0</td>\n",
       "      <td>0.0</td>\n",
       "    </tr>\n",
       "    <tr>\n",
       "      <th>Phase 2</th>\n",
       "      <td>235633462</td>\n",
       "      <td>2521.0</td>\n",
       "      <td>16.0</td>\n",
       "      <td>2.0</td>\n",
       "      <td>1.0</td>\n",
       "      <td>0.0</td>\n",
       "      <td>0.0</td>\n",
       "      <td>5.0</td>\n",
       "      <td>530.0</td>\n",
       "      <td>27.0</td>\n",
       "      <td>...</td>\n",
       "      <td>1.0</td>\n",
       "      <td>0.0</td>\n",
       "      <td>22.0</td>\n",
       "      <td>5.0</td>\n",
       "      <td>0.0</td>\n",
       "      <td>4.0</td>\n",
       "      <td>5.0</td>\n",
       "      <td>0.0</td>\n",
       "      <td>2.0</td>\n",
       "      <td>0.0</td>\n",
       "    </tr>\n",
       "    <tr>\n",
       "      <th>Phase 2|Phase 3</th>\n",
       "      <td>15510861</td>\n",
       "      <td>93.0</td>\n",
       "      <td>0.0</td>\n",
       "      <td>0.0</td>\n",
       "      <td>0.0</td>\n",
       "      <td>0.0</td>\n",
       "      <td>0.0</td>\n",
       "      <td>0.0</td>\n",
       "      <td>9.0</td>\n",
       "      <td>0.0</td>\n",
       "      <td>...</td>\n",
       "      <td>0.0</td>\n",
       "      <td>0.0</td>\n",
       "      <td>0.0</td>\n",
       "      <td>0.0</td>\n",
       "      <td>0.0</td>\n",
       "      <td>1.0</td>\n",
       "      <td>0.0</td>\n",
       "      <td>0.0</td>\n",
       "      <td>1.0</td>\n",
       "      <td>0.0</td>\n",
       "    </tr>\n",
       "    <tr>\n",
       "      <th>Phase 3</th>\n",
       "      <td>94403220</td>\n",
       "      <td>1457.0</td>\n",
       "      <td>3.0</td>\n",
       "      <td>0.0</td>\n",
       "      <td>1.0</td>\n",
       "      <td>0.0</td>\n",
       "      <td>0.0</td>\n",
       "      <td>1.0</td>\n",
       "      <td>59.0</td>\n",
       "      <td>7.0</td>\n",
       "      <td>...</td>\n",
       "      <td>1.0</td>\n",
       "      <td>1.0</td>\n",
       "      <td>5.0</td>\n",
       "      <td>0.0</td>\n",
       "      <td>1.0</td>\n",
       "      <td>3.0</td>\n",
       "      <td>0.0</td>\n",
       "      <td>2.0</td>\n",
       "      <td>3.0</td>\n",
       "      <td>1.0</td>\n",
       "    </tr>\n",
       "    <tr>\n",
       "      <th>Phase 4</th>\n",
       "      <td>47497183</td>\n",
       "      <td>364.0</td>\n",
       "      <td>0.0</td>\n",
       "      <td>0.0</td>\n",
       "      <td>0.0</td>\n",
       "      <td>0.0</td>\n",
       "      <td>0.0</td>\n",
       "      <td>0.0</td>\n",
       "      <td>7.0</td>\n",
       "      <td>1.0</td>\n",
       "      <td>...</td>\n",
       "      <td>0.0</td>\n",
       "      <td>0.0</td>\n",
       "      <td>5.0</td>\n",
       "      <td>0.0</td>\n",
       "      <td>0.0</td>\n",
       "      <td>6.0</td>\n",
       "      <td>3.0</td>\n",
       "      <td>0.0</td>\n",
       "      <td>1.0</td>\n",
       "      <td>0.0</td>\n",
       "    </tr>\n",
       "  </tbody>\n",
       "</table>\n",
       "<p>7 rows × 27 columns</p>\n",
       "</div>"
      ],
      "text/plain": [
       "                      Rank  Industry  Industry, NIH  Industry|NIH|Other  \\\n",
       "Phases                                                                    \n",
       "Phase 0           11297036      11.0            0.0                 0.0   \n",
       "Phase 1          126539747    2937.0           24.0                 3.0   \n",
       "Phase 1|Phase 2   62959082     916.0           11.0                 1.0   \n",
       "Phase 2          235633462    2521.0           16.0                 2.0   \n",
       "Phase 2|Phase 3   15510861      93.0            0.0                 0.0   \n",
       "Phase 3           94403220    1457.0            3.0                 0.0   \n",
       "Phase 4           47497183     364.0            0.0                 0.0   \n",
       "\n",
       "                 Industry|Other|NIH  Industry|Other|U.S. Fed  \\\n",
       "Phases                                                         \n",
       "Phase 0                         0.0                      0.0   \n",
       "Phase 1                         1.0                      0.0   \n",
       "Phase 1|Phase 2                 1.0                      2.0   \n",
       "Phase 2                         1.0                      0.0   \n",
       "Phase 2|Phase 3                 0.0                      0.0   \n",
       "Phase 3                         1.0                      0.0   \n",
       "Phase 4                         0.0                      0.0   \n",
       "\n",
       "                 Industry|Other|U.S. Fed|NIH  Industry|U.S. Fed    NIH  \\\n",
       "Phases                                                                   \n",
       "Phase 0                                  0.0                0.0   15.0   \n",
       "Phase 1                                  1.0                2.0  359.0   \n",
       "Phase 1|Phase 2                          0.0                2.0  137.0   \n",
       "Phase 2                                  0.0                5.0  530.0   \n",
       "Phase 2|Phase 3                          0.0                0.0    9.0   \n",
       "Phase 3                                  0.0                1.0   59.0   \n",
       "Phase 4                                  0.0                0.0    7.0   \n",
       "\n",
       "                 NIH|Other           ...             Other|NIH|U.S. Fed  \\\n",
       "Phases                               ...                                  \n",
       "Phase 0                3.0           ...                            0.0   \n",
       "Phase 1                5.0           ...                            2.0   \n",
       "Phase 1|Phase 2        4.0           ...                            0.0   \n",
       "Phase 2               27.0           ...                            1.0   \n",
       "Phase 2|Phase 3        0.0           ...                            0.0   \n",
       "Phase 3                7.0           ...                            1.0   \n",
       "Phase 4                1.0           ...                            0.0   \n",
       "\n",
       "                 Other|NIH|U.S. Fed|Industry  Other|U.S. Fed  \\\n",
       "Phases                                                         \n",
       "Phase 0                                  0.0             2.0   \n",
       "Phase 1                                  0.0            18.0   \n",
       "Phase 1|Phase 2                          0.0             6.0   \n",
       "Phase 2                                  0.0            22.0   \n",
       "Phase 2|Phase 3                          0.0             0.0   \n",
       "Phase 3                                  1.0             5.0   \n",
       "Phase 4                                  0.0             5.0   \n",
       "\n",
       "                 Other|U.S. Fed|Industry  Other|U.S. Fed|NIH  U.S. Fed  \\\n",
       "Phases                                                                   \n",
       "Phase 0                              1.0                 0.0       1.0   \n",
       "Phase 1                              0.0                 1.0       3.0   \n",
       "Phase 1|Phase 2                      1.0                 1.0       5.0   \n",
       "Phase 2                              5.0                 0.0       4.0   \n",
       "Phase 2|Phase 3                      0.0                 0.0       1.0   \n",
       "Phase 3                              0.0                 1.0       3.0   \n",
       "Phase 4                              0.0                 0.0       6.0   \n",
       "\n",
       "                 U.S. Fed|Industry  U.S. Fed|NIH  U.S. Fed|Other  \\\n",
       "Phases                                                             \n",
       "Phase 0                        0.0           0.0             0.0   \n",
       "Phase 1                        0.0           0.0             1.0   \n",
       "Phase 1|Phase 2                0.0           1.0             2.0   \n",
       "Phase 2                        5.0           0.0             2.0   \n",
       "Phase 2|Phase 3                0.0           0.0             1.0   \n",
       "Phase 3                        0.0           2.0             3.0   \n",
       "Phase 4                        3.0           0.0             1.0   \n",
       "\n",
       "                 U.S. Fed|Other|Industry  \n",
       "Phases                                    \n",
       "Phase 0                              0.0  \n",
       "Phase 1                              0.0  \n",
       "Phase 1|Phase 2                      0.0  \n",
       "Phase 2                              0.0  \n",
       "Phase 2|Phase 3                      0.0  \n",
       "Phase 3                              1.0  \n",
       "Phase 4                              0.0  \n",
       "\n",
       "[7 rows x 27 columns]"
      ]
     },
     "execution_count": 84,
     "metadata": {},
     "output_type": "execute_result"
    }
   ],
   "source": [
    "result.groupby('Phases').sum()"
   ]
  },
  {
   "cell_type": "code",
   "execution_count": 85,
   "metadata": {
    "collapsed": true
   },
   "outputs": [],
   "source": [
    "# need to get just main categories to show up"
   ]
  },
  {
   "cell_type": "code",
   "execution_count": null,
   "metadata": {
    "collapsed": true
   },
   "outputs": [],
   "source": []
  }
 ],
 "metadata": {
  "kernelspec": {
   "display_name": "Python 2",
   "language": "python",
   "name": "python2"
  },
  "language_info": {
   "codemirror_mode": {
    "name": "ipython",
    "version": 2
   },
   "file_extension": ".py",
   "mimetype": "text/x-python",
   "name": "python",
   "nbconvert_exporter": "python",
   "pygments_lexer": "ipython2",
   "version": "2.7.11"
  }
 },
 "nbformat": 4,
 "nbformat_minor": 0
}
