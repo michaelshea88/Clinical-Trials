{
 "cells": [
  {
   "cell_type": "markdown",
   "metadata": {},
   "source": [
    "### Analysis of 40,000+ Oncology Studies from [ClinicalTrials.gov](www.clinicaltrials.gov)\n",
    "\n",
    "#### Initial Exploratory Data Analysis\n",
    "\n",
    "On August 18, 2016 I downloaded data on 43,692 clinical trials from the government registry [ClinicalTrials.gov](www.clinicaltrials.gov). I limited my search to all oncology-related trials in the database (there are over 200,000 trials in total). To cast as wide a net as possible, I included the following search terms in the \"Conditions\" field: cancer OR oncology OR neoplasm OR carcinoma OR leukemia OR lymphoma. After testing several combinations of terms, this set generated the largest number of search results.\n",
    "\n",
    "**In bold below** are the questions I sought to answer on my first go-round with the data."
   ]
  },
  {
   "cell_type": "code",
   "execution_count": 1,
   "metadata": {
    "collapsed": true
   },
   "outputs": [],
   "source": [
    "import pandas as pd\n",
    "import numpy as np\n",
    "from matplotlib import pyplot as plt\n",
    "% matplotlib inline\n",
    "import seaborn as sns"
   ]
  },
  {
   "cell_type": "code",
   "execution_count": 3,
   "metadata": {
    "collapsed": false
   },
   "outputs": [],
   "source": [
    "# Read in data\n",
    "trials = pd.read_csv('assets/study_fields.csv')"
   ]
  },
  {
   "cell_type": "code",
   "execution_count": 7,
   "metadata": {
    "collapsed": false
   },
   "outputs": [
    {
     "data": {
      "text/plain": [
       "(43962, 26)"
      ]
     },
     "execution_count": 7,
     "metadata": {},
     "output_type": "execute_result"
    }
   ],
   "source": [
    "# View dimensions\n",
    "trials.shape"
   ]
  },
  {
   "cell_type": "code",
   "execution_count": 10,
   "metadata": {
    "collapsed": false
   },
   "outputs": [
    {
     "data": {
      "text/plain": [
       "array(['Rank', 'NCT Number', 'Title', 'Recruitment', 'Study Results',\n",
       "       'Conditions', 'Interventions', 'Sponsor/Collaborators', 'Gender',\n",
       "       'Age', 'Phases', 'Enrollment', 'Funded Bys', 'Study Types',\n",
       "       'Study Designs', 'Other IDs', 'First Received', 'Start Date',\n",
       "       'Completion Date', 'Last Updated', 'Last Verified',\n",
       "       'Results First Received', 'Acronym', 'Primary Completion Date',\n",
       "       'Outcome Measures', 'URL'], dtype=object)"
      ]
     },
     "execution_count": 10,
     "metadata": {},
     "output_type": "execute_result"
    }
   ],
   "source": [
    "# View column headers\n",
    "trials.columns.values"
   ]
  },
  {
   "cell_type": "markdown",
   "metadata": {},
   "source": [
    "## What's the distribution of cancer types in the data set?"
   ]
  },
  {
   "cell_type": "markdown",
   "metadata": {
    "collapsed": false
   },
   "source": [
    "##### For example, how many trials for cervical cancer are there?"
   ]
  },
  {
   "cell_type": "code",
   "execution_count": 11,
   "metadata": {
    "collapsed": false
   },
   "outputs": [
    {
     "data": {
      "text/plain": [
       "False    43264\n",
       "True       698\n",
       "Name: Conditions, dtype: int64"
      ]
     },
     "execution_count": 11,
     "metadata": {},
     "output_type": "execute_result"
    }
   ],
   "source": [
    "# Search the \"Conditions\" column for cells that contain \"cerv\" for \"cervical\"\n",
    "trials.Conditions.str.contains('cerv', case=False).value_counts()"
   ]
  },
  {
   "cell_type": "markdown",
   "metadata": {},
   "source": [
    "##### Another example: kidney cancer is also called renal cell carcinoma. How many trials are there for either of these?"
   ]
  },
  {
   "cell_type": "code",
   "execution_count": 13,
   "metadata": {
    "collapsed": false
   },
   "outputs": [
    {
     "data": {
      "text/plain": [
       "False    42827\n",
       "True      1135\n",
       "Name: Conditions, dtype: int64"
      ]
     },
     "execution_count": 13,
     "metadata": {},
     "output_type": "execute_result"
    }
   ],
   "source": [
    "# Slice dataframe to get value counts for kidney cancer/renal cell carcinoma\n",
    "((trials['Conditions'].str.contains('renal', case=False)) | \n",
    "          (trials['Conditions'].str.contains('kidney', case=False))).value_counts()"
   ]
  },
  {
   "cell_type": "markdown",
   "metadata": {},
   "source": [
    "##### Add a dummy column for each of the major cancer types"
   ]
  },
  {
   "cell_type": "code",
   "execution_count": 14,
   "metadata": {
    "collapsed": true
   },
   "outputs": [],
   "source": [
    "# List of cancer sites\n",
    "cancer_sites = [('breast', 'Breast'), ('lung', 'Lung'), ('colo', 'Colorectal'), ('prostate', 'Prostate'),\n",
    "                ('pancrea', 'Pancreatic'), ('thyroid', 'Thyroid'), ('ovar', 'Ovarian'), ('melanoma', 'Melanoma'),\n",
    "               ('esoph', 'Esophageal'), ('myeloma', 'Multiple Myeloma'), ('lymphoma', 'Lymphomas'),\n",
    "                ('leukemia', 'Leukemias'), ('uter', 'Uterine'), ('bladder', 'Bladder'), ('cerv', 'Cervical'),\n",
    "               ('head and neck', 'Head and Neck'), ('liver', 'Liver'), ('testi', 'Testicular')]"
   ]
  },
  {
   "cell_type": "code",
   "execution_count": 15,
   "metadata": {
    "collapsed": true
   },
   "outputs": [],
   "source": [
    "# Add columns for cancer sites\n",
    "for search_term, site in cancer_sites:\n",
    "    trials[site] = trials.Conditions.str.contains(search_term, case=False)\n",
    "    trials[site] = trials[site].map({True:1, False:0})"
   ]
  },
  {
   "cell_type": "code",
   "execution_count": 16,
   "metadata": {
    "collapsed": true
   },
   "outputs": [],
   "source": [
    "# List of cancer sites with multiple names\n",
    "cancer_sites_mult_names = [(('brain', 'glio'), 'Brain'), (('kidney', 'renal'), 'Kidney'), (('stomach', 'gastric'), 'Gastric'),\n",
    "                           (('bone', 'osteos'), 'Bone'), (('soft tissue', 'gastrointestinal stromal'), 'Soft-tissue')]"
   ]
  },
  {
   "cell_type": "code",
   "execution_count": 17,
   "metadata": {
    "collapsed": false
   },
   "outputs": [],
   "source": [
    "# Add additional columns for cancer sites with multiple search terms\n",
    "for search_terms, site in cancer_sites_mult_names:\n",
    "    trials[site] = ((trials.Conditions.str.contains(search_terms[0], case=False)) | \n",
    "                     (trials.Conditions.str.contains(search_terms[1], case=False)))\n",
    "    trials[site] = trials[site].map({True:1, False:0})"
   ]
  },
  {
   "cell_type": "markdown",
   "metadata": {},
   "source": [
    "##### Graph the data with plotly"
   ]
  },
  {
   "cell_type": "code",
   "execution_count": 26,
   "metadata": {
    "collapsed": false
   },
   "outputs": [
    {
     "data": {
      "text/plain": [
       "array([5013, 3578, 3042, 2726, 2707, 2207, 1677, 1542, 1515, 1378, 1249,\n",
       "       1135, 1046,  985,  855,  793,  698,  588,  585,  437,  425,  393,\n",
       "        349])"
      ]
     },
     "execution_count": 26,
     "metadata": {},
     "output_type": "execute_result"
    }
   ],
   "source": [
    "x = trials.iloc[:, -23:].sum().sort_values(ascending=False).index.values\n",
    "y = trials.iloc[:, -23:].sum().sort_values(ascending=False).values\n"
   ]
  },
  {
   "cell_type": "code",
   "execution_count": 27,
   "metadata": {
    "collapsed": true
   },
   "outputs": [],
   "source": [
    "import plotly.plotly as py\n",
    "import plotly.graph_objs as go"
   ]
  },
  {
   "cell_type": "code",
   "execution_count": 35,
   "metadata": {
    "collapsed": false
   },
   "outputs": [
    {
     "data": {
      "text/html": [
       "<iframe id=\"igraph\" scrolling=\"no\" style=\"border:none;\" seamless=\"seamless\" src=\"https://plot.ly/~mshea88/20.embed\" height=\"525px\" width=\"100%\"></iframe>"
      ],
      "text/plain": [
       "<plotly.tools.PlotlyDisplay object>"
      ]
     },
     "execution_count": 35,
     "metadata": {},
     "output_type": "execute_result"
    }
   ],
   "source": [
    "data = [\n",
    "    go.Bar(\n",
    "    x = trials.iloc[:, -23:].sum().sort_values(ascending=True).values,\n",
    "    y = trials.iloc[:, -23:].sum().sort_values(ascending=True).index.values,\n",
    "    orientation='h')\n",
    "]\n",
    "\n",
    "layout = go.Layout(margin=dict(\n",
    "    l=120, r=30, b=60, t=60))\n",
    "\n",
    "fig = go.Figure(data=data, layout=layout)\n",
    "py.iplot(fig, filename='cancer_counts_hbar')"
   ]
  },
  {
   "cell_type": "code",
   "execution_count": 22,
   "metadata": {
    "collapsed": false
   },
   "outputs": [
    {
     "data": {
      "image/png": "[encoded data removed]",
      "text/plain": [
       "<matplotlib.figure.Figure at 0x118f35310>"
      ]
     },
     "metadata": {},
     "output_type": "display_data"
    }
   ],
   "source": [
    "# Number of cancer sites - for number of bars on plot\n",
    "num_cancer_sites = np.arange(len(cancer_sites) + len(cancer_sites_mult_names))\n",
    "\n",
    "# Trial totals - for length of bars\n",
    "trial_totals_by_site = trials.iloc[:, -23:].sum().sort_values(ascending=False).values\n",
    "\n",
    "# Names of cancer sites - for bar labels\n",
    "cancer_sites_high_to_low = trials.iloc[:, -23:].sum().sort_values(ascending=False).index\n",
    "\n",
    "# Create horizontal bar\n",
    "plt.barh(num_cancer_sites, trial_totals_by_site, align='center', alpha=0.4)\n",
    "\n",
    "# Create yticks\n",
    "plt.yticks(num_cancer_sites, cancer_sites_high_to_low)\n",
    "\n",
    "# Create xlabel\n",
    "plt.xlabel('Number of Trials')\n",
    "\n",
    "# Invert graph\n",
    "plt.gca().invert_yaxis()"
   ]
  },
  {
   "cell_type": "markdown",
   "metadata": {},
   "source": [
    "#### Other variables"
   ]
  },
  {
   "cell_type": "code",
   "execution_count": 15,
   "metadata": {
    "collapsed": true
   },
   "outputs": [],
   "source": [
    "# split pipe delimited sponsor names into a list in each cell\n",
    "s = trials['Sponsor/Collaborators'].str.split('|')"
   ]
  },
  {
   "cell_type": "code",
   "execution_count": 16,
   "metadata": {
    "collapsed": true
   },
   "outputs": [],
   "source": [
    "# The lead sponsor is the first one listed - generate new list with only lead sponsor\n",
    "lead_sponsors = [row[0] for row in s]"
   ]
  },
  {
   "cell_type": "code",
   "execution_count": 17,
   "metadata": {
    "collapsed": true
   },
   "outputs": [],
   "source": [
    "# Turn lead_sponsors list to a pandas series\n",
    "lead_sponsors_series = pd.Series(lead_sponsors)"
   ]
  },
  {
   "cell_type": "code",
   "execution_count": 18,
   "metadata": {
    "collapsed": false
   },
   "outputs": [
    {
     "data": {
      "text/plain": [
       "M.D. Anderson Cancer Center                                 1387\n",
       "National Cancer Institute (NCI)                             1263\n",
       "Memorial Sloan Kettering Cancer Center                       854\n",
       "Hoffmann-La Roche                                            605\n",
       "Novartis Pharmaceuticals                                     478\n",
       "Mayo Clinic                                                  403\n",
       "AstraZeneca                                                  400\n",
       "Pfizer                                                       320\n",
       "Dana-Farber Cancer Institute                                 300\n",
       "GlaxoSmithKline                                              299\n",
       "Massachusetts General Hospital                               299\n",
       "Washington University School of Medicine                     292\n",
       "Eli Lilly and Company                                        289\n",
       "Bristol-Myers Squibb                                         284\n",
       "University Health Network, Toronto                           273\n",
       "Sidney Kimmel Comprehensive Cancer Center                    254\n",
       "Samsung Medical Center                                       252\n",
       "Merck Sharp & Dohme Corp.                                    242\n",
       "Sun Yat-sen University                                       238\n",
       "City of Hope Medical Center                                  232\n",
       "National Taiwan University Hospital                          226\n",
       "Abramson Cancer Center of the University of Pennsylvania     226\n",
       "Stanford University                                          224\n",
       "Duke University                                              223\n",
       "Children's Oncology Group                                    217\n",
       "Bayer                                                        212\n",
       "Case Comprehensive Cancer Center                             195\n",
       "H. Lee Moffitt Cancer Center and Research Institute          194\n",
       "Assistance Publique - Hôpitaux de Paris                      193\n",
       "Sanofi                                                       193\n",
       "Celgene Corporation                                          190\n",
       "Fudan University                                             185\n",
       "Boehringer Ingelheim                                         185\n",
       "University of California, San Francisco                      184\n",
       "Fred Hutchinson Cancer Research Center                       183\n",
       "Seoul National University Hospital                           175\n",
       "Yonsei University                                            175\n",
       "Amgen                                                        162\n",
       "Alliance for Clinical Trials in Oncology                     160\n",
       "Genentech, Inc.                                              160\n",
       "Northwestern University                                      159\n",
       "Vanderbilt-Ingram Cancer Center                              158\n",
       "Roswell Park Cancer Institute                                153\n",
       "St. Jude Children's Research Hospital                        151\n",
       "Asan Medical Center                                          144\n",
       "Comprehensive Cancer Center of Wake Forest University        142\n",
       "Emory University                                             139\n",
       "University of Washington                                     137\n",
       "University of Pittsburgh                                     137\n",
       "UNC Lineberger Comprehensive Cancer Center                   131\n",
       "dtype: int64"
      ]
     },
     "execution_count": 18,
     "metadata": {},
     "output_type": "execute_result"
    }
   ],
   "source": [
    "# Get value counts\n",
    "lead_sponsors_series.value_counts().sort_values(ascending=False)[:50]"
   ]
  },
  {
   "cell_type": "markdown",
   "metadata": {
    "collapsed": true
   },
   "source": [
    "#### Trial enrollment"
   ]
  },
  {
   "cell_type": "code",
   "execution_count": 19,
   "metadata": {
    "collapsed": false
   },
   "outputs": [
    {
     "data": {
      "text/plain": [
       "Index([u'Rank', u'NCT Number', u'Title', u'Recruitment', u'Study Results',\n",
       "       u'Conditions', u'Interventions', u'Sponsor/Collaborators', u'Gender',\n",
       "       u'Age', u'Phases', u'Enrollment', u'Funded Bys', u'Study Types',\n",
       "       u'Study Designs', u'Other IDs', u'First Received', u'Start Date',\n",
       "       u'Completion Date', u'Last Updated', u'Last Verified',\n",
       "       u'Results First Received', u'Acronym', u'Primary Completion Date',\n",
       "       u'Outcome Measures', u'URL', u'Breast', u'Lung', u'Colorectal',\n",
       "       u'Prostate', u'Pancreatic', u'Thyroid', u'Ovarian', u'Melanoma',\n",
       "       u'Esophageal', u'Multiple Myeloma', u'Lymphomas', u'Leukemias',\n",
       "       u'Uterine', u'Bladder', u'Cervical', u'Head and Neck', u'Liver',\n",
       "       u'Testicular', u'Brain', u'Kidney', u'Gastric', u'Bone',\n",
       "       u'Soft-tissue'],\n",
       "      dtype='object')"
      ]
     },
     "execution_count": 19,
     "metadata": {},
     "output_type": "execute_result"
    }
   ],
   "source": [
    "trials.columns"
   ]
  },
  {
   "cell_type": "code",
   "execution_count": 20,
   "metadata": {
    "collapsed": false
   },
   "outputs": [],
   "source": [
    "# Convert to numeric\n",
    "trials['Enrollment'] = pd.to_numeric(trials.Enrollment, errors='coerce')"
   ]
  },
  {
   "cell_type": "code",
   "execution_count": 21,
   "metadata": {
    "collapsed": false
   },
   "outputs": [
    {
     "data": {
      "text/plain": [
       "419"
      ]
     },
     "execution_count": 21,
     "metadata": {},
     "output_type": "execute_result"
    }
   ],
   "source": [
    "trials.Enrollment.isnull().sum()"
   ]
  },
  {
   "cell_type": "code",
   "execution_count": 22,
   "metadata": {
    "collapsed": false
   },
   "outputs": [],
   "source": [
    "# Create a new series without the nans\n",
    "without_nulls_enrollment = trials[['NCT Number', 'Enrollment', 'Study Types', 'Recruitment']].dropna()"
   ]
  },
  {
   "cell_type": "code",
   "execution_count": 23,
   "metadata": {
    "collapsed": false
   },
   "outputs": [
    {
     "data": {
      "text/plain": [
       "99999999.0"
      ]
     },
     "execution_count": 23,
     "metadata": {},
     "output_type": "execute_result"
    }
   ],
   "source": [
    "# alright, clear outlier\n",
    "without_nulls_enrollment['Enrollment'].max()"
   ]
  },
  {
   "cell_type": "code",
   "execution_count": 24,
   "metadata": {
    "collapsed": false
   },
   "outputs": [
    {
     "data": {
      "text/html": [
       "<div>\n",
       "<table border=\"1\" class=\"dataframe\">\n",
       "  <thead>\n",
       "    <tr style=\"text-align: right;\">\n",
       "      <th></th>\n",
       "      <th>NCT Number</th>\n",
       "      <th>Enrollment</th>\n",
       "      <th>Study Types</th>\n",
       "      <th>Recruitment</th>\n",
       "    </tr>\n",
       "  </thead>\n",
       "  <tbody>\n",
       "    <tr>\n",
       "      <th>6</th>\n",
       "      <td>NCT01178736</td>\n",
       "      <td>36000.0</td>\n",
       "      <td>Observational</td>\n",
       "      <td>Not yet recruiting</td>\n",
       "    </tr>\n",
       "    <tr>\n",
       "      <th>27</th>\n",
       "      <td>NCT00757614</td>\n",
       "      <td>14000.0</td>\n",
       "      <td>Observational</td>\n",
       "      <td>Recruiting</td>\n",
       "    </tr>\n",
       "    <tr>\n",
       "      <th>77</th>\n",
       "      <td>NCT01236053</td>\n",
       "      <td>2323608.0</td>\n",
       "      <td>Observational</td>\n",
       "      <td>Completed</td>\n",
       "    </tr>\n",
       "    <tr>\n",
       "      <th>369</th>\n",
       "      <td>NCT00765193</td>\n",
       "      <td>14381.0</td>\n",
       "      <td>Interventional</td>\n",
       "      <td>Completed</td>\n",
       "    </tr>\n",
       "    <tr>\n",
       "      <th>395</th>\n",
       "      <td>NCT01137643</td>\n",
       "      <td>15000.0</td>\n",
       "      <td>Observational</td>\n",
       "      <td>Recruiting</td>\n",
       "    </tr>\n",
       "  </tbody>\n",
       "</table>\n",
       "</div>"
      ],
      "text/plain": [
       "      NCT Number  Enrollment     Study Types         Recruitment\n",
       "6    NCT01178736     36000.0   Observational  Not yet recruiting\n",
       "27   NCT00757614     14000.0   Observational          Recruiting\n",
       "77   NCT01236053   2323608.0   Observational           Completed\n",
       "369  NCT00765193     14381.0  Interventional           Completed\n",
       "395  NCT01137643     15000.0   Observational          Recruiting"
      ]
     },
     "execution_count": 24,
     "metadata": {},
     "output_type": "execute_result"
    }
   ],
   "source": [
    "# View all the trials with enrollment of greater than 10k\n",
    "without_nulls_enrollment[without_nulls_enrollment['Enrollment'] > 10000].head()"
   ]
  },
  {
   "cell_type": "code",
   "execution_count": 25,
   "metadata": {
    "collapsed": false
   },
   "outputs": [
    {
     "data": {
      "text/plain": [
       "Observational     37\n",
       "Interventional     9\n",
       "Name: Study Types, dtype: int64"
      ]
     },
     "execution_count": 25,
     "metadata": {},
     "output_type": "execute_result"
    }
   ],
   "source": [
    "# How many interventional trials with greater than 10k participants?\n",
    "without_nulls_enrollment[without_nulls_enrollment['Enrollment'] > 100000]['Study Types'].value_counts()\n",
    "# There are still a good number of trials with over 100k participants, so not comfortable removing outliers\n",
    "# I would need to remove outliers if I wanted to do a swarm plot"
   ]
  },
  {
   "cell_type": "code",
   "execution_count": 33,
   "metadata": {
    "collapsed": false
   },
   "outputs": [
    {
     "data": {
      "text/html": [
       "<div>\n",
       "<table border=\"1\" class=\"dataframe\">\n",
       "  <thead>\n",
       "    <tr>\n",
       "      <th></th>\n",
       "      <th colspan=\"2\" halign=\"left\">Enrollment</th>\n",
       "    </tr>\n",
       "    <tr>\n",
       "      <th></th>\n",
       "      <th>mean</th>\n",
       "      <th>count_nonzero</th>\n",
       "    </tr>\n",
       "    <tr>\n",
       "      <th>Recruitment</th>\n",
       "      <th></th>\n",
       "      <th></th>\n",
       "    </tr>\n",
       "  </thead>\n",
       "  <tbody>\n",
       "    <tr>\n",
       "      <th>Active, not recruiting</th>\n",
       "      <td>1011.809568</td>\n",
       "      <td>6417.0</td>\n",
       "    </tr>\n",
       "    <tr>\n",
       "      <th>Completed</th>\n",
       "      <td>3356.210996</td>\n",
       "      <td>14349.0</td>\n",
       "    </tr>\n",
       "    <tr>\n",
       "      <th>Enrolling by invitation</th>\n",
       "      <td>7005.757366</td>\n",
       "      <td>577.0</td>\n",
       "    </tr>\n",
       "    <tr>\n",
       "      <th>Not yet recruiting</th>\n",
       "      <td>474.389142</td>\n",
       "      <td>2634.0</td>\n",
       "    </tr>\n",
       "    <tr>\n",
       "      <th>Recruiting</th>\n",
       "      <td>21934.732221</td>\n",
       "      <td>14861.0</td>\n",
       "    </tr>\n",
       "    <tr>\n",
       "      <th>Suspended</th>\n",
       "      <td>144.589172</td>\n",
       "      <td>314.0</td>\n",
       "    </tr>\n",
       "    <tr>\n",
       "      <th>Terminated</th>\n",
       "      <td>63.077882</td>\n",
       "      <td>3201.0</td>\n",
       "    </tr>\n",
       "  </tbody>\n",
       "</table>\n",
       "</div>"
      ],
      "text/plain": [
       "                           Enrollment              \n",
       "                                 mean count_nonzero\n",
       "Recruitment                                        \n",
       "Active, not recruiting    1011.809568        6417.0\n",
       "Completed                 3356.210996       14349.0\n",
       "Enrolling by invitation   7005.757366         577.0\n",
       "Not yet recruiting         474.389142        2634.0\n",
       "Recruiting               21934.732221       14861.0\n",
       "Suspended                  144.589172         314.0\n",
       "Terminated                  63.077882        3201.0"
      ]
     },
     "execution_count": 33,
     "metadata": {},
     "output_type": "execute_result"
    }
   ],
   "source": [
    "# View enrollment stats based on each recruitment category\n",
    "without_nulls_enrollment.groupby('Recruitment').agg([np.mean, np.count_nonzero,])"
   ]
  },
  {
   "cell_type": "code",
   "execution_count": 34,
   "metadata": {
    "collapsed": true
   },
   "outputs": [],
   "source": [
    "# Remove the trials with recruitment status 'withdrawn\n",
    "without_nulls_enrollment = without_nulls_enrollment.loc[without_nulls_enrollment['Recruitment'] != 'Withdrawn']"
   ]
  },
  {
   "cell_type": "code",
   "execution_count": 35,
   "metadata": {
    "collapsed": false
   },
   "outputs": [],
   "source": [
    "# Bin data\n",
    "bins = [-1, 50, 200, 400, 1000, 5000, 1000000000]\n",
    "group_names = ['0-50', '51-200', '201-400', '401-1000', '1001-5000', '>5000']\n",
    "categories = pd.cut(without_nulls_enrollment['Enrollment'], bins, labels=group_names)"
   ]
  },
  {
   "cell_type": "code",
   "execution_count": 36,
   "metadata": {
    "collapsed": false
   },
   "outputs": [],
   "source": [
    "# Add categories as column in dataframe\n",
    "without_nulls_enrollment['Category'] = categories"
   ]
  },
  {
   "cell_type": "code",
   "execution_count": 37,
   "metadata": {
    "collapsed": false
   },
   "outputs": [
    {
     "data": {
      "text/plain": [
       "0-50         18791\n",
       "51-200       14690\n",
       "201-400       3854\n",
       "401-1000      3065\n",
       "1001-5000     1469\n",
       ">5000          497\n",
       "dtype: int64"
      ]
     },
     "execution_count": 37,
     "metadata": {},
     "output_type": "execute_result"
    }
   ],
   "source": [
    "# View value counts\n",
    "without_nulls_enrollment['Category'].value_counts()"
   ]
  },
  {
   "cell_type": "code",
   "execution_count": 38,
   "metadata": {
    "collapsed": false
   },
   "outputs": [
    {
     "data": {
      "text/plain": [
       "Interventional    34439\n",
       "Observational      7927\n",
       "Name: Study Types, dtype: int64"
      ]
     },
     "execution_count": 38,
     "metadata": {},
     "output_type": "execute_result"
    }
   ],
   "source": [
    "# View value counts for Interventional vs. observational\n",
    "without_nulls_enrollment['Study Types'].value_counts()"
   ]
  },
  {
   "cell_type": "code",
   "execution_count": 39,
   "metadata": {
    "collapsed": false
   },
   "outputs": [
    {
     "data": {
      "text/html": [
       "<div>\n",
       "<table border=\"1\" class=\"dataframe\">\n",
       "  <thead>\n",
       "    <tr style=\"text-align: right;\">\n",
       "      <th></th>\n",
       "      <th></th>\n",
       "      <th>NCT Number</th>\n",
       "      <th>Enrollment</th>\n",
       "      <th>Recruitment</th>\n",
       "    </tr>\n",
       "    <tr>\n",
       "      <th>Category</th>\n",
       "      <th>Study Types</th>\n",
       "      <th></th>\n",
       "      <th></th>\n",
       "      <th></th>\n",
       "    </tr>\n",
       "  </thead>\n",
       "  <tbody>\n",
       "    <tr>\n",
       "      <th rowspan=\"2\" valign=\"top\">0-50</th>\n",
       "      <th>Interventional</th>\n",
       "      <td>16724</td>\n",
       "      <td>16724</td>\n",
       "      <td>16724</td>\n",
       "    </tr>\n",
       "    <tr>\n",
       "      <th>Observational</th>\n",
       "      <td>2067</td>\n",
       "      <td>2067</td>\n",
       "      <td>2067</td>\n",
       "    </tr>\n",
       "    <tr>\n",
       "      <th rowspan=\"2\" valign=\"top\">51-200</th>\n",
       "      <th>Interventional</th>\n",
       "      <td>12010</td>\n",
       "      <td>12010</td>\n",
       "      <td>12010</td>\n",
       "    </tr>\n",
       "    <tr>\n",
       "      <th>Observational</th>\n",
       "      <td>2680</td>\n",
       "      <td>2680</td>\n",
       "      <td>2680</td>\n",
       "    </tr>\n",
       "    <tr>\n",
       "      <th rowspan=\"2\" valign=\"top\">201-400</th>\n",
       "      <th>Interventional</th>\n",
       "      <td>2783</td>\n",
       "      <td>2783</td>\n",
       "      <td>2783</td>\n",
       "    </tr>\n",
       "    <tr>\n",
       "      <th>Observational</th>\n",
       "      <td>1071</td>\n",
       "      <td>1071</td>\n",
       "      <td>1071</td>\n",
       "    </tr>\n",
       "    <tr>\n",
       "      <th rowspan=\"2\" valign=\"top\">401-1000</th>\n",
       "      <th>Interventional</th>\n",
       "      <td>2016</td>\n",
       "      <td>2016</td>\n",
       "      <td>2016</td>\n",
       "    </tr>\n",
       "    <tr>\n",
       "      <th>Observational</th>\n",
       "      <td>1049</td>\n",
       "      <td>1049</td>\n",
       "      <td>1049</td>\n",
       "    </tr>\n",
       "    <tr>\n",
       "      <th rowspan=\"2\" valign=\"top\">1001-5000</th>\n",
       "      <th>Interventional</th>\n",
       "      <td>716</td>\n",
       "      <td>716</td>\n",
       "      <td>716</td>\n",
       "    </tr>\n",
       "    <tr>\n",
       "      <th>Observational</th>\n",
       "      <td>753</td>\n",
       "      <td>753</td>\n",
       "      <td>753</td>\n",
       "    </tr>\n",
       "    <tr>\n",
       "      <th rowspan=\"2\" valign=\"top\">&gt;5000</th>\n",
       "      <th>Interventional</th>\n",
       "      <td>190</td>\n",
       "      <td>190</td>\n",
       "      <td>190</td>\n",
       "    </tr>\n",
       "    <tr>\n",
       "      <th>Observational</th>\n",
       "      <td>307</td>\n",
       "      <td>307</td>\n",
       "      <td>307</td>\n",
       "    </tr>\n",
       "  </tbody>\n",
       "</table>\n",
       "</div>"
      ],
      "text/plain": [
       "                          NCT Number  Enrollment  Recruitment\n",
       "Category  Study Types                                        \n",
       "0-50      Interventional       16724       16724        16724\n",
       "          Observational         2067        2067         2067\n",
       "51-200    Interventional       12010       12010        12010\n",
       "          Observational         2680        2680         2680\n",
       "201-400   Interventional        2783        2783         2783\n",
       "          Observational         1071        1071         1071\n",
       "401-1000  Interventional        2016        2016         2016\n",
       "          Observational         1049        1049         1049\n",
       "1001-5000 Interventional         716         716          716\n",
       "          Observational          753         753          753\n",
       ">5000     Interventional         190         190          190\n",
       "          Observational          307         307          307"
      ]
     },
     "execution_count": 39,
     "metadata": {},
     "output_type": "execute_result"
    }
   ],
   "source": [
    "# Group by category\n",
    "groupby_enrollment = without_nulls_enrollment.groupby(['Category', 'Study Types']).count()\n",
    "groupby_enrollment"
   ]
  },
  {
   "cell_type": "code",
   "execution_count": 40,
   "metadata": {
    "collapsed": false
   },
   "outputs": [
    {
     "data": {
      "text/plain": [
       "Interventional    34439\n",
       "Observational      7927\n",
       "Name: Study Types, dtype: int64"
      ]
     },
     "execution_count": 40,
     "metadata": {},
     "output_type": "execute_result"
    }
   ],
   "source": [
    "without_nulls_enrollment['Study Types'].value_counts()"
   ]
  },
  {
   "cell_type": "code",
   "execution_count": 41,
   "metadata": {
    "collapsed": false
   },
   "outputs": [],
   "source": [
    "# Dataframe with slice of just interventionals\n",
    "interventional = without_nulls_enrollment.loc[without_nulls_enrollment['Study Types'] == 'Interventional']\n",
    "\n",
    "# Groupby \n",
    "intervent_enrollment_counts = interventional.groupby('Category').count()['Enrollment']"
   ]
  },
  {
   "cell_type": "code",
   "execution_count": 42,
   "metadata": {
    "collapsed": true
   },
   "outputs": [],
   "source": [
    "# Dataframe with slice of just observationals\n",
    "observational = without_nulls_enrollment.loc[without_nulls_enrollment['Study Types'] == 'Observational']\n",
    "\n",
    "# Groupby\n",
    "observ_enrollment_counts = observational.groupby('Category').count()['Enrollment']"
   ]
  },
  {
   "cell_type": "code",
   "execution_count": 50,
   "metadata": {
    "collapsed": false
   },
   "outputs": [
    {
     "name": "stdout",
     "output_type": "stream",
     "text": [
      "16724\n",
      "12010\n",
      "2783\n",
      "2016\n",
      "716\n",
      "190\n"
     ]
    }
   ],
   "source": [
    "for i in intervent_enrollment_counts.values:\n",
    "    print i"
   ]
  },
  {
   "cell_type": "code",
   "execution_count": 217,
   "metadata": {
    "collapsed": true
   },
   "outputs": [],
   "source": [
    "# try using plotly to graph this\n",
    "import plotly.plotly as py\n",
    "import plotly.graph_objs as go\n",
    "py.sign_in('mshea88', '04kbbynyqj')"
   ]
  },
  {
   "cell_type": "code",
   "execution_count": 218,
   "metadata": {
    "collapsed": false
   },
   "outputs": [],
   "source": [
    "X = list(without_nulls_enrollment['Category'].unique())\n",
    "y1 = intervent_enrollment_counts\n",
    "y2 = observ_enrollment_counts\n",
    "\n",
    "df = pd.DataFrame({'Enrollment':X, 'Interventional':y1, 'Observational':y2})"
   ]
  },
  {
   "cell_type": "code",
   "execution_count": 219,
   "metadata": {
    "collapsed": false
   },
   "outputs": [],
   "source": [
    "data = [go.Bar(x=df['Enrollment'], y=df['Interventional']), \n",
    "       go.Bar(x=df['Enrollment'], y=df['Observational'])]"
   ]
  },
  {
   "cell_type": "code",
   "execution_count": 221,
   "metadata": {
    "collapsed": true
   },
   "outputs": [],
   "source": [
    "layout = go.Layout(barmode='stack', title='Trial Enrollment')\n",
    "fig = go.Figure(data=data, layout=layout)\n",
    "url = py.plot(data, filename='enrollment-by-recruitment-type')"
   ]
  },
  {
   "cell_type": "code",
   "execution_count": 115,
   "metadata": {
    "collapsed": false
   },
   "outputs": [],
   "source": [
    "# stipplot unfortunately doesn't work with outliers\n",
    "# sns.stripplot(x=\"Study Types\", y=\"Enrollment\", data=without_nulls_enrollment, jitter=True)"
   ]
  },
  {
   "cell_type": "markdown",
   "metadata": {},
   "source": [
    "#### Age"
   ]
  },
  {
   "cell_type": "code",
   "execution_count": 29,
   "metadata": {
    "collapsed": true
   },
   "outputs": [],
   "source": [
    "import re"
   ]
  },
  {
   "cell_type": "code",
   "execution_count": 30,
   "metadata": {
    "collapsed": false
   },
   "outputs": [
    {
     "data": {
      "text/plain": [
       "'Child, Adult, Senior'"
      ]
     },
     "execution_count": 30,
     "metadata": {},
     "output_type": "execute_result"
    }
   ],
   "source": [
    "trials.ix[11, 'Age']"
   ]
  },
  {
   "cell_type": "code",
   "execution_count": 33,
   "metadata": {
    "collapsed": false
   },
   "outputs": [],
   "source": [
    "# left off trying to split age groups up, got tripped up by adult and adult, senior. maybe\n",
    "# consider putting all adults and adult, seniors in a list then parsing out adult, seniors\n",
    "\n",
    "adult_senior = 0\n",
    "adult = 0\n",
    "child = 0\n",
    "senior = 0\n",
    "child_adult_senior = 0\n",
    "child_adult = 0\n",
    "\n",
    "for row in trials.Age:\n",
    "    if '(Adult, Senior)' in row:\n",
    "        adult_senior += 1\n",
    "    elif '(Adult)' in row:\n",
    "        adult += 1\n",
    "    elif 'Child, Adult, Senior' in row:\n",
    "        child_adult_senior += 1\n",
    "    elif 'Child, Adult' in row:\n",
    "        child_adult += 1\n",
    "    elif \"(Child)\" in row:\n",
    "        child += 1\n",
    "    elif \"(Senior)\" in row:\n",
    "        senior += 1"
   ]
  },
  {
   "cell_type": "code",
   "execution_count": 34,
   "metadata": {
    "collapsed": false
   },
   "outputs": [
    {
     "name": "stdout",
     "output_type": "stream",
     "text": [
      "Senior 225\n",
      "Adult/Senior 35047\n",
      "Adult 2792\n",
      "Child/Adult/Senior 3594\n",
      "Child/Adult 1804\n",
      "Child 500\n"
     ]
    }
   ],
   "source": [
    "print \"Senior %d\" % senior\n",
    "print \"Adult/Senior %d\" % adult_senior\n",
    "print \"Adult %d\" % adult\n",
    "print \"Child/Adult/Senior %d\" % child_adult_senior\n",
    "print \"Child/Adult %d\" % child_adult\n",
    "print \"Child %d\" % child"
   ]
  },
  {
   "cell_type": "markdown",
   "metadata": {
    "collapsed": true
   },
   "source": [
    "#### Gender"
   ]
  },
  {
   "cell_type": "code",
   "execution_count": 54,
   "metadata": {
    "collapsed": false
   },
   "outputs": [
    {
     "data": {
      "text/plain": [
       "Both      34809\n",
       "Female     6567\n",
       "Male       2543\n",
       "null         43\n",
       "Name: Gender, dtype: int64"
      ]
     },
     "execution_count": 54,
     "metadata": {},
     "output_type": "execute_result"
    }
   ],
   "source": [
    "trials.Gender.value_counts()"
   ]
  },
  {
   "cell_type": "markdown",
   "metadata": {},
   "source": [
    "### Convert date columns to proper format\n",
    "First Recieved, Start Date, Completion Date, Results First Received all need to be converted to datetime"
   ]
  },
  {
   "cell_type": "code",
   "execution_count": 16,
   "metadata": {
    "collapsed": false
   },
   "outputs": [],
   "source": [
    "# Convert first received to datetime\n",
    "trials['First Received'] = pd.to_datetime(trials['First Received'], infer_datetime_format = True)\n",
    "# trials['Start Date'] = pd.to_datetime(trials['Start Date'], errors='coerce')\n",
    "# trials['Completion Date'] = pd.to_datetime(trials['Completion Date'], errors='coerce')\n",
    "# trials['Results First Received'] = pd.to_datetime(trials['Results First Received'], errors='coerce')\n",
    "# trials['Primary Completion Date'] = pd.to_datetime(trials['Primary Completion Date'], errors='coerce')"
   ]
  },
  {
   "cell_type": "markdown",
   "metadata": {},
   "source": [
    "### Trends over time visualizations\n",
    "#### View phase of trials over time"
   ]
  },
  {
   "cell_type": "code",
   "execution_count": 17,
   "metadata": {
    "collapsed": false
   },
   "outputs": [],
   "source": [
    "# Create new df object with date of First Received as index\n",
    "over_time = trials[['Phases']].set_index(trials['First Received'])\n",
    "\n",
    "# Drop NaNs (there are a considerable number)\n",
    "over_time.dropna(axis=0, inplace=True)\n",
    "\n",
    "# Limit to before 2016\n",
    "over_time = over_time[over_time.index < '20160101']\n",
    "\n",
    "# Create columns for each phase\n",
    "over_time_dummies = pd.get_dummies(over_time, prefix='', prefix_sep='')\n",
    "\n",
    "\n",
    "\n",
    "# # Plot phases over time\n",
    "# from matplotlib.pyplot import colormaps\n",
    "# over_time_dummies.resample('A').sum().plot(colormap='Set1', figsize=(10,7))\n",
    "\n",
    "# # List of legend values\n",
    "# legend_vals = ['Phase 2', 'Phase 1', 'Phase 3', 'Phase 1|Phase 2', 'Phase 4', 'Phase 0', 'Phase 2|Phase 3']\n",
    "\n",
    "# for rank, column in enumerate(legend_vals):   \n",
    "#     # Add a text label to the right end of every line. Most of the code below  \n",
    "#     # is adding specific offsets y position because some labels overlapped.  \n",
    "#     y_pos = over_time_dummies[column].values[-1] - 0.5  \n",
    "#     if column == \"Phase 2\":  \n",
    "#         y_pos += 0.5  \n",
    "#     elif column == \"Phase 1\":  \n",
    "#         y_pos -= 0.5  \n",
    "#     elif column == \"Phase 3\":  \n",
    "#         y_pos += 0.75  \n",
    "#     elif column == \"Phase 1|Phase2\":  \n",
    "#         y_pos -= 0.25  \n",
    "#     elif column == \"Phase 4\":  \n",
    "#         y_pos += 1.25  \n",
    "#     elif column == \"Phase 0\":  \n",
    "#         y_pos += 0.25  \n",
    "#     elif column == \"Phase 2|Phase 3\":  \n",
    "#         y_pos -= 0.75  \n",
    "\n",
    "    # Again, make sure that all labels are large enough to be easily read  \n",
    "    # by the viewer.  \n",
    "#     plt.text(2011.5, y_pos, column, fontsize=14)"
   ]
  },
  {
   "cell_type": "code",
   "execution_count": 19,
   "metadata": {
    "collapsed": false
   },
   "outputs": [],
   "source": [
    "resampled = over_time_dummies.resample('A').sum()"
   ]
  },
  {
   "cell_type": "code",
   "execution_count": 21,
   "metadata": {
    "collapsed": false
   },
   "outputs": [],
   "source": [
    "# resampled.to_csv('phase_over_time', encoding ='utf-8')"
   ]
  },
  {
   "cell_type": "code",
   "execution_count": 22,
   "metadata": {
    "collapsed": true
   },
   "outputs": [],
   "source": [
    "# These are the \"Tableau 20\" colors as RGB.    \n",
    "tableau20 = [(31, 119, 180), (174, 199, 232), (255, 127, 14), (255, 187, 120),    \n",
    "             (44, 160, 44), (152, 223, 138), (214, 39, 40)]    \n",
    "  \n",
    "# Scale the RGB values to the [0, 1] range, which is the format matplotlib accepts.    \n",
    "for i in range(len(tableau20)):    \n",
    "    r, g, b = tableau20[i]    \n",
    "    tableau20[i] = (r / 255., g / 255., b / 255.)  "
   ]
  },
  {
   "cell_type": "code",
   "execution_count": 31,
   "metadata": {
    "collapsed": false
   },
   "outputs": [
    {
     "data": {
      "text/plain": [
       "<matplotlib.text.Text at 0x11e7e2810>"
      ]
     },
     "execution_count": 31,
     "metadata": {},
     "output_type": "execute_result"
    },
    {
     "data": {
      "image/png": "[encoded data removed]",
      "text/plain": [
       "<matplotlib.figure.Figure at 0x1195cb210>"
      ]
     },
     "metadata": {},
     "output_type": "display_data"
    }
   ],
   "source": [
    "# You typically want your plot to be ~1.33x wider than tall. This plot is a rare    \n",
    "# exception because of the number of lines being plotted on it.    \n",
    "# Common sizes: (10, 7.5) and (12, 9)    \n",
    "plt.figure(figsize=(12, 14))    \n",
    "  \n",
    "# Remove the plot frame lines. They are unnecessary chartjunk.    \n",
    "ax = plt.subplot(111)    \n",
    "ax.spines[\"top\"].set_visible(False)    \n",
    "ax.spines[\"bottom\"].set_visible(False)    \n",
    "ax.spines[\"right\"].set_visible(False)    \n",
    "ax.spines[\"left\"].set_visible(False)    \n",
    "  \n",
    "# Ensure that the axis ticks only show up on the bottom and left of the plot.    \n",
    "# Ticks on the right and top of the plot are generally unnecessary chartjunk.    \n",
    "ax.get_xaxis().tick_bottom()    \n",
    "ax.get_yaxis().tick_left()    \n",
    "  \n",
    "# Limit the range of the plot to only where the data is.    \n",
    "# Avoid unnecessary whitespace.    \n",
    "plt.ylim(0, 400)    \n",
    "plt.xlim(2007, 2016)    \n",
    "  \n",
    "# Make sure your axis ticks are large enough to be easily read.    \n",
    "# You don't want your viewers squinting to read your plot.    \n",
    "plt.yticks(range(0, 400, 100), [str(x) for x in range(0, 400, 100)], fontsize=14)    \n",
    "plt.xticks(fontsize=14)    \n",
    "  \n",
    "# Provide tick lines across the plot to help your viewers trace along    \n",
    "# the axis ticks. Make sure that the lines are light and small so they    \n",
    "# don't obscure the primary data lines.    \n",
    "for y in range(10, 400, 100):    \n",
    "    plt.plot(range(2007, 2016), [y] * len(range(2007, 2016)), \"--\", lw=0.5, color=\"black\", alpha=0.3)    \n",
    "\n",
    "# Remove the tick marks; they are unnecessary with the tick lines we just plotted.    \n",
    "plt.tick_params(axis=\"both\", which=\"both\", bottom=\"off\", top=\"off\",    \n",
    "                labelbottom=\"on\", left=\"off\", right=\"off\", labelleft=\"on\")    \n",
    "  \n",
    "# Now that the plot is prepared, it's time to actually plot the data!    \n",
    "# Note that I plotted the majors in order of the highest % in the final year.    \n",
    "# List of legend values\n",
    "legend_vals = ['Phase 2', 'Phase 1', 'Phase 3', 'Phase 1|Phase 2', 'Phase 4', 'Phase 0', 'Phase 2|Phase 3']\n",
    "\n",
    "for rank, column in enumerate(legend_vals):      \n",
    "    # Plot each line separately with its own color, using the Tableau 20    \n",
    "    # color set in order.    \n",
    "    plt.plot(resampled.index.year,    \n",
    "            resampled[column].values,    \n",
    "            lw=2.5, color=tableau20[rank]) \n",
    "    # Add a text label to the right end of every line. Most of the code below  \n",
    "    # is adding specific offsets y position because some labels overlapped.  \n",
    "    y_pos = over_time_dummies[column].values[-1] - 0.5  \n",
    "    if column == \"Phase 2\":  \n",
    "        y_pos += 0.5  \n",
    "    elif column == \"Phase 1\":  \n",
    "        y_pos -= 0.5  \n",
    "    elif column == \"Phase 3\":  \n",
    "        y_pos += 0.75  \n",
    "    elif column == \"Phase 1|Phase2\":  \n",
    "        y_pos -= 0.25  \n",
    "    elif column == \"Phase 4\":  \n",
    "        y_pos += 1.25  \n",
    "    elif column == \"Phase 0\":  \n",
    "        y_pos += 0.25  \n",
    "    elif column == \"Phase 2|Phase 3\":  \n",
    "        y_pos -= 0.75   \n",
    "        \n",
    "    # Again, make sure that all labels are large enough to be easily read    \n",
    "    # by the viewer.    \n",
    "    plt.text(2011.5, y_pos, column, fontsize=14, color=tableau20[rank])    \n",
    "\n",
    "# matplotlib's title() call centers the title on the plot, but not the graph,    \n",
    "# so I used the text() call to customize where the title goes.    \n",
    "  \n",
    "# Make the title big enough so it spans the entire plot, but don't make it    \n",
    "# so big that it requires two lines to show.    \n",
    "  \n",
    "# Note that if the title is descriptive enough, it is unnecessary to include    \n",
    "# axis labels; they are self-evident, in this plot's case.    \n",
    "plt.text(1995, 93, \"Percentage of Bachelor's degrees conferred to women in the U.S.A.\"    \n",
    "       \", by major (1970-2012)\", fontsize=17, ha=\"center\")    \n",
    "  \n",
    "# Always include your data source(s) and copyright notice! And for your    \n",
    "# data sources, tell your viewers exactly where the data came from,    \n",
    "# preferably with a direct link to the data. Just telling your viewers    \n",
    "# that you used data from the \"U.S. Census Bureau\" is completely useless:    \n",
    "# the U.S. Census Bureau provides all kinds of data, so how are your    \n",
    "# viewers supposed to know which data set you used?    \n",
    "plt.text(1966, -8, \"Data source: nces.ed.gov/programs/digest/2013menu_tables.asp\"    \n",
    "       \"\\nAuthor: Randy Olson (randalolson.com / @randal_olson)\"    \n",
    "       \"\\nNote: Some majors are missing because the historical data \"    \n",
    "       \"is not available for them\", fontsize=10)    "
   ]
  },
  {
   "cell_type": "markdown",
   "metadata": {},
   "source": [
    "### Clean Text Data\n",
    "#### Sponsor/Collaborators column\n",
    "Split cells with multiple sponsors, then create a new df with a column for each sponsor. Then join with original dataframe."
   ]
  },
  {
   "cell_type": "code",
   "execution_count": 6,
   "metadata": {
    "collapsed": false
   },
   "outputs": [],
   "source": [
    "# split pipe delimited sponsor names into a list in each cell\n",
    "s = trials['Sponsor/Collaborators'].str.split('|')"
   ]
  },
  {
   "cell_type": "code",
   "execution_count": 26,
   "metadata": {
    "collapsed": true
   },
   "outputs": [],
   "source": [
    "# The lead sponsor is the first one listed - generate new list with only lead sponsor\n",
    "lead_sponsors = [row[0] for row in s]"
   ]
  },
  {
   "cell_type": "code",
   "execution_count": 28,
   "metadata": {
    "collapsed": true
   },
   "outputs": [],
   "source": [
    "# Turn lead_sponsors list to a pandas series\n",
    "lead_sponsors_series = pd.Series(lead_sponsors)"
   ]
  },
  {
   "cell_type": "code",
   "execution_count": 35,
   "metadata": {
    "collapsed": false
   },
   "outputs": [
    {
     "data": {
      "text/plain": [
       "M.D. Anderson Cancer Center                                 1387\n",
       "National Cancer Institute (NCI)                             1263\n",
       "Memorial Sloan Kettering Cancer Center                       854\n",
       "Hoffmann-La Roche                                            605\n",
       "Novartis Pharmaceuticals                                     478\n",
       "Mayo Clinic                                                  403\n",
       "AstraZeneca                                                  400\n",
       "Pfizer                                                       320\n",
       "Dana-Farber Cancer Institute                                 300\n",
       "GlaxoSmithKline                                              299\n",
       "Massachusetts General Hospital                               299\n",
       "Washington University School of Medicine                     292\n",
       "Eli Lilly and Company                                        289\n",
       "Bristol-Myers Squibb                                         284\n",
       "University Health Network, Toronto                           273\n",
       "Sidney Kimmel Comprehensive Cancer Center                    254\n",
       "Samsung Medical Center                                       252\n",
       "Merck Sharp & Dohme Corp.                                    242\n",
       "Sun Yat-sen University                                       238\n",
       "City of Hope Medical Center                                  232\n",
       "National Taiwan University Hospital                          226\n",
       "Abramson Cancer Center of the University of Pennsylvania     226\n",
       "Stanford University                                          224\n",
       "Duke University                                              223\n",
       "Children's Oncology Group                                    217\n",
       "Bayer                                                        212\n",
       "Case Comprehensive Cancer Center                             195\n",
       "H. Lee Moffitt Cancer Center and Research Institute          194\n",
       "Assistance Publique - Hôpitaux de Paris                      193\n",
       "Sanofi                                                       193\n",
       "Celgene Corporation                                          190\n",
       "Fudan University                                             185\n",
       "Boehringer Ingelheim                                         185\n",
       "University of California, San Francisco                      184\n",
       "Fred Hutchinson Cancer Research Center                       183\n",
       "Seoul National University Hospital                           175\n",
       "Yonsei University                                            175\n",
       "Amgen                                                        162\n",
       "Alliance for Clinical Trials in Oncology                     160\n",
       "Genentech, Inc.                                              160\n",
       "Northwestern University                                      159\n",
       "Vanderbilt-Ingram Cancer Center                              158\n",
       "Roswell Park Cancer Institute                                153\n",
       "St. Jude Children's Research Hospital                        151\n",
       "Asan Medical Center                                          144\n",
       "Comprehensive Cancer Center of Wake Forest University        142\n",
       "Emory University                                             139\n",
       "University of Washington                                     137\n",
       "University of Pittsburgh                                     137\n",
       "UNC Lineberger Comprehensive Cancer Center                   131\n",
       "dtype: int64"
      ]
     },
     "execution_count": 35,
     "metadata": {},
     "output_type": "execute_result"
    }
   ],
   "source": [
    "# Get value counts\n",
    "lead_sponsors_series.value_counts().sort_values(ascending=False)[:50]"
   ]
  },
  {
   "cell_type": "code",
   "execution_count": 27,
   "metadata": {
    "collapsed": false
   },
   "outputs": [
    {
     "data": {
      "text/plain": [
       "['National Cancer Institute (NCI)',\n",
       " 'Celldex Therapeutics',\n",
       " 'Rennes University Hospital',\n",
       " \"Children's Oncology Group\",\n",
       " 'National Cancer Institute (NCI)',\n",
       " 'M.D. Anderson Cancer Center',\n",
       " \"Woman's Cancer Foundation\",\n",
       " \"Children's Oncology Group\",\n",
       " 'Gynecologic Oncology Group',\n",
       " 'M.D. Anderson Cancer Center',\n",
       " 'Janssen-Cilag Ltd.',\n",
       " 'Sun Yat-sen University',\n",
       " 'Clinical Directors Network',\n",
       " 'European Organisation for Research and Treatment of Cancer - EORTC',\n",
       " 'Medical University of Vienna',\n",
       " 'Onyx Therapeutics, Inc.',\n",
       " 'G. Hatzikosta General Hospital',\n",
       " 'Association of Dermatological Prevention, Germany',\n",
       " 'Beth Israel Deaconess Medical Center',\n",
       " 'Memorial Sloan Kettering Cancer Center',\n",
       " 'Case Comprehensive Cancer Center',\n",
       " \"Children's Oncology Group\",\n",
       " 'M.D. Anderson Cancer Center',\n",
       " 'PX Biosolutions',\n",
       " 'Sun Yat-sen University',\n",
       " 'Ohio State University Comprehensive Cancer Center',\n",
       " 'Memorial Sloan Kettering Cancer Center',\n",
       " 'Cancer Research UK',\n",
       " 'M.D. Anderson Cancer Center',\n",
       " 'M.D. Anderson Cancer Center',\n",
       " 'University of California, Irvine',\n",
       " 'Fox Chase Cancer Center',\n",
       " 'Institut Curie',\n",
       " 'University Medical Center Groningen',\n",
       " 'Sidney Kimmel Comprehensive Cancer Center',\n",
       " 'Ohio State University Comprehensive Cancer Center',\n",
       " 'Vanderbilt-Ingram Cancer Center',\n",
       " 'Fox Chase Cancer Center',\n",
       " 'Memorial Sloan Kettering Cancer Center',\n",
       " 'Saint Francis Care',\n",
       " 'National Cancer Institute (NCI)',\n",
       " 'Janssen Inc.',\n",
       " 'Massachusetts General Hospital',\n",
       " 'Celgene Corporation',\n",
       " 'National Cancer Institute (NCI)',\n",
       " 'Memorial Sloan Kettering Cancer Center',\n",
       " 'Linda Carlson',\n",
       " 'Gynecologic Oncology Group',\n",
       " 'Beth Israel Deaconess Medical Center',\n",
       " \"Children's Oncology Group\",\n",
       " 'National Institutes of Health Clinical Center (CC)',\n",
       " 'Emory University',\n",
       " 'M.D. Anderson Cancer Center',\n",
       " 'University of Minnesota - Clinical and Translational Science Institute',\n",
       " 'Roswell Park Cancer Institute',\n",
       " 'Ignyta, Inc.',\n",
       " 'Emory University',\n",
       " 'University of Miami',\n",
       " 'Barbara Ann Karmanos Cancer Institute',\n",
       " 'Vanderbilt-Ingram Cancer Center',\n",
       " 'National Cancer Institute (NCI)',\n",
       " 'University of North Carolina, Chapel Hill',\n",
       " 'Massachusetts General Hospital',\n",
       " 'University of North Carolina, Chapel Hill',\n",
       " 'Vanderbilt-Ingram Cancer Center',\n",
       " 'John Wayne Cancer Institute',\n",
       " 'Janssen Research & Development, LLC',\n",
       " 'AGO Study Group',\n",
       " 'Memorial Sloan Kettering Cancer Center',\n",
       " 'National Cancer Institute (NCI)',\n",
       " 'Tulane University School of Medicine',\n",
       " 'London Health Sciences Centre',\n",
       " 'Memorial Sloan Kettering Cancer Center',\n",
       " 'M.D. Anderson Cancer Center',\n",
       " 'Hospices Civils de Lyon',\n",
       " 'Cornerstone Pharmaceuticals, Inc.',\n",
       " 'Eli Lilly and Company',\n",
       " 'GlaxoSmithKline',\n",
       " 'National Cancer Institute (NCI)',\n",
       " 'Hoosier Cancer Research Network',\n",
       " 'European Organisation for Research and Treatment of Cancer - EORTC',\n",
       " 'Sidney Kimmel Comprehensive Cancer Center',\n",
       " 'Chinese PLA General Hospital',\n",
       " 'Sun Yat-sen University',\n",
       " 'University of Miami',\n",
       " 'Vanderbilt-Ingram Cancer Center',\n",
       " 'Swedish Medical Center',\n",
       " 'National Cancer Institute (NCI)',\n",
       " 'National Cancer Institute (NCI)',\n",
       " \"Children's Oncology Group\",\n",
       " 'Memorial Sloan Kettering Cancer Center',\n",
       " 'New Mexico Cancer Care Alliance',\n",
       " 'Rhode Island Hospital',\n",
       " 'M.D. Anderson Cancer Center',\n",
       " 'Dartmouth-Hitchcock Medical Center',\n",
       " 'Ohio State University Comprehensive Cancer Center',\n",
       " 'Hunan Province Tumor Hospital',\n",
       " 'Talaria, Inc',\n",
       " 'Washington University School of Medicine',\n",
       " 'Massachusetts General Hospital']"
      ]
     },
     "execution_count": 27,
     "metadata": {},
     "output_type": "execute_result"
    }
   ],
   "source": [
    "lead_sponsors[:100]"
   ]
  },
  {
   "cell_type": "code",
   "execution_count": 7,
   "metadata": {
    "collapsed": false
   },
   "outputs": [],
   "source": [
    "# build out data structure to be converted to dataframe - essentially dummy columns for each sponsor\n",
    "random_list = []\n",
    "for row in s:\n",
    "    sponsors_dict = {}\n",
    "    for item in row:\n",
    "        sponsors_dict[item] = 1\n",
    "    random_list.append(sponsors_dict)"
   ]
  },
  {
   "cell_type": "code",
   "execution_count": 8,
   "metadata": {
    "collapsed": true
   },
   "outputs": [],
   "source": [
    "# create dataframe\n",
    "sponsors_df = pd.DataFrame(random_list)"
   ]
  },
  {
   "cell_type": "code",
   "execution_count": 9,
   "metadata": {
    "collapsed": false
   },
   "outputs": [
    {
     "data": {
      "text/plain": [
       "(43962, 10664)"
      ]
     },
     "execution_count": 9,
     "metadata": {},
     "output_type": "execute_result"
    }
   ],
   "source": [
    "# over 10k columns... remove some? no, let's keep it as is for now\n",
    "sponsors_df.shape"
   ]
  },
  {
   "cell_type": "code",
   "execution_count": 10,
   "metadata": {
    "collapsed": false
   },
   "outputs": [
    {
     "data": {
      "text/plain": [
       "National Cancer Institute (NCI)                                  5448.0\n",
       "M.D. Anderson Cancer Center                                      1508.0\n",
       "Memorial Sloan Kettering Cancer Center                            924.0\n",
       "Novartis                                                          877.0\n",
       "National Institutes of Health Clinical Center (CC)                694.0\n",
       "Hoffmann-La Roche                                                 693.0\n",
       "Novartis Pharmaceuticals                                          678.0\n",
       "AstraZeneca                                                       610.0\n",
       "Pfizer                                                            595.0\n",
       "Merck Sharp & Dohme Corp.                                         581.0\n",
       "Genentech, Inc.                                                   551.0\n",
       "GlaxoSmithKline                                                   537.0\n",
       "Celgene Corporation                                               511.0\n",
       "Dana-Farber Cancer Institute                                      503.0\n",
       "Bristol-Myers Squibb                                              482.0\n",
       "Mayo Clinic                                                       462.0\n",
       "Sanofi                                                            412.0\n",
       "Bayer                                                             412.0\n",
       "Massachusetts General Hospital                                    405.0\n",
       "Duke University                                                   369.0\n",
       "Eli Lilly and Company                                             357.0\n",
       "Washington University School of Medicine                          336.0\n",
       "Stanford University                                               324.0\n",
       "Sun Yat-sen University                                            318.0\n",
       "University Health Network, Toronto                                298.0\n",
       "Amgen                                                             297.0\n",
       "National Institutes of Health (NIH)                               294.0\n",
       "Samsung Medical Center                                            282.0\n",
       "University of California, San Francisco                           281.0\n",
       "Millennium Pharmaceuticals, Inc.                                  269.0\n",
       "                                                                  ...  \n",
       "Mind Matters Research LLC                                           1.0\n",
       "Mina Alpha Limited                                                  1.0\n",
       "Mid Essex Hospital NHS Trust                                        1.0\n",
       "Michaela Liedtke                                                    1.0\n",
       "Michel Assor, MD                                                    1.0\n",
       "Michele Cavo                                                        1.0\n",
       "Michelle Melisko                                                    1.0\n",
       "Michigan Department of Community Health                             1.0\n",
       "Michigan Urological Surgery Improvement Collaborative (MUSIC)       1.0\n",
       "Micrima, Ltd.                                                       1.0\n",
       "Micro Therapeutics Inc.                                             1.0\n",
       "MicroVAX, LLC                                                       1.0\n",
       "Micromass Communications, Cary, NC                                  1.0\n",
       "Micromedic Technologies Ltd                                         1.0\n",
       "Mid America Heart Institute                                         1.0\n",
       "Middle East Technical University                                    1.0\n",
       "Min-Hee Ryu                                                         1.0\n",
       "Middlemore Hospital, New Zealand                                    1.0\n",
       "Midwest Cancer Alliance                                             1.0\n",
       "Midwest Nursing Research Society (MNRS)                             1.0\n",
       "Midwestern University                                               1.0\n",
       "Mike Hogg Foundation                                                1.0\n",
       "Mikkel Krogh-Madsen                                                 1.0\n",
       "Mikkeli Central Hospital                                            1.0\n",
       "Milad Hospital                                                      1.0\n",
       "Milhem, Mohammed M                                                  1.0\n",
       "Military 150 Hospital                                               1.0\n",
       "Military University Hospital, Prague                                1.0\n",
       "Miller Children's & Women's Hospital Long Beach                     1.0\n",
       "1199SEIU Benefit and Pension Funds                                  1.0\n",
       "dtype: float64"
      ]
     },
     "execution_count": 10,
     "metadata": {},
     "output_type": "execute_result"
    }
   ],
   "source": [
    "sponsors_df.sum().sort_values(ascending=False)"
   ]
  },
  {
   "cell_type": "code",
   "execution_count": 7,
   "metadata": {
    "collapsed": false
   },
   "outputs": [],
   "source": [
    "# join sponsors_df with trials\n",
    "# result = pd.concat([trials, sponsors_df], axis=1)"
   ]
  },
  {
   "cell_type": "markdown",
   "metadata": {},
   "source": [
    "#### Funded Bys column\n",
    "Split cells with multiple sponsors, then create a new df with a column for each sponsor. Then join with original dataframe."
   ]
  },
  {
   "cell_type": "code",
   "execution_count": 8,
   "metadata": {
    "collapsed": false
   },
   "outputs": [],
   "source": [
    "# Split cells with multiple values\n",
    "t = result['Funded Bys'].str.split('|')"
   ]
  },
  {
   "cell_type": "code",
   "execution_count": 9,
   "metadata": {
    "collapsed": false
   },
   "outputs": [],
   "source": [
    "# Build out data structure (list of dictionaries) that can be converted to a dataframe with a column for each funder\n",
    "funded_by_list = []\n",
    "for row in t:\n",
    "    temp_dict = {}\n",
    "    for z in row:\n",
    "        temp_dict[z]=1\n",
    "    funded_by_list.append(temp_dict)"
   ]
  },
  {
   "cell_type": "code",
   "execution_count": 10,
   "metadata": {
    "collapsed": false
   },
   "outputs": [],
   "source": [
    "# Convert to dataframe\n",
    "funders_df = pd.DataFrame(funded_by_list)"
   ]
  },
  {
   "cell_type": "code",
   "execution_count": 11,
   "metadata": {
    "collapsed": false
   },
   "outputs": [],
   "source": [
    "# Join with result dataframe\n",
    "second_result = pd.concat([result, funders_df], axis=1)"
   ]
  },
  {
   "cell_type": "markdown",
   "metadata": {},
   "source": [
    "#### View funded bys over time"
   ]
  },
  {
   "cell_type": "code",
   "execution_count": 14,
   "metadata": {
    "collapsed": false
   },
   "outputs": [
    {
     "data": {
      "text/plain": [
       "<matplotlib.axes._subplots.AxesSubplot at 0x1fdff20d0>"
      ]
     },
     "execution_count": 14,
     "metadata": {},
     "output_type": "execute_result"
    },
    {
     "data": {
      "image/png": "[encoded data removed]",
      "text/plain": [
       "<matplotlib.figure.Figure at 0x1176dedd0>"
      ]
     },
     "metadata": {},
     "output_type": "display_data"
    }
   ],
   "source": [
    "# Create new df object with columns for each of the funded by columns and index date first received\n",
    "funded_bys = second_result.iloc[:, -4:].set_index(second_result['First Received'])\n",
    "\n",
    "# Plot this data\n",
    "funded_bys.resample('A').sum().plot(colormap='Set1', figsize=(10,7))"
   ]
  },
  {
   "cell_type": "markdown",
   "metadata": {},
   "source": [
    "### Time between study start and completion; Time between study start and results recevied"
   ]
  },
  {
   "cell_type": "code",
   "execution_count": 93,
   "metadata": {
    "collapsed": false
   },
   "outputs": [],
   "source": [
    "# Create slice with columns of interest\n",
    "duration = second_result[['NCT Number', 'Conditions', 'Gender', 'Age', 'Phases', 'Enrollment', 'Funded Bys', 'Study Types',\n",
    "                         'First Received', 'Primary Completion Date']]"
   ]
  },
  {
   "cell_type": "code",
   "execution_count": 94,
   "metadata": {
    "collapsed": true
   },
   "outputs": [],
   "source": [
    "# Further slice to only include studies with primary completion date on or before present\n",
    "duration = duration[duration['Primary Completion Date'] < '2016-08-27']"
   ]
  },
  {
   "cell_type": "code",
   "execution_count": 104,
   "metadata": {
    "collapsed": false
   },
   "outputs": [],
   "source": [
    "# Convert enrollment to int\n",
    "duration.Enrollment = pd.to_numeric(duration.Enrollment, errors='coerce')"
   ]
  },
  {
   "cell_type": "code",
   "execution_count": 109,
   "metadata": {
    "collapsed": true
   },
   "outputs": [],
   "source": [
    "# bucket enrollment\n",
    "bins = [0,50,100,200,300,500,1000,50000]\n",
    "bucket_names = ['<50', '<100', '<200', '<300', '<500', '<1000', '>1000']\n",
    "\n",
    "duration['enroll_buckets'] = pd.cut(duration.Enrollment, bins, labels=bucket_names)"
   ]
  },
  {
   "cell_type": "code",
   "execution_count": 111,
   "metadata": {
    "collapsed": false
   },
   "outputs": [
    {
     "data": {
      "text/html": [
       "<div>\n",
       "<table border=\"1\" class=\"dataframe\">\n",
       "  <thead>\n",
       "    <tr style=\"text-align: right;\">\n",
       "      <th></th>\n",
       "      <th>Enrollment</th>\n",
       "      <th>Duration_int</th>\n",
       "    </tr>\n",
       "    <tr>\n",
       "      <th>enroll_buckets</th>\n",
       "      <th></th>\n",
       "      <th></th>\n",
       "    </tr>\n",
       "  </thead>\n",
       "  <tbody>\n",
       "    <tr>\n",
       "      <th>&lt;50</th>\n",
       "      <td>24.511909</td>\n",
       "      <td>715.051921</td>\n",
       "    </tr>\n",
       "    <tr>\n",
       "      <th>&lt;100</th>\n",
       "      <td>73.658497</td>\n",
       "      <td>717.167916</td>\n",
       "    </tr>\n",
       "    <tr>\n",
       "      <th>&lt;200</th>\n",
       "      <td>146.407397</td>\n",
       "      <td>743.351335</td>\n",
       "    </tr>\n",
       "    <tr>\n",
       "      <th>&lt;300</th>\n",
       "      <td>251.005255</td>\n",
       "      <td>698.091592</td>\n",
       "    </tr>\n",
       "    <tr>\n",
       "      <th>&lt;500</th>\n",
       "      <td>399.026549</td>\n",
       "      <td>744.335479</td>\n",
       "    </tr>\n",
       "    <tr>\n",
       "      <th>&lt;1000</th>\n",
       "      <td>709.487899</td>\n",
       "      <td>787.485963</td>\n",
       "    </tr>\n",
       "    <tr>\n",
       "      <th>&gt;1000</th>\n",
       "      <td>4273.673121</td>\n",
       "      <td>614.277904</td>\n",
       "    </tr>\n",
       "  </tbody>\n",
       "</table>\n",
       "</div>"
      ],
      "text/plain": [
       "                 Enrollment  Duration_int\n",
       "enroll_buckets                           \n",
       "<50               24.511909    715.051921\n",
       "<100              73.658497    717.167916\n",
       "<200             146.407397    743.351335\n",
       "<300             251.005255    698.091592\n",
       "<500             399.026549    744.335479\n",
       "<1000            709.487899    787.485963\n",
       ">1000           4273.673121    614.277904"
      ]
     },
     "execution_count": 111,
     "metadata": {},
     "output_type": "execute_result"
    }
   ],
   "source": [
    "# Group by enrollment\n",
    "duration.groupby('enroll_buckets').mean()"
   ]
  },
  {
   "cell_type": "code",
   "execution_count": 105,
   "metadata": {
    "collapsed": false
   },
   "outputs": [
    {
     "data": {
      "text/plain": [
       "NCT Number                    0\n",
       "Conditions                    0\n",
       "Gender                        0\n",
       "Age                           0\n",
       "Phases                     9011\n",
       "Enrollment                  134\n",
       "Funded Bys                    0\n",
       "Study Types                   0\n",
       "First Received                0\n",
       "Primary Completion Date       0\n",
       "Duration                      0\n",
       "Duration_int                  0\n",
       "dtype: int64"
      ]
     },
     "execution_count": 105,
     "metadata": {},
     "output_type": "execute_result"
    }
   ],
   "source": [
    "# Check for any nulls\n",
    "duration.isnull().sum()"
   ]
  },
  {
   "cell_type": "code",
   "execution_count": 96,
   "metadata": {
    "collapsed": true
   },
   "outputs": [],
   "source": [
    "duration['Duration'] = duration['Primary Completion Date'] - duration['First Received']"
   ]
  },
  {
   "cell_type": "code",
   "execution_count": 97,
   "metadata": {
    "collapsed": false
   },
   "outputs": [],
   "source": [
    "duration['Duration_int'] = duration.Duration.dt.days"
   ]
  },
  {
   "cell_type": "code",
   "execution_count": 98,
   "metadata": {
    "collapsed": false
   },
   "outputs": [
    {
     "data": {
      "text/html": [
       "<div>\n",
       "<table border=\"1\" class=\"dataframe\">\n",
       "  <thead>\n",
       "    <tr style=\"text-align: right;\">\n",
       "      <th></th>\n",
       "      <th>Duration_int</th>\n",
       "    </tr>\n",
       "    <tr>\n",
       "      <th>Phases</th>\n",
       "      <th></th>\n",
       "    </tr>\n",
       "  </thead>\n",
       "  <tbody>\n",
       "    <tr>\n",
       "      <th>Phase 0</th>\n",
       "      <td>688.777778</td>\n",
       "    </tr>\n",
       "    <tr>\n",
       "      <th>Phase 1</th>\n",
       "      <td>785.526254</td>\n",
       "    </tr>\n",
       "    <tr>\n",
       "      <th>Phase 1|Phase 2</th>\n",
       "      <td>895.967260</td>\n",
       "    </tr>\n",
       "    <tr>\n",
       "      <th>Phase 2</th>\n",
       "      <td>842.394657</td>\n",
       "    </tr>\n",
       "    <tr>\n",
       "      <th>Phase 2|Phase 3</th>\n",
       "      <td>655.367500</td>\n",
       "    </tr>\n",
       "    <tr>\n",
       "      <th>Phase 3</th>\n",
       "      <td>774.839339</td>\n",
       "    </tr>\n",
       "    <tr>\n",
       "      <th>Phase 4</th>\n",
       "      <td>506.861282</td>\n",
       "    </tr>\n",
       "  </tbody>\n",
       "</table>\n",
       "</div>"
      ],
      "text/plain": [
       "                 Duration_int\n",
       "Phases                       \n",
       "Phase 0            688.777778\n",
       "Phase 1            785.526254\n",
       "Phase 1|Phase 2    895.967260\n",
       "Phase 2            842.394657\n",
       "Phase 2|Phase 3    655.367500\n",
       "Phase 3            774.839339\n",
       "Phase 4            506.861282"
      ]
     },
     "execution_count": 98,
     "metadata": {},
     "output_type": "execute_result"
    }
   ],
   "source": [
    "duration.groupby('Phases').mean()"
   ]
  },
  {
   "cell_type": "code",
   "execution_count": 99,
   "metadata": {
    "collapsed": false
   },
   "outputs": [
    {
     "data": {
      "text/html": [
       "<div>\n",
       "<table border=\"1\" class=\"dataframe\">\n",
       "  <thead>\n",
       "    <tr style=\"text-align: right;\">\n",
       "      <th></th>\n",
       "      <th>Duration_int</th>\n",
       "    </tr>\n",
       "    <tr>\n",
       "      <th>Funded Bys</th>\n",
       "      <th></th>\n",
       "    </tr>\n",
       "  </thead>\n",
       "  <tbody>\n",
       "    <tr>\n",
       "      <th>Other|U.S. Fed|Industry|NIH</th>\n",
       "      <td>-534.000000</td>\n",
       "    </tr>\n",
       "    <tr>\n",
       "      <th>Other|Industry|U.S. Fed|NIH</th>\n",
       "      <td>323.000000</td>\n",
       "    </tr>\n",
       "    <tr>\n",
       "      <th>U.S. Fed|Industry|Other</th>\n",
       "      <td>407.000000</td>\n",
       "    </tr>\n",
       "    <tr>\n",
       "      <th>U.S. Fed|NIH</th>\n",
       "      <td>426.666667</td>\n",
       "    </tr>\n",
       "    <tr>\n",
       "      <th>Other|U.S. Fed|Industry</th>\n",
       "      <td>519.000000</td>\n",
       "    </tr>\n",
       "    <tr>\n",
       "      <th>Industry|Other</th>\n",
       "      <td>569.232099</td>\n",
       "    </tr>\n",
       "    <tr>\n",
       "      <th>Other</th>\n",
       "      <td>627.554184</td>\n",
       "    </tr>\n",
       "    <tr>\n",
       "      <th>Industry</th>\n",
       "      <td>654.822001</td>\n",
       "    </tr>\n",
       "    <tr>\n",
       "      <th>Other|U.S. Fed|NIH|Industry</th>\n",
       "      <td>678.000000</td>\n",
       "    </tr>\n",
       "    <tr>\n",
       "      <th>U.S. Fed|Other</th>\n",
       "      <td>710.250000</td>\n",
       "    </tr>\n",
       "    <tr>\n",
       "      <th>Other|U.S. Fed|NIH</th>\n",
       "      <td>758.250000</td>\n",
       "    </tr>\n",
       "    <tr>\n",
       "      <th>Industry|U.S. Fed|Other</th>\n",
       "      <td>770.000000</td>\n",
       "    </tr>\n",
       "    <tr>\n",
       "      <th>Other|Industry|U.S. Fed</th>\n",
       "      <td>803.000000</td>\n",
       "    </tr>\n",
       "    <tr>\n",
       "      <th>Industry|Other|U.S. Fed</th>\n",
       "      <td>813.200000</td>\n",
       "    </tr>\n",
       "    <tr>\n",
       "      <th>U.S. Fed</th>\n",
       "      <td>819.925926</td>\n",
       "    </tr>\n",
       "    <tr>\n",
       "      <th>Other|U.S. Fed</th>\n",
       "      <td>821.883495</td>\n",
       "    </tr>\n",
       "    <tr>\n",
       "      <th>Industry|NIH</th>\n",
       "      <td>824.000000</td>\n",
       "    </tr>\n",
       "    <tr>\n",
       "      <th>Industry|NIH|Other</th>\n",
       "      <td>866.333333</td>\n",
       "    </tr>\n",
       "    <tr>\n",
       "      <th>Other|NIH</th>\n",
       "      <td>952.750985</td>\n",
       "    </tr>\n",
       "    <tr>\n",
       "      <th>Other|Industry</th>\n",
       "      <td>960.608974</td>\n",
       "    </tr>\n",
       "    <tr>\n",
       "      <th>U.S. Fed|Industry</th>\n",
       "      <td>995.500000</td>\n",
       "    </tr>\n",
       "    <tr>\n",
       "      <th>Other|Industry|NIH</th>\n",
       "      <td>1005.450000</td>\n",
       "    </tr>\n",
       "    <tr>\n",
       "      <th>Industry|Other|U.S. Fed|NIH</th>\n",
       "      <td>1037.000000</td>\n",
       "    </tr>\n",
       "    <tr>\n",
       "      <th>NIH|Industry</th>\n",
       "      <td>1069.900000</td>\n",
       "    </tr>\n",
       "    <tr>\n",
       "      <th>NIH</th>\n",
       "      <td>1093.678571</td>\n",
       "    </tr>\n",
       "    <tr>\n",
       "      <th>NIH|Other</th>\n",
       "      <td>1139.250000</td>\n",
       "    </tr>\n",
       "    <tr>\n",
       "      <th>Industry|U.S. Fed</th>\n",
       "      <td>1165.250000</td>\n",
       "    </tr>\n",
       "    <tr>\n",
       "      <th>Other|NIH|Industry</th>\n",
       "      <td>1165.600000</td>\n",
       "    </tr>\n",
       "    <tr>\n",
       "      <th>Other|NIH|U.S. Fed</th>\n",
       "      <td>1204.666667</td>\n",
       "    </tr>\n",
       "    <tr>\n",
       "      <th>Industry|Other|NIH</th>\n",
       "      <td>1308.750000</td>\n",
       "    </tr>\n",
       "    <tr>\n",
       "      <th>U.S. Fed|NIH|Other</th>\n",
       "      <td>1567.000000</td>\n",
       "    </tr>\n",
       "  </tbody>\n",
       "</table>\n",
       "</div>"
      ],
      "text/plain": [
       "                             Duration_int\n",
       "Funded Bys                               \n",
       "Other|U.S. Fed|Industry|NIH   -534.000000\n",
       "Other|Industry|U.S. Fed|NIH    323.000000\n",
       "U.S. Fed|Industry|Other        407.000000\n",
       "U.S. Fed|NIH                   426.666667\n",
       "Other|U.S. Fed|Industry        519.000000\n",
       "Industry|Other                 569.232099\n",
       "Other                          627.554184\n",
       "Industry                       654.822001\n",
       "Other|U.S. Fed|NIH|Industry    678.000000\n",
       "U.S. Fed|Other                 710.250000\n",
       "Other|U.S. Fed|NIH             758.250000\n",
       "Industry|U.S. Fed|Other        770.000000\n",
       "Other|Industry|U.S. Fed        803.000000\n",
       "Industry|Other|U.S. Fed        813.200000\n",
       "U.S. Fed                       819.925926\n",
       "Other|U.S. Fed                 821.883495\n",
       "Industry|NIH                   824.000000\n",
       "Industry|NIH|Other             866.333333\n",
       "Other|NIH                      952.750985\n",
       "Other|Industry                 960.608974\n",
       "U.S. Fed|Industry              995.500000\n",
       "Other|Industry|NIH            1005.450000\n",
       "Industry|Other|U.S. Fed|NIH   1037.000000\n",
       "NIH|Industry                  1069.900000\n",
       "NIH                           1093.678571\n",
       "NIH|Other                     1139.250000\n",
       "Industry|U.S. Fed             1165.250000\n",
       "Other|NIH|Industry            1165.600000\n",
       "Other|NIH|U.S. Fed            1204.666667\n",
       "Industry|Other|NIH            1308.750000\n",
       "U.S. Fed|NIH|Other            1567.000000"
      ]
     },
     "execution_count": 99,
     "metadata": {},
     "output_type": "execute_result"
    }
   ],
   "source": [
    "duration.groupby('Funded Bys').mean().sort_values(by='Duration_int')"
   ]
  },
  {
   "cell_type": "code",
   "execution_count": 100,
   "metadata": {
    "collapsed": false
   },
   "outputs": [
    {
     "data": {
      "text/html": [
       "<div>\n",
       "<table border=\"1\" class=\"dataframe\">\n",
       "  <thead>\n",
       "    <tr style=\"text-align: right;\">\n",
       "      <th></th>\n",
       "      <th>NCT Number</th>\n",
       "      <th>Conditions</th>\n",
       "      <th>Gender</th>\n",
       "      <th>Age</th>\n",
       "      <th>Phases</th>\n",
       "      <th>Enrollment</th>\n",
       "      <th>Funded Bys</th>\n",
       "      <th>Study Types</th>\n",
       "      <th>First Received</th>\n",
       "      <th>Primary Completion Date</th>\n",
       "      <th>Duration</th>\n",
       "      <th>Duration_int</th>\n",
       "    </tr>\n",
       "  </thead>\n",
       "  <tbody>\n",
       "    <tr>\n",
       "      <th>16</th>\n",
       "      <td>NCT01470586</td>\n",
       "      <td>Colorectal Cancer|Colon Rectal Resection|Oxida...</td>\n",
       "      <td>Both</td>\n",
       "      <td>25 Years to 80 Years   (Adult, Senior)</td>\n",
       "      <td>NaN</td>\n",
       "      <td>60</td>\n",
       "      <td>Other</td>\n",
       "      <td>Interventional</td>\n",
       "      <td>2011-11-05</td>\n",
       "      <td>2010-10-01</td>\n",
       "      <td>-400 days</td>\n",
       "      <td>-400</td>\n",
       "    </tr>\n",
       "    <tr>\n",
       "      <th>31</th>\n",
       "      <td>NCT01440855</td>\n",
       "      <td>Prostate Cancer|Breast Cancer|Colorectal Cance...</td>\n",
       "      <td>Both</td>\n",
       "      <td>18 Years and older   (Adult, Senior)</td>\n",
       "      <td>NaN</td>\n",
       "      <td>340</td>\n",
       "      <td>Other|NIH</td>\n",
       "      <td>Interventional</td>\n",
       "      <td>2011-09-22</td>\n",
       "      <td>2009-10-01</td>\n",
       "      <td>-721 days</td>\n",
       "      <td>-721</td>\n",
       "    </tr>\n",
       "    <tr>\n",
       "      <th>77</th>\n",
       "      <td>NCT01236053</td>\n",
       "      <td>Pain, Neuropathic|Epilepsy|Renal Pelvis Cancer...</td>\n",
       "      <td>Both</td>\n",
       "      <td>Child, Adult, Senior</td>\n",
       "      <td>NaN</td>\n",
       "      <td>2323608</td>\n",
       "      <td>Industry</td>\n",
       "      <td>Observational</td>\n",
       "      <td>2010-10-14</td>\n",
       "      <td>2010-09-01</td>\n",
       "      <td>-43 days</td>\n",
       "      <td>-43</td>\n",
       "    </tr>\n",
       "    <tr>\n",
       "      <th>85</th>\n",
       "      <td>NCT00656604</td>\n",
       "      <td>Breast Cancer</td>\n",
       "      <td>Female</td>\n",
       "      <td>18 Years and older   (Adult, Senior)</td>\n",
       "      <td>NaN</td>\n",
       "      <td>30</td>\n",
       "      <td>Other|NIH</td>\n",
       "      <td>Interventional</td>\n",
       "      <td>2008-04-10</td>\n",
       "      <td>2005-10-01</td>\n",
       "      <td>-922 days</td>\n",
       "      <td>-922</td>\n",
       "    </tr>\n",
       "    <tr>\n",
       "      <th>97</th>\n",
       "      <td>NCT01335152</td>\n",
       "      <td>Breast Cancer</td>\n",
       "      <td>Female</td>\n",
       "      <td>18 Years and older   (Adult, Senior)</td>\n",
       "      <td>Phase 1|Phase 2</td>\n",
       "      <td>100</td>\n",
       "      <td>Industry|NIH</td>\n",
       "      <td>Interventional</td>\n",
       "      <td>2011-04-12</td>\n",
       "      <td>2011-04-01</td>\n",
       "      <td>-11 days</td>\n",
       "      <td>-11</td>\n",
       "    </tr>\n",
       "    <tr>\n",
       "      <th>176</th>\n",
       "      <td>NCT00483639</td>\n",
       "      <td>Anxiety Disorder|Head and Neck Cancer|Lung Cancer</td>\n",
       "      <td>Both</td>\n",
       "      <td>21 Years to 70 Years   (Adult, Senior)</td>\n",
       "      <td>NaN</td>\n",
       "      <td>100</td>\n",
       "      <td>Other|NIH</td>\n",
       "      <td>Observational</td>\n",
       "      <td>2007-06-06</td>\n",
       "      <td>2006-03-01</td>\n",
       "      <td>-462 days</td>\n",
       "      <td>-462</td>\n",
       "    </tr>\n",
       "    <tr>\n",
       "      <th>224</th>\n",
       "      <td>NCT00923481</td>\n",
       "      <td>Head and Neck Neoplasms|Pheochromocytoma|Color...</td>\n",
       "      <td>Both</td>\n",
       "      <td>18 Years and older   (Adult, Senior)</td>\n",
       "      <td>Phase 2</td>\n",
       "      <td>37</td>\n",
       "      <td>NIH</td>\n",
       "      <td>Interventional</td>\n",
       "      <td>2009-06-17</td>\n",
       "      <td>2009-04-01</td>\n",
       "      <td>-77 days</td>\n",
       "      <td>-77</td>\n",
       "    </tr>\n",
       "    <tr>\n",
       "      <th>234</th>\n",
       "      <td>NCT00653250</td>\n",
       "      <td>Lung Cancer</td>\n",
       "      <td>Both</td>\n",
       "      <td>Child, Adult, Senior</td>\n",
       "      <td>NaN</td>\n",
       "      <td>22</td>\n",
       "      <td>Other|NIH</td>\n",
       "      <td>Interventional</td>\n",
       "      <td>2008-04-03</td>\n",
       "      <td>2006-03-01</td>\n",
       "      <td>-764 days</td>\n",
       "      <td>-764</td>\n",
       "    </tr>\n",
       "    <tr>\n",
       "      <th>264</th>\n",
       "      <td>NCT00433394</td>\n",
       "      <td>Unspecified Childhood Solid Tumor, Protocol Sp...</td>\n",
       "      <td>Both</td>\n",
       "      <td>up to 20 Years   (Child, Adult)</td>\n",
       "      <td>NaN</td>\n",
       "      <td>2242</td>\n",
       "      <td>Other|NIH</td>\n",
       "      <td>Interventional</td>\n",
       "      <td>2007-02-09</td>\n",
       "      <td>2007-01-01</td>\n",
       "      <td>-39 days</td>\n",
       "      <td>-39</td>\n",
       "    </tr>\n",
       "    <tr>\n",
       "      <th>266</th>\n",
       "      <td>NCT01415375</td>\n",
       "      <td>Prostate Cancer Screening Decision</td>\n",
       "      <td>Male</td>\n",
       "      <td>45 Years to 70 Years   (Adult, Senior)</td>\n",
       "      <td>Phase 2|Phase 3</td>\n",
       "      <td>490</td>\n",
       "      <td>Other</td>\n",
       "      <td>Interventional</td>\n",
       "      <td>2011-08-10</td>\n",
       "      <td>2007-07-01</td>\n",
       "      <td>-1501 days</td>\n",
       "      <td>-1501</td>\n",
       "    </tr>\n",
       "    <tr>\n",
       "      <th>273</th>\n",
       "      <td>NCT00897832</td>\n",
       "      <td>Pancreatic Cancer</td>\n",
       "      <td>Both</td>\n",
       "      <td>Child, Adult, Senior</td>\n",
       "      <td>NaN</td>\n",
       "      <td>50</td>\n",
       "      <td>Other|NIH</td>\n",
       "      <td>Observational</td>\n",
       "      <td>2009-05-09</td>\n",
       "      <td>2007-12-01</td>\n",
       "      <td>-525 days</td>\n",
       "      <td>-525</td>\n",
       "    </tr>\n",
       "    <tr>\n",
       "      <th>291</th>\n",
       "      <td>NCT01972503</td>\n",
       "      <td>Colorectal Neoplasms|Neoplasm Metastasis|Liver...</td>\n",
       "      <td>Both</td>\n",
       "      <td>18 Years to 75 Years   (Adult, Senior)</td>\n",
       "      <td>Phase 4</td>\n",
       "      <td>300</td>\n",
       "      <td>Other</td>\n",
       "      <td>Interventional</td>\n",
       "      <td>2013-09-23</td>\n",
       "      <td>2013-09-01</td>\n",
       "      <td>-22 days</td>\n",
       "      <td>-22</td>\n",
       "    </tr>\n",
       "    <tr>\n",
       "      <th>294</th>\n",
       "      <td>NCT02368236</td>\n",
       "      <td>Colorectal Neoplasms|Colonic Neoplasms</td>\n",
       "      <td>Both</td>\n",
       "      <td>25 Years to 75 Years   (Adult, Senior)</td>\n",
       "      <td>NaN</td>\n",
       "      <td>1012</td>\n",
       "      <td>Other|NIH</td>\n",
       "      <td>Interventional</td>\n",
       "      <td>2015-01-28</td>\n",
       "      <td>2012-02-01</td>\n",
       "      <td>-1092 days</td>\n",
       "      <td>-1092</td>\n",
       "    </tr>\n",
       "    <tr>\n",
       "      <th>298</th>\n",
       "      <td>NCT00898664</td>\n",
       "      <td>Head and Neck Cancer</td>\n",
       "      <td>Both</td>\n",
       "      <td>18 Years and older   (Adult, Senior)</td>\n",
       "      <td>NaN</td>\n",
       "      <td>74</td>\n",
       "      <td>Other|NIH</td>\n",
       "      <td>Observational</td>\n",
       "      <td>2009-05-09</td>\n",
       "      <td>2008-04-01</td>\n",
       "      <td>-403 days</td>\n",
       "      <td>-403</td>\n",
       "    </tr>\n",
       "    <tr>\n",
       "      <th>312</th>\n",
       "      <td>NCT02435290</td>\n",
       "      <td>Inappropriate Prescribing|Clinical Oncology</td>\n",
       "      <td>Both</td>\n",
       "      <td>18 Years to 80 Years   (Adult, Senior)</td>\n",
       "      <td>NaN</td>\n",
       "      <td>500</td>\n",
       "      <td>Other</td>\n",
       "      <td>Observational</td>\n",
       "      <td>2015-03-22</td>\n",
       "      <td>2015-03-01</td>\n",
       "      <td>-21 days</td>\n",
       "      <td>-21</td>\n",
       "    </tr>\n",
       "    <tr>\n",
       "      <th>320</th>\n",
       "      <td>NCT02808598</td>\n",
       "      <td>Breast Cancer</td>\n",
       "      <td>Female</td>\n",
       "      <td>21 Years and older   (Adult, Senior)</td>\n",
       "      <td>NaN</td>\n",
       "      <td>1065</td>\n",
       "      <td>Other</td>\n",
       "      <td>Interventional</td>\n",
       "      <td>2014-06-16</td>\n",
       "      <td>2012-01-01</td>\n",
       "      <td>-897 days</td>\n",
       "      <td>-897</td>\n",
       "    </tr>\n",
       "    <tr>\n",
       "      <th>339</th>\n",
       "      <td>NCT00900523</td>\n",
       "      <td>Ovarian Cancer</td>\n",
       "      <td>Female</td>\n",
       "      <td>17 Years and older   (Child, Adult, Senior)</td>\n",
       "      <td>NaN</td>\n",
       "      <td>7</td>\n",
       "      <td>Other|NIH</td>\n",
       "      <td>Observational</td>\n",
       "      <td>2009-05-09</td>\n",
       "      <td>2007-07-01</td>\n",
       "      <td>-678 days</td>\n",
       "      <td>-678</td>\n",
       "    </tr>\n",
       "    <tr>\n",
       "      <th>340</th>\n",
       "      <td>NCT02475889</td>\n",
       "      <td>Colorectal Cancer</td>\n",
       "      <td>Both</td>\n",
       "      <td>32 Years to 78 Years   (Adult, Senior)</td>\n",
       "      <td>NaN</td>\n",
       "      <td>78</td>\n",
       "      <td>Other</td>\n",
       "      <td>Observational</td>\n",
       "      <td>2015-06-06</td>\n",
       "      <td>2015-01-01</td>\n",
       "      <td>-156 days</td>\n",
       "      <td>-156</td>\n",
       "    </tr>\n",
       "    <tr>\n",
       "      <th>362</th>\n",
       "      <td>NCT02542332</td>\n",
       "      <td>Information About the Knowledge on the Statist...</td>\n",
       "      <td>Both</td>\n",
       "      <td>Child, Adult, Senior</td>\n",
       "      <td>NaN</td>\n",
       "      <td>556</td>\n",
       "      <td>Other</td>\n",
       "      <td>Interventional</td>\n",
       "      <td>2015-08-16</td>\n",
       "      <td>2015-08-01</td>\n",
       "      <td>-15 days</td>\n",
       "      <td>-15</td>\n",
       "    </tr>\n",
       "    <tr>\n",
       "      <th>408</th>\n",
       "      <td>NCT01207999</td>\n",
       "      <td>Infections, Papillomavirus|Cervical Cancer</td>\n",
       "      <td>Female</td>\n",
       "      <td>21 Years and older   (Adult, Senior)</td>\n",
       "      <td>NaN</td>\n",
       "      <td>591</td>\n",
       "      <td>Industry|Other</td>\n",
       "      <td>Observational</td>\n",
       "      <td>2010-09-22</td>\n",
       "      <td>2010-03-01</td>\n",
       "      <td>-205 days</td>\n",
       "      <td>-205</td>\n",
       "    </tr>\n",
       "    <tr>\n",
       "      <th>438</th>\n",
       "      <td>NCT01916837</td>\n",
       "      <td>Invasive Breast Cancer</td>\n",
       "      <td>Both</td>\n",
       "      <td>18 Years and older   (Adult, Senior)</td>\n",
       "      <td>NaN</td>\n",
       "      <td>180</td>\n",
       "      <td>Other</td>\n",
       "      <td>Observational</td>\n",
       "      <td>2013-07-30</td>\n",
       "      <td>2010-12-01</td>\n",
       "      <td>-972 days</td>\n",
       "      <td>-972</td>\n",
       "    </tr>\n",
       "    <tr>\n",
       "      <th>453</th>\n",
       "      <td>NCT01368744</td>\n",
       "      <td>Breast Neoplasms|Breast Diseases</td>\n",
       "      <td>Both</td>\n",
       "      <td>18 Years and older   (Adult, Senior)</td>\n",
       "      <td>NaN</td>\n",
       "      <td>150</td>\n",
       "      <td>Industry</td>\n",
       "      <td>Observational</td>\n",
       "      <td>2011-06-06</td>\n",
       "      <td>2011-06-01</td>\n",
       "      <td>-5 days</td>\n",
       "      <td>-5</td>\n",
       "    </tr>\n",
       "    <tr>\n",
       "      <th>528</th>\n",
       "      <td>NCT02022553</td>\n",
       "      <td>Rectal Cancer T3-4N0-2M0</td>\n",
       "      <td>Both</td>\n",
       "      <td>15 Years to 75 Years   (Child, Adult, Senior)</td>\n",
       "      <td>NaN</td>\n",
       "      <td>50</td>\n",
       "      <td>Other</td>\n",
       "      <td>Interventional</td>\n",
       "      <td>2013-12-19</td>\n",
       "      <td>2013-12-01</td>\n",
       "      <td>-18 days</td>\n",
       "      <td>-18</td>\n",
       "    </tr>\n",
       "    <tr>\n",
       "      <th>538</th>\n",
       "      <td>NCT01277653</td>\n",
       "      <td>Hepatocellular Carcinoma</td>\n",
       "      <td>Both</td>\n",
       "      <td>20 Years to 75 Years   (Adult, Senior)</td>\n",
       "      <td>NaN</td>\n",
       "      <td>1000</td>\n",
       "      <td>Other</td>\n",
       "      <td>Observational</td>\n",
       "      <td>2011-01-14</td>\n",
       "      <td>2010-06-01</td>\n",
       "      <td>-227 days</td>\n",
       "      <td>-227</td>\n",
       "    </tr>\n",
       "    <tr>\n",
       "      <th>553</th>\n",
       "      <td>NCT00900133</td>\n",
       "      <td>Breast Cancer</td>\n",
       "      <td>Both</td>\n",
       "      <td>18 Years and older   (Adult, Senior)</td>\n",
       "      <td>NaN</td>\n",
       "      <td>60</td>\n",
       "      <td>Other|NIH</td>\n",
       "      <td>Observational</td>\n",
       "      <td>2009-05-09</td>\n",
       "      <td>2006-04-01</td>\n",
       "      <td>-1134 days</td>\n",
       "      <td>-1134</td>\n",
       "    </tr>\n",
       "    <tr>\n",
       "      <th>562</th>\n",
       "      <td>NCT01230983</td>\n",
       "      <td>Cardiac Toxicity|Leukemia|Lymphoma</td>\n",
       "      <td>Both</td>\n",
       "      <td>up to 21 Years   (Child, Adult)</td>\n",
       "      <td>Phase 3</td>\n",
       "      <td>573</td>\n",
       "      <td>Other|NIH</td>\n",
       "      <td>Interventional</td>\n",
       "      <td>2010-10-28</td>\n",
       "      <td>2001-09-01</td>\n",
       "      <td>-3344 days</td>\n",
       "      <td>-3344</td>\n",
       "    </tr>\n",
       "    <tr>\n",
       "      <th>597</th>\n",
       "      <td>NCT00908739</td>\n",
       "      <td>Kidney Cancer</td>\n",
       "      <td>Both</td>\n",
       "      <td>Child, Adult, Senior</td>\n",
       "      <td>NaN</td>\n",
       "      <td>0</td>\n",
       "      <td>Other|NIH</td>\n",
       "      <td>Observational</td>\n",
       "      <td>2009-05-23</td>\n",
       "      <td>2008-09-01</td>\n",
       "      <td>-264 days</td>\n",
       "      <td>-264</td>\n",
       "    </tr>\n",
       "    <tr>\n",
       "      <th>605</th>\n",
       "      <td>NCT00633750</td>\n",
       "      <td>Breast Cancer</td>\n",
       "      <td>Both</td>\n",
       "      <td>18 Years and older   (Adult, Senior)</td>\n",
       "      <td>Phase 2</td>\n",
       "      <td>50</td>\n",
       "      <td>Other|NIH</td>\n",
       "      <td>Interventional</td>\n",
       "      <td>2008-03-11</td>\n",
       "      <td>2007-10-01</td>\n",
       "      <td>-162 days</td>\n",
       "      <td>-162</td>\n",
       "    </tr>\n",
       "    <tr>\n",
       "      <th>630</th>\n",
       "      <td>NCT02833467</td>\n",
       "      <td>Carcinoma|Non-small-cell Lung Cancer|Thoracic ...</td>\n",
       "      <td>Both</td>\n",
       "      <td>18 Years and older   (Adult, Senior)</td>\n",
       "      <td>NaN</td>\n",
       "      <td>45</td>\n",
       "      <td>Other</td>\n",
       "      <td>Observational</td>\n",
       "      <td>2016-07-09</td>\n",
       "      <td>2016-06-01</td>\n",
       "      <td>-38 days</td>\n",
       "      <td>-38</td>\n",
       "    </tr>\n",
       "    <tr>\n",
       "      <th>641</th>\n",
       "      <td>NCT00629759</td>\n",
       "      <td>Neoplasms, Liver</td>\n",
       "      <td>Both</td>\n",
       "      <td>18 Years and older   (Adult, Senior)</td>\n",
       "      <td>Phase 1</td>\n",
       "      <td>14</td>\n",
       "      <td>Industry</td>\n",
       "      <td>Interventional</td>\n",
       "      <td>2008-02-26</td>\n",
       "      <td>2007-07-01</td>\n",
       "      <td>-240 days</td>\n",
       "      <td>-240</td>\n",
       "    </tr>\n",
       "    <tr>\n",
       "      <th>...</th>\n",
       "      <td>...</td>\n",
       "      <td>...</td>\n",
       "      <td>...</td>\n",
       "      <td>...</td>\n",
       "      <td>...</td>\n",
       "      <td>...</td>\n",
       "      <td>...</td>\n",
       "      <td>...</td>\n",
       "      <td>...</td>\n",
       "      <td>...</td>\n",
       "      <td>...</td>\n",
       "      <td>...</td>\n",
       "    </tr>\n",
       "    <tr>\n",
       "      <th>43706</th>\n",
       "      <td>NCT00911313</td>\n",
       "      <td>Polycystic Ovary Syndrome</td>\n",
       "      <td>Female</td>\n",
       "      <td>20 Years to 36 Years   (Adult)</td>\n",
       "      <td>NaN</td>\n",
       "      <td>250</td>\n",
       "      <td>Other</td>\n",
       "      <td>Interventional</td>\n",
       "      <td>2009-05-28</td>\n",
       "      <td>2009-01-01</td>\n",
       "      <td>-147 days</td>\n",
       "      <td>-147</td>\n",
       "    </tr>\n",
       "    <tr>\n",
       "      <th>43717</th>\n",
       "      <td>NCT00859105</td>\n",
       "      <td>Actinic Keratosis</td>\n",
       "      <td>Both</td>\n",
       "      <td>Child, Adult, Senior</td>\n",
       "      <td>Phase 3</td>\n",
       "      <td>497</td>\n",
       "      <td>Industry</td>\n",
       "      <td>Interventional</td>\n",
       "      <td>2009-03-09</td>\n",
       "      <td>2008-11-01</td>\n",
       "      <td>-128 days</td>\n",
       "      <td>-128</td>\n",
       "    </tr>\n",
       "    <tr>\n",
       "      <th>43721</th>\n",
       "      <td>NCT00842140</td>\n",
       "      <td>Polycystic Ovary Syndrome</td>\n",
       "      <td>Female</td>\n",
       "      <td>18 Years to 35 Years   (Adult)</td>\n",
       "      <td>NaN</td>\n",
       "      <td>75</td>\n",
       "      <td>Other</td>\n",
       "      <td>Interventional</td>\n",
       "      <td>2009-02-10</td>\n",
       "      <td>2009-01-01</td>\n",
       "      <td>-40 days</td>\n",
       "      <td>-40</td>\n",
       "    </tr>\n",
       "    <tr>\n",
       "      <th>43734</th>\n",
       "      <td>NCT00803530</td>\n",
       "      <td>Myelodysplastic Syndromes</td>\n",
       "      <td>Both</td>\n",
       "      <td>18 Years to 80 Years   (Adult, Senior)</td>\n",
       "      <td>Phase 2</td>\n",
       "      <td>55</td>\n",
       "      <td>Other</td>\n",
       "      <td>Interventional</td>\n",
       "      <td>2008-12-04</td>\n",
       "      <td>2007-01-01</td>\n",
       "      <td>-703 days</td>\n",
       "      <td>-703</td>\n",
       "    </tr>\n",
       "    <tr>\n",
       "      <th>43736</th>\n",
       "      <td>NCT00795808</td>\n",
       "      <td>Polycystic Ovary Syndrome</td>\n",
       "      <td>Female</td>\n",
       "      <td>18 Years to 39 Years   (Adult)</td>\n",
       "      <td>Phase 4</td>\n",
       "      <td>171</td>\n",
       "      <td>Other</td>\n",
       "      <td>Interventional</td>\n",
       "      <td>2008-11-20</td>\n",
       "      <td>2008-10-01</td>\n",
       "      <td>-50 days</td>\n",
       "      <td>-50</td>\n",
       "    </tr>\n",
       "    <tr>\n",
       "      <th>43744</th>\n",
       "      <td>NCT00771888</td>\n",
       "      <td>Polycystic Liver Disease|Hepatomegaly|Liver Di...</td>\n",
       "      <td>Both</td>\n",
       "      <td>18 Years to 88 Years   (Adult, Senior)</td>\n",
       "      <td>Phase 2|Phase 3</td>\n",
       "      <td>54</td>\n",
       "      <td>Other|Industry</td>\n",
       "      <td>Interventional</td>\n",
       "      <td>2008-10-13</td>\n",
       "      <td>2008-10-01</td>\n",
       "      <td>-12 days</td>\n",
       "      <td>-12</td>\n",
       "    </tr>\n",
       "    <tr>\n",
       "      <th>43756</th>\n",
       "      <td>NCT00714233</td>\n",
       "      <td>Polycystic Ovary Syndrome</td>\n",
       "      <td>Female</td>\n",
       "      <td>12 Years to 18 Years   (Child, Adult)</td>\n",
       "      <td>Phase 3</td>\n",
       "      <td>43</td>\n",
       "      <td>Other</td>\n",
       "      <td>Interventional</td>\n",
       "      <td>2008-07-08</td>\n",
       "      <td>2004-04-01</td>\n",
       "      <td>-1559 days</td>\n",
       "      <td>-1559</td>\n",
       "    </tr>\n",
       "    <tr>\n",
       "      <th>43757</th>\n",
       "      <td>NCT00713778</td>\n",
       "      <td>Ovarian Cysts</td>\n",
       "      <td>Female</td>\n",
       "      <td>18 Years to 40 Years   (Adult)</td>\n",
       "      <td>Phase 4</td>\n",
       "      <td>192</td>\n",
       "      <td>Other</td>\n",
       "      <td>Interventional</td>\n",
       "      <td>2008-07-07</td>\n",
       "      <td>2008-05-01</td>\n",
       "      <td>-67 days</td>\n",
       "      <td>-67</td>\n",
       "    </tr>\n",
       "    <tr>\n",
       "      <th>43764</th>\n",
       "      <td>NCT00696488</td>\n",
       "      <td>Actinic Keratosis</td>\n",
       "      <td>Both</td>\n",
       "      <td>50 Years and older   (Adult, Senior)</td>\n",
       "      <td>Phase 4</td>\n",
       "      <td>20</td>\n",
       "      <td>Other</td>\n",
       "      <td>Interventional</td>\n",
       "      <td>2008-06-09</td>\n",
       "      <td>2007-08-01</td>\n",
       "      <td>-313 days</td>\n",
       "      <td>-313</td>\n",
       "    </tr>\n",
       "    <tr>\n",
       "      <th>43766</th>\n",
       "      <td>NCT00695578</td>\n",
       "      <td>Actinic Keratosis</td>\n",
       "      <td>Both</td>\n",
       "      <td>50 Years and older   (Adult, Senior)</td>\n",
       "      <td>Phase 4</td>\n",
       "      <td>20</td>\n",
       "      <td>Other</td>\n",
       "      <td>Interventional</td>\n",
       "      <td>2008-06-09</td>\n",
       "      <td>2007-06-01</td>\n",
       "      <td>-374 days</td>\n",
       "      <td>-374</td>\n",
       "    </tr>\n",
       "    <tr>\n",
       "      <th>43771</th>\n",
       "      <td>NCT00679679</td>\n",
       "      <td>Polycystic Ovary Syndrome</td>\n",
       "      <td>Female</td>\n",
       "      <td>18 Years to 35 Years   (Adult)</td>\n",
       "      <td>Phase 4</td>\n",
       "      <td>30</td>\n",
       "      <td>Other</td>\n",
       "      <td>Interventional</td>\n",
       "      <td>2008-05-15</td>\n",
       "      <td>2005-09-01</td>\n",
       "      <td>-987 days</td>\n",
       "      <td>-987</td>\n",
       "    </tr>\n",
       "    <tr>\n",
       "      <th>43778</th>\n",
       "      <td>NCT00647023</td>\n",
       "      <td>Polycystic Ovary Syndrome</td>\n",
       "      <td>Female</td>\n",
       "      <td>18 Years to 38 Years   (Adult)</td>\n",
       "      <td>NaN</td>\n",
       "      <td>66</td>\n",
       "      <td>Other</td>\n",
       "      <td>Interventional</td>\n",
       "      <td>2008-03-26</td>\n",
       "      <td>2006-05-01</td>\n",
       "      <td>-695 days</td>\n",
       "      <td>-695</td>\n",
       "    </tr>\n",
       "    <tr>\n",
       "      <th>43779</th>\n",
       "      <td>NCT00643708</td>\n",
       "      <td>Anovulation|Polycystic Ovary Syndrome|Infertility</td>\n",
       "      <td>Female</td>\n",
       "      <td>23 Years to 34 Years   (Adult)</td>\n",
       "      <td>Phase 3</td>\n",
       "      <td>56</td>\n",
       "      <td>Other</td>\n",
       "      <td>Observational</td>\n",
       "      <td>2008-03-11</td>\n",
       "      <td>2007-12-01</td>\n",
       "      <td>-101 days</td>\n",
       "      <td>-101</td>\n",
       "    </tr>\n",
       "    <tr>\n",
       "      <th>43785</th>\n",
       "      <td>NCT00606671</td>\n",
       "      <td>Polycystic Ovary Syndrome</td>\n",
       "      <td>Female</td>\n",
       "      <td>18 Years to 38 Years   (Adult)</td>\n",
       "      <td>NaN</td>\n",
       "      <td>65</td>\n",
       "      <td>Other</td>\n",
       "      <td>Observational</td>\n",
       "      <td>2008-01-17</td>\n",
       "      <td>2006-05-01</td>\n",
       "      <td>-626 days</td>\n",
       "      <td>-626</td>\n",
       "    </tr>\n",
       "    <tr>\n",
       "      <th>43816</th>\n",
       "      <td>NCT00497653</td>\n",
       "      <td>Polycystic Ovary Syndrome</td>\n",
       "      <td>Female</td>\n",
       "      <td>18 Years to 40 Years   (Adult)</td>\n",
       "      <td>Phase 2|Phase 3</td>\n",
       "      <td>13</td>\n",
       "      <td>Other|NIH</td>\n",
       "      <td>Interventional</td>\n",
       "      <td>2007-07-05</td>\n",
       "      <td>2007-07-01</td>\n",
       "      <td>-4 days</td>\n",
       "      <td>-4</td>\n",
       "    </tr>\n",
       "    <tr>\n",
       "      <th>43820</th>\n",
       "      <td>NCT00488436</td>\n",
       "      <td>Myelodysplastic Syndrome</td>\n",
       "      <td>Both</td>\n",
       "      <td>Child, Adult, Senior</td>\n",
       "      <td>Phase 4</td>\n",
       "      <td>25</td>\n",
       "      <td>Other</td>\n",
       "      <td>Interventional</td>\n",
       "      <td>2007-06-19</td>\n",
       "      <td>2007-06-01</td>\n",
       "      <td>-18 days</td>\n",
       "      <td>-18</td>\n",
       "    </tr>\n",
       "    <tr>\n",
       "      <th>43858</th>\n",
       "      <td>NCT02861404</td>\n",
       "      <td>Plantar Warts</td>\n",
       "      <td>Both</td>\n",
       "      <td>18 Years and older   (Adult, Senior)</td>\n",
       "      <td>NaN</td>\n",
       "      <td>406</td>\n",
       "      <td>Other</td>\n",
       "      <td>Observational</td>\n",
       "      <td>2016-08-03</td>\n",
       "      <td>2014-10-01</td>\n",
       "      <td>-672 days</td>\n",
       "      <td>-672</td>\n",
       "    </tr>\n",
       "    <tr>\n",
       "      <th>43861</th>\n",
       "      <td>NCT02798419</td>\n",
       "      <td>Common Warts</td>\n",
       "      <td>Both</td>\n",
       "      <td>18 Years to 50 Years   (Adult)</td>\n",
       "      <td>Phase 2</td>\n",
       "      <td>50</td>\n",
       "      <td>Industry</td>\n",
       "      <td>Interventional</td>\n",
       "      <td>2016-06-09</td>\n",
       "      <td>2016-05-01</td>\n",
       "      <td>-39 days</td>\n",
       "      <td>-39</td>\n",
       "    </tr>\n",
       "    <tr>\n",
       "      <th>43865</th>\n",
       "      <td>NCT02715752</td>\n",
       "      <td>Herpes Simplex Infections|Human Papillomavirus...</td>\n",
       "      <td>Both</td>\n",
       "      <td>18 Years and older   (Adult, Senior)</td>\n",
       "      <td>NaN</td>\n",
       "      <td>1000</td>\n",
       "      <td>Other</td>\n",
       "      <td>Observational</td>\n",
       "      <td>2016-03-17</td>\n",
       "      <td>2016-03-01</td>\n",
       "      <td>-16 days</td>\n",
       "      <td>-16</td>\n",
       "    </tr>\n",
       "    <tr>\n",
       "      <th>43883</th>\n",
       "      <td>NCT02147353</td>\n",
       "      <td>External Genital Warts</td>\n",
       "      <td>Both</td>\n",
       "      <td>18 Years and older   (Adult, Senior)</td>\n",
       "      <td>NaN</td>\n",
       "      <td>40</td>\n",
       "      <td>Other|Industry</td>\n",
       "      <td>Interventional</td>\n",
       "      <td>2014-05-22</td>\n",
       "      <td>2012-12-01</td>\n",
       "      <td>-537 days</td>\n",
       "      <td>-537</td>\n",
       "    </tr>\n",
       "    <tr>\n",
       "      <th>43884</th>\n",
       "      <td>NCT02106260</td>\n",
       "      <td>Cutaneous Warts</td>\n",
       "      <td>Both</td>\n",
       "      <td>18 Years to 65 Years   (Adult)</td>\n",
       "      <td>Phase 1|Phase 2</td>\n",
       "      <td>12</td>\n",
       "      <td>Industry</td>\n",
       "      <td>Interventional</td>\n",
       "      <td>2014-04-02</td>\n",
       "      <td>2014-04-01</td>\n",
       "      <td>-1 days</td>\n",
       "      <td>-1</td>\n",
       "    </tr>\n",
       "    <tr>\n",
       "      <th>43885</th>\n",
       "      <td>NCT02015260</td>\n",
       "      <td>Anogenital Warts|Condylomata Acuminata</td>\n",
       "      <td>Both</td>\n",
       "      <td>18 Years and older   (Adult, Senior)</td>\n",
       "      <td>Phase 2</td>\n",
       "      <td>299</td>\n",
       "      <td>Other|Industry</td>\n",
       "      <td>Interventional</td>\n",
       "      <td>2013-08-06</td>\n",
       "      <td>2003-05-01</td>\n",
       "      <td>-3750 days</td>\n",
       "      <td>-3750</td>\n",
       "    </tr>\n",
       "    <tr>\n",
       "      <th>43898</th>\n",
       "      <td>NCT01702337</td>\n",
       "      <td>Human Papillomavirus Infection</td>\n",
       "      <td>Female</td>\n",
       "      <td>Child, Adult, Senior</td>\n",
       "      <td>NaN</td>\n",
       "      <td>1</td>\n",
       "      <td>Industry</td>\n",
       "      <td>Observational</td>\n",
       "      <td>2012-09-27</td>\n",
       "      <td>2010-02-01</td>\n",
       "      <td>-969 days</td>\n",
       "      <td>-969</td>\n",
       "    </tr>\n",
       "    <tr>\n",
       "      <th>43902</th>\n",
       "      <td>NCT01553994</td>\n",
       "      <td>Condyloma|Genital Warts</td>\n",
       "      <td>Both</td>\n",
       "      <td>13 Years to 25 Years   (Child, Adult)</td>\n",
       "      <td>NaN</td>\n",
       "      <td>500000</td>\n",
       "      <td>Other|Industry</td>\n",
       "      <td>Observational</td>\n",
       "      <td>2011-08-17</td>\n",
       "      <td>2010-12-01</td>\n",
       "      <td>-259 days</td>\n",
       "      <td>-259</td>\n",
       "    </tr>\n",
       "    <tr>\n",
       "      <th>43913</th>\n",
       "      <td>NCT01355003</td>\n",
       "      <td>Papillomavirus Infections</td>\n",
       "      <td>Both</td>\n",
       "      <td>9 Years to 46 Years   (Child, Adult)</td>\n",
       "      <td>NaN</td>\n",
       "      <td>1080</td>\n",
       "      <td>Industry</td>\n",
       "      <td>Observational</td>\n",
       "      <td>2011-05-16</td>\n",
       "      <td>2010-06-01</td>\n",
       "      <td>-349 days</td>\n",
       "      <td>-349</td>\n",
       "    </tr>\n",
       "    <tr>\n",
       "      <th>43915</th>\n",
       "      <td>NCT01289171</td>\n",
       "      <td>Flat Warts (Diagnosis)|HIV Infections</td>\n",
       "      <td>Both</td>\n",
       "      <td>7 Years and older   (Child, Adult, Senior)</td>\n",
       "      <td>NaN</td>\n",
       "      <td>38</td>\n",
       "      <td>Other|Industry</td>\n",
       "      <td>Interventional</td>\n",
       "      <td>2011-01-12</td>\n",
       "      <td>2009-06-01</td>\n",
       "      <td>-590 days</td>\n",
       "      <td>-590</td>\n",
       "    </tr>\n",
       "    <tr>\n",
       "      <th>43920</th>\n",
       "      <td>NCT01084824</td>\n",
       "      <td>Verruca Vulgaris</td>\n",
       "      <td>Both</td>\n",
       "      <td>18 Years to 65 Years   (Adult)</td>\n",
       "      <td>NaN</td>\n",
       "      <td>70</td>\n",
       "      <td>Other</td>\n",
       "      <td>Interventional</td>\n",
       "      <td>2010-03-10</td>\n",
       "      <td>2008-06-01</td>\n",
       "      <td>-647 days</td>\n",
       "      <td>-647</td>\n",
       "    </tr>\n",
       "    <tr>\n",
       "      <th>43932</th>\n",
       "      <td>NCT00761371</td>\n",
       "      <td>Warts</td>\n",
       "      <td>Both</td>\n",
       "      <td>18 Years to 69 Years   (Adult, Senior)</td>\n",
       "      <td>Phase 4</td>\n",
       "      <td>52</td>\n",
       "      <td>Industry|Other</td>\n",
       "      <td>Interventional</td>\n",
       "      <td>2008-09-26</td>\n",
       "      <td>2004-02-01</td>\n",
       "      <td>-1699 days</td>\n",
       "      <td>-1699</td>\n",
       "    </tr>\n",
       "    <tr>\n",
       "      <th>43936</th>\n",
       "      <td>NCT00701922</td>\n",
       "      <td>Lung Transplantation|Bronchiolitis Obliterans|...</td>\n",
       "      <td>Both</td>\n",
       "      <td>18 Years to 70 Years   (Adult, Senior)</td>\n",
       "      <td>NaN</td>\n",
       "      <td>388</td>\n",
       "      <td>Other</td>\n",
       "      <td>Observational</td>\n",
       "      <td>2008-06-17</td>\n",
       "      <td>2007-12-01</td>\n",
       "      <td>-199 days</td>\n",
       "      <td>-199</td>\n",
       "    </tr>\n",
       "    <tr>\n",
       "      <th>43960</th>\n",
       "      <td>NCT01741441</td>\n",
       "      <td>Duodenogastric Reflux</td>\n",
       "      <td>Both</td>\n",
       "      <td>14 Years to 75 Years   (Child, Adult, Senior)</td>\n",
       "      <td>NaN</td>\n",
       "      <td>188</td>\n",
       "      <td>Other</td>\n",
       "      <td>Observational</td>\n",
       "      <td>2012-11-25</td>\n",
       "      <td>2007-06-01</td>\n",
       "      <td>-2004 days</td>\n",
       "      <td>-2004</td>\n",
       "    </tr>\n",
       "  </tbody>\n",
       "</table>\n",
       "<p>3142 rows × 12 columns</p>\n",
       "</div>"
      ],
      "text/plain": [
       "        NCT Number                                         Conditions  Gender  \\\n",
       "16     NCT01470586  Colorectal Cancer|Colon Rectal Resection|Oxida...    Both   \n",
       "31     NCT01440855  Prostate Cancer|Breast Cancer|Colorectal Cance...    Both   \n",
       "77     NCT01236053  Pain, Neuropathic|Epilepsy|Renal Pelvis Cancer...    Both   \n",
       "85     NCT00656604                                      Breast Cancer  Female   \n",
       "97     NCT01335152                                      Breast Cancer  Female   \n",
       "176    NCT00483639  Anxiety Disorder|Head and Neck Cancer|Lung Cancer    Both   \n",
       "224    NCT00923481  Head and Neck Neoplasms|Pheochromocytoma|Color...    Both   \n",
       "234    NCT00653250                                        Lung Cancer    Both   \n",
       "264    NCT00433394  Unspecified Childhood Solid Tumor, Protocol Sp...    Both   \n",
       "266    NCT01415375                 Prostate Cancer Screening Decision    Male   \n",
       "273    NCT00897832                                  Pancreatic Cancer    Both   \n",
       "291    NCT01972503  Colorectal Neoplasms|Neoplasm Metastasis|Liver...    Both   \n",
       "294    NCT02368236             Colorectal Neoplasms|Colonic Neoplasms    Both   \n",
       "298    NCT00898664                               Head and Neck Cancer    Both   \n",
       "312    NCT02435290        Inappropriate Prescribing|Clinical Oncology    Both   \n",
       "320    NCT02808598                                      Breast Cancer  Female   \n",
       "339    NCT00900523                                     Ovarian Cancer  Female   \n",
       "340    NCT02475889                                  Colorectal Cancer    Both   \n",
       "362    NCT02542332  Information About the Knowledge on the Statist...    Both   \n",
       "408    NCT01207999         Infections, Papillomavirus|Cervical Cancer  Female   \n",
       "438    NCT01916837                             Invasive Breast Cancer    Both   \n",
       "453    NCT01368744                   Breast Neoplasms|Breast Diseases    Both   \n",
       "528    NCT02022553                           Rectal Cancer T3-4N0-2M0    Both   \n",
       "538    NCT01277653                           Hepatocellular Carcinoma    Both   \n",
       "553    NCT00900133                                      Breast Cancer    Both   \n",
       "562    NCT01230983                 Cardiac Toxicity|Leukemia|Lymphoma    Both   \n",
       "597    NCT00908739                                      Kidney Cancer    Both   \n",
       "605    NCT00633750                                      Breast Cancer    Both   \n",
       "630    NCT02833467  Carcinoma|Non-small-cell Lung Cancer|Thoracic ...    Both   \n",
       "641    NCT00629759                                   Neoplasms, Liver    Both   \n",
       "...            ...                                                ...     ...   \n",
       "43706  NCT00911313                          Polycystic Ovary Syndrome  Female   \n",
       "43717  NCT00859105                                  Actinic Keratosis    Both   \n",
       "43721  NCT00842140                          Polycystic Ovary Syndrome  Female   \n",
       "43734  NCT00803530                          Myelodysplastic Syndromes    Both   \n",
       "43736  NCT00795808                          Polycystic Ovary Syndrome  Female   \n",
       "43744  NCT00771888  Polycystic Liver Disease|Hepatomegaly|Liver Di...    Both   \n",
       "43756  NCT00714233                          Polycystic Ovary Syndrome  Female   \n",
       "43757  NCT00713778                                      Ovarian Cysts  Female   \n",
       "43764  NCT00696488                                  Actinic Keratosis    Both   \n",
       "43766  NCT00695578                                  Actinic Keratosis    Both   \n",
       "43771  NCT00679679                          Polycystic Ovary Syndrome  Female   \n",
       "43778  NCT00647023                          Polycystic Ovary Syndrome  Female   \n",
       "43779  NCT00643708  Anovulation|Polycystic Ovary Syndrome|Infertility  Female   \n",
       "43785  NCT00606671                          Polycystic Ovary Syndrome  Female   \n",
       "43816  NCT00497653                          Polycystic Ovary Syndrome  Female   \n",
       "43820  NCT00488436                           Myelodysplastic Syndrome    Both   \n",
       "43858  NCT02861404                                      Plantar Warts    Both   \n",
       "43861  NCT02798419                                       Common Warts    Both   \n",
       "43865  NCT02715752  Herpes Simplex Infections|Human Papillomavirus...    Both   \n",
       "43883  NCT02147353                             External Genital Warts    Both   \n",
       "43884  NCT02106260                                    Cutaneous Warts    Both   \n",
       "43885  NCT02015260             Anogenital Warts|Condylomata Acuminata    Both   \n",
       "43898  NCT01702337                     Human Papillomavirus Infection  Female   \n",
       "43902  NCT01553994                            Condyloma|Genital Warts    Both   \n",
       "43913  NCT01355003                          Papillomavirus Infections    Both   \n",
       "43915  NCT01289171              Flat Warts (Diagnosis)|HIV Infections    Both   \n",
       "43920  NCT01084824                                   Verruca Vulgaris    Both   \n",
       "43932  NCT00761371                                              Warts    Both   \n",
       "43936  NCT00701922  Lung Transplantation|Bronchiolitis Obliterans|...    Both   \n",
       "43960  NCT01741441                              Duodenogastric Reflux    Both   \n",
       "\n",
       "                                                 Age           Phases  \\\n",
       "16            25 Years to 80 Years   (Adult, Senior)              NaN   \n",
       "31              18 Years and older   (Adult, Senior)              NaN   \n",
       "77                              Child, Adult, Senior              NaN   \n",
       "85              18 Years and older   (Adult, Senior)              NaN   \n",
       "97              18 Years and older   (Adult, Senior)  Phase 1|Phase 2   \n",
       "176           21 Years to 70 Years   (Adult, Senior)              NaN   \n",
       "224             18 Years and older   (Adult, Senior)          Phase 2   \n",
       "234                             Child, Adult, Senior              NaN   \n",
       "264                  up to 20 Years   (Child, Adult)              NaN   \n",
       "266           45 Years to 70 Years   (Adult, Senior)  Phase 2|Phase 3   \n",
       "273                             Child, Adult, Senior              NaN   \n",
       "291           18 Years to 75 Years   (Adult, Senior)          Phase 4   \n",
       "294           25 Years to 75 Years   (Adult, Senior)              NaN   \n",
       "298             18 Years and older   (Adult, Senior)              NaN   \n",
       "312           18 Years to 80 Years   (Adult, Senior)              NaN   \n",
       "320             21 Years and older   (Adult, Senior)              NaN   \n",
       "339      17 Years and older   (Child, Adult, Senior)              NaN   \n",
       "340           32 Years to 78 Years   (Adult, Senior)              NaN   \n",
       "362                             Child, Adult, Senior              NaN   \n",
       "408             21 Years and older   (Adult, Senior)              NaN   \n",
       "438             18 Years and older   (Adult, Senior)              NaN   \n",
       "453             18 Years and older   (Adult, Senior)              NaN   \n",
       "528    15 Years to 75 Years   (Child, Adult, Senior)              NaN   \n",
       "538           20 Years to 75 Years   (Adult, Senior)              NaN   \n",
       "553             18 Years and older   (Adult, Senior)              NaN   \n",
       "562                  up to 21 Years   (Child, Adult)          Phase 3   \n",
       "597                             Child, Adult, Senior              NaN   \n",
       "605             18 Years and older   (Adult, Senior)          Phase 2   \n",
       "630             18 Years and older   (Adult, Senior)              NaN   \n",
       "641             18 Years and older   (Adult, Senior)          Phase 1   \n",
       "...                                              ...              ...   \n",
       "43706                 20 Years to 36 Years   (Adult)              NaN   \n",
       "43717                           Child, Adult, Senior          Phase 3   \n",
       "43721                 18 Years to 35 Years   (Adult)              NaN   \n",
       "43734         18 Years to 80 Years   (Adult, Senior)          Phase 2   \n",
       "43736                 18 Years to 39 Years   (Adult)          Phase 4   \n",
       "43744         18 Years to 88 Years   (Adult, Senior)  Phase 2|Phase 3   \n",
       "43756          12 Years to 18 Years   (Child, Adult)          Phase 3   \n",
       "43757                 18 Years to 40 Years   (Adult)          Phase 4   \n",
       "43764           50 Years and older   (Adult, Senior)          Phase 4   \n",
       "43766           50 Years and older   (Adult, Senior)          Phase 4   \n",
       "43771                 18 Years to 35 Years   (Adult)          Phase 4   \n",
       "43778                 18 Years to 38 Years   (Adult)              NaN   \n",
       "43779                 23 Years to 34 Years   (Adult)          Phase 3   \n",
       "43785                 18 Years to 38 Years   (Adult)              NaN   \n",
       "43816                 18 Years to 40 Years   (Adult)  Phase 2|Phase 3   \n",
       "43820                           Child, Adult, Senior          Phase 4   \n",
       "43858           18 Years and older   (Adult, Senior)              NaN   \n",
       "43861                 18 Years to 50 Years   (Adult)          Phase 2   \n",
       "43865           18 Years and older   (Adult, Senior)              NaN   \n",
       "43883           18 Years and older   (Adult, Senior)              NaN   \n",
       "43884                 18 Years to 65 Years   (Adult)  Phase 1|Phase 2   \n",
       "43885           18 Years and older   (Adult, Senior)          Phase 2   \n",
       "43898                           Child, Adult, Senior              NaN   \n",
       "43902          13 Years to 25 Years   (Child, Adult)              NaN   \n",
       "43913           9 Years to 46 Years   (Child, Adult)              NaN   \n",
       "43915     7 Years and older   (Child, Adult, Senior)              NaN   \n",
       "43920                 18 Years to 65 Years   (Adult)              NaN   \n",
       "43932         18 Years to 69 Years   (Adult, Senior)          Phase 4   \n",
       "43936         18 Years to 70 Years   (Adult, Senior)              NaN   \n",
       "43960  14 Years to 75 Years   (Child, Adult, Senior)              NaN   \n",
       "\n",
       "      Enrollment      Funded Bys     Study Types First Received  \\\n",
       "16            60           Other  Interventional     2011-11-05   \n",
       "31           340       Other|NIH  Interventional     2011-09-22   \n",
       "77       2323608        Industry   Observational     2010-10-14   \n",
       "85            30       Other|NIH  Interventional     2008-04-10   \n",
       "97           100    Industry|NIH  Interventional     2011-04-12   \n",
       "176          100       Other|NIH   Observational     2007-06-06   \n",
       "224           37             NIH  Interventional     2009-06-17   \n",
       "234           22       Other|NIH  Interventional     2008-04-03   \n",
       "264         2242       Other|NIH  Interventional     2007-02-09   \n",
       "266          490           Other  Interventional     2011-08-10   \n",
       "273           50       Other|NIH   Observational     2009-05-09   \n",
       "291          300           Other  Interventional     2013-09-23   \n",
       "294         1012       Other|NIH  Interventional     2015-01-28   \n",
       "298           74       Other|NIH   Observational     2009-05-09   \n",
       "312          500           Other   Observational     2015-03-22   \n",
       "320         1065           Other  Interventional     2014-06-16   \n",
       "339            7       Other|NIH   Observational     2009-05-09   \n",
       "340           78           Other   Observational     2015-06-06   \n",
       "362          556           Other  Interventional     2015-08-16   \n",
       "408          591  Industry|Other   Observational     2010-09-22   \n",
       "438          180           Other   Observational     2013-07-30   \n",
       "453          150        Industry   Observational     2011-06-06   \n",
       "528           50           Other  Interventional     2013-12-19   \n",
       "538         1000           Other   Observational     2011-01-14   \n",
       "553           60       Other|NIH   Observational     2009-05-09   \n",
       "562          573       Other|NIH  Interventional     2010-10-28   \n",
       "597            0       Other|NIH   Observational     2009-05-23   \n",
       "605           50       Other|NIH  Interventional     2008-03-11   \n",
       "630           45           Other   Observational     2016-07-09   \n",
       "641           14        Industry  Interventional     2008-02-26   \n",
       "...          ...             ...             ...            ...   \n",
       "43706        250           Other  Interventional     2009-05-28   \n",
       "43717        497        Industry  Interventional     2009-03-09   \n",
       "43721         75           Other  Interventional     2009-02-10   \n",
       "43734         55           Other  Interventional     2008-12-04   \n",
       "43736        171           Other  Interventional     2008-11-20   \n",
       "43744         54  Other|Industry  Interventional     2008-10-13   \n",
       "43756         43           Other  Interventional     2008-07-08   \n",
       "43757        192           Other  Interventional     2008-07-07   \n",
       "43764         20           Other  Interventional     2008-06-09   \n",
       "43766         20           Other  Interventional     2008-06-09   \n",
       "43771         30           Other  Interventional     2008-05-15   \n",
       "43778         66           Other  Interventional     2008-03-26   \n",
       "43779         56           Other   Observational     2008-03-11   \n",
       "43785         65           Other   Observational     2008-01-17   \n",
       "43816         13       Other|NIH  Interventional     2007-07-05   \n",
       "43820         25           Other  Interventional     2007-06-19   \n",
       "43858        406           Other   Observational     2016-08-03   \n",
       "43861         50        Industry  Interventional     2016-06-09   \n",
       "43865       1000           Other   Observational     2016-03-17   \n",
       "43883         40  Other|Industry  Interventional     2014-05-22   \n",
       "43884         12        Industry  Interventional     2014-04-02   \n",
       "43885        299  Other|Industry  Interventional     2013-08-06   \n",
       "43898          1        Industry   Observational     2012-09-27   \n",
       "43902     500000  Other|Industry   Observational     2011-08-17   \n",
       "43913       1080        Industry   Observational     2011-05-16   \n",
       "43915         38  Other|Industry  Interventional     2011-01-12   \n",
       "43920         70           Other  Interventional     2010-03-10   \n",
       "43932         52  Industry|Other  Interventional     2008-09-26   \n",
       "43936        388           Other   Observational     2008-06-17   \n",
       "43960        188           Other   Observational     2012-11-25   \n",
       "\n",
       "      Primary Completion Date   Duration  Duration_int  \n",
       "16                 2010-10-01  -400 days          -400  \n",
       "31                 2009-10-01  -721 days          -721  \n",
       "77                 2010-09-01   -43 days           -43  \n",
       "85                 2005-10-01  -922 days          -922  \n",
       "97                 2011-04-01   -11 days           -11  \n",
       "176                2006-03-01  -462 days          -462  \n",
       "224                2009-04-01   -77 days           -77  \n",
       "234                2006-03-01  -764 days          -764  \n",
       "264                2007-01-01   -39 days           -39  \n",
       "266                2007-07-01 -1501 days         -1501  \n",
       "273                2007-12-01  -525 days          -525  \n",
       "291                2013-09-01   -22 days           -22  \n",
       "294                2012-02-01 -1092 days         -1092  \n",
       "298                2008-04-01  -403 days          -403  \n",
       "312                2015-03-01   -21 days           -21  \n",
       "320                2012-01-01  -897 days          -897  \n",
       "339                2007-07-01  -678 days          -678  \n",
       "340                2015-01-01  -156 days          -156  \n",
       "362                2015-08-01   -15 days           -15  \n",
       "408                2010-03-01  -205 days          -205  \n",
       "438                2010-12-01  -972 days          -972  \n",
       "453                2011-06-01    -5 days            -5  \n",
       "528                2013-12-01   -18 days           -18  \n",
       "538                2010-06-01  -227 days          -227  \n",
       "553                2006-04-01 -1134 days         -1134  \n",
       "562                2001-09-01 -3344 days         -3344  \n",
       "597                2008-09-01  -264 days          -264  \n",
       "605                2007-10-01  -162 days          -162  \n",
       "630                2016-06-01   -38 days           -38  \n",
       "641                2007-07-01  -240 days          -240  \n",
       "...                       ...        ...           ...  \n",
       "43706              2009-01-01  -147 days          -147  \n",
       "43717              2008-11-01  -128 days          -128  \n",
       "43721              2009-01-01   -40 days           -40  \n",
       "43734              2007-01-01  -703 days          -703  \n",
       "43736              2008-10-01   -50 days           -50  \n",
       "43744              2008-10-01   -12 days           -12  \n",
       "43756              2004-04-01 -1559 days         -1559  \n",
       "43757              2008-05-01   -67 days           -67  \n",
       "43764              2007-08-01  -313 days          -313  \n",
       "43766              2007-06-01  -374 days          -374  \n",
       "43771              2005-09-01  -987 days          -987  \n",
       "43778              2006-05-01  -695 days          -695  \n",
       "43779              2007-12-01  -101 days          -101  \n",
       "43785              2006-05-01  -626 days          -626  \n",
       "43816              2007-07-01    -4 days            -4  \n",
       "43820              2007-06-01   -18 days           -18  \n",
       "43858              2014-10-01  -672 days          -672  \n",
       "43861              2016-05-01   -39 days           -39  \n",
       "43865              2016-03-01   -16 days           -16  \n",
       "43883              2012-12-01  -537 days          -537  \n",
       "43884              2014-04-01    -1 days            -1  \n",
       "43885              2003-05-01 -3750 days         -3750  \n",
       "43898              2010-02-01  -969 days          -969  \n",
       "43902              2010-12-01  -259 days          -259  \n",
       "43913              2010-06-01  -349 days          -349  \n",
       "43915              2009-06-01  -590 days          -590  \n",
       "43920              2008-06-01  -647 days          -647  \n",
       "43932              2004-02-01 -1699 days         -1699  \n",
       "43936              2007-12-01  -199 days          -199  \n",
       "43960              2007-06-01 -2004 days         -2004  \n",
       "\n",
       "[3142 rows x 12 columns]"
      ]
     },
     "execution_count": 100,
     "metadata": {},
     "output_type": "execute_result"
    }
   ],
   "source": [
    "duration[duration.Duration_int < 0]"
   ]
  },
  {
   "cell_type": "code",
   "execution_count": 32,
   "metadata": {
    "collapsed": false
   },
   "outputs": [
    {
     "name": "stdout",
     "output_type": "stream",
     "text": [
      "0\n",
      "1378\n"
     ]
    }
   ],
   "source": [
    "# check nulls of First Received and Primary Completion Date\n",
    "print second_result['First Received'].isnull().sum()\n",
    "print second_result['Primary Completion Date'].isnull().sum()"
   ]
  },
  {
   "cell_type": "code",
   "execution_count": 31,
   "metadata": {
    "collapsed": false
   },
   "outputs": [
    {
     "data": {
      "text/plain": [
       "0        1880 days\n",
       "1        1511 days\n",
       "2        1766 days\n",
       "3        3889 days\n",
       "4         411 days\n",
       "5        1053 days\n",
       "6        1303 days\n",
       "7        1980 days\n",
       "8        2002 days\n",
       "9        2246 days\n",
       "10        405 days\n",
       "11       1586 days\n",
       "12       1141 days\n",
       "13       1608 days\n",
       "14       1424 days\n",
       "15       2574 days\n",
       "16       -400 days\n",
       "17        719 days\n",
       "18       2421 days\n",
       "19       3325 days\n",
       "20        389 days\n",
       "21       2848 days\n",
       "22        885 days\n",
       "23        178 days\n",
       "24       1129 days\n",
       "25       1862 days\n",
       "26       1815 days\n",
       "27             NaT\n",
       "28       3088 days\n",
       "29       3773 days\n",
       "           ...    \n",
       "43932   -1699 days\n",
       "43933     327 days\n",
       "43934     978 days\n",
       "43935     321 days\n",
       "43936    -199 days\n",
       "43937     420 days\n",
       "43938     251 days\n",
       "43939     565 days\n",
       "43940     757 days\n",
       "43941     221 days\n",
       "43942          NaT\n",
       "43943     228 days\n",
       "43944          NaT\n",
       "43945     572 days\n",
       "43946     579 days\n",
       "43947     595 days\n",
       "43948          NaT\n",
       "43949    3644 days\n",
       "43950    1442 days\n",
       "43951    1010 days\n",
       "43952      35 days\n",
       "43953     456 days\n",
       "43954     181 days\n",
       "43955     324 days\n",
       "43956     206 days\n",
       "43957    1073 days\n",
       "43958     153 days\n",
       "43959     314 days\n",
       "43960   -2004 days\n",
       "43961    1376 days\n",
       "dtype: timedelta64[ns]"
      ]
     },
     "execution_count": 31,
     "metadata": {},
     "output_type": "execute_result"
    }
   ],
   "source": [
    "second_result['Primary Completion Date'] - second_result['First Received']"
   ]
  },
  {
   "cell_type": "code",
   "execution_count": 27,
   "metadata": {
    "collapsed": false
   },
   "outputs": [
    {
     "data": {
      "text/plain": [
       "Rank                                                                                                    2\n",
       "NCT Number                                                                                    NCT01460134\n",
       "Title                                                   A Study of CDX-1127 (Varlilumab) in Patients W...\n",
       "Recruitment                                                                        Active, not recruiting\n",
       "Study Results                                                                        No Results Available\n",
       "Conditions                                              CD27 Expressing B-cell Malignancies, (for Exam...\n",
       "Interventions                                                Drug: CDX-1127|Drug: CDX-1127|Drug: CDX-1127\n",
       "Sponsor/Collaborators                                                                Celldex Therapeutics\n",
       "Gender                                                                                               Both\n",
       "Age                                                                  18 Years and older   (Adult, Senior)\n",
       "Phases                                                                                            Phase 1\n",
       "Enrollment                                                                                             90\n",
       "Funded Bys                                                                                       Industry\n",
       "Study Types                                                                                Interventional\n",
       "Study Designs                                           Allocation: Non-Randomized|Endpoint Classifica...\n",
       "Other IDs                                                                                      CDX1127-01\n",
       "First Received                                                                        2011-10-12 00:00:00\n",
       "Start Date                                                                            2011-10-01 00:00:00\n",
       "Completion Date                                                                       2016-12-01 00:00:00\n",
       "Last Updated                                                                                April 5, 2016\n",
       "Last Verified                                                                                  April 2016\n",
       "Results First Received                                                                                NaT\n",
       "Acronym                                                                                              null\n",
       "Primary Completion Date                                                               2015-12-01 00:00:00\n",
       "Outcome Measures                                        Characterize the adverse events associated wit...\n",
       "URL                                                           https://ClinicalTrials.gov/show/NCT01460134\n",
       "1199SEIU Benefit and Pension Funds                                                                    NaN\n",
       "150th Hospital of PLA                                                                                 NaN\n",
       "21st Century Oncology                                                                                 NaN\n",
       "23andMe, Inc.                                                                                         NaN\n",
       "                                                                              ...                        \n",
       "ribosepharm GmbH                                                                                      NaN\n",
       "science and technology development fund, Egypt                                                        NaN\n",
       "scientific steering committee of KOL in rheumatology                                                  NaN\n",
       "sigma-tau i.f.r. S.p.A.                                                                               NaN\n",
       "the High Health Authority                                                                             NaN\n",
       "the Regional Direction of Clinical Research                                                           NaN\n",
       "the Second Hospital of Shaoxing                                                                       NaN\n",
       "the cancer hospital of Zhengzhou University                                                           NaN\n",
       "the second people's hospital of kaifeng                                                               NaN\n",
       "theradiag                                                                                             NaN\n",
       "tiejun Zhang                                                                                          NaN\n",
       "university grant commission                                                                           NaN\n",
       "vTv Therapeutics                                                                                      NaN\n",
       "vghtpe user                                                                                           NaN\n",
       "wang shusen                                                                                           NaN\n",
       "wei bo                                                                                                NaN\n",
       "xie congying                                                                                          NaN\n",
       "xuling                                                                                                NaN\n",
       "ying cheng                                                                                            NaN\n",
       "Åbo Akademi University                                                                                NaN\n",
       "Ångstrom Pharmaceuticals                                                                              NaN\n",
       "ÇAĞLAYAN ÇAKIR                                                                                        NaN\n",
       "École polytechnique fédérale de Lausanne                                                              NaN\n",
       "Örebro University, Sweden                                                                             NaN\n",
       "Örestadskliniken                                                                                      NaN\n",
       "Östra Hospital                                                                                        NaN\n",
       "Industry                                                                                                1\n",
       "NIH                                                                                                   NaN\n",
       "Other                                                                                                 NaN\n",
       "U.S. Fed                                                                                              NaN\n",
       "Name: 1, dtype: object"
      ]
     },
     "execution_count": 27,
     "metadata": {},
     "output_type": "execute_result"
    }
   ],
   "source": [
    "second_result.iloc[1,:]"
   ]
  },
  {
   "cell_type": "code",
   "execution_count": 25,
   "metadata": {
    "collapsed": false
   },
   "outputs": [
    {
     "data": {
      "text/plain": [
       "Recruiting                   14915\n",
       "Completed                    14504\n",
       "Active, not recruiting        6439\n",
       "Terminated                    3225\n",
       "Not yet recruiting            2654\n",
       "Withdrawn                     1180\n",
       "Enrolling by invitation        579\n",
       "Suspended                      314\n",
       "Available                       71\n",
       "No longer available             55\n",
       "Approved for marketing          20\n",
       "Temporarily not available        6\n",
       "Name: Recruitment, dtype: int64"
      ]
     },
     "execution_count": 25,
     "metadata": {},
     "output_type": "execute_result"
    }
   ],
   "source": [
    "second_result.Recruitment.value_counts()"
   ]
  },
  {
   "cell_type": "code",
   "execution_count": 4,
   "metadata": {
    "collapsed": false
   },
   "outputs": [
    {
     "data": {
      "text/plain": [
       "Index([u'Rank', u'NCT Number', u'Title', u'Recruitment', u'Study Results',\n",
       "       u'Conditions', u'Interventions', u'Sponsor/Collaborators', u'Gender',\n",
       "       u'Age', u'Phases', u'Enrollment', u'Funded Bys', u'Study Types',\n",
       "       u'Study Designs', u'Other IDs', u'First Received', u'Start Date',\n",
       "       u'Completion Date', u'Last Updated', u'Last Verified',\n",
       "       u'Results First Received', u'Acronym', u'Primary Completion Date',\n",
       "       u'Outcome Measures', u'URL'],\n",
       "      dtype='object')"
      ]
     },
     "execution_count": 4,
     "metadata": {},
     "output_type": "execute_result"
    }
   ],
   "source": [
    "trials.columns"
   ]
  },
  {
   "cell_type": "code",
   "execution_count": 5,
   "metadata": {
    "collapsed": false
   },
   "outputs": [
    {
     "name": "stdout",
     "output_type": "stream",
     "text": [
      "Recruiting                   14915\n",
      "Completed                    14504\n",
      "Active, not recruiting        6439\n",
      "Terminated                    3225\n",
      "Not yet recruiting            2654\n",
      "Withdrawn                     1180\n",
      "Enrolling by invitation        579\n",
      "Suspended                      314\n",
      "Available                       71\n",
      "No longer available             55\n",
      "Approved for marketing          20\n",
      "Temporarily not available        6\n",
      "Name: Recruitment, dtype: int64 \n",
      "\n",
      "No Results Available    40069\n",
      "Has Results              3893\n",
      "Name: Study Results, dtype: int64 \n",
      "\n",
      "Both      34809\n",
      "Female     6567\n",
      "Male       2543\n",
      "null         43\n",
      "Name: Gender, dtype: int64 \n",
      "\n",
      "Phase 2            11633\n",
      "Phase 1             6632\n",
      "Phase 3             4110\n",
      "Phase 1|Phase 2     3183\n",
      "Phase 4             1708\n",
      "Phase 2|Phase 3      661\n",
      "Phase 0              533\n",
      "Name: Phases, dtype: int64 \n",
      "\n",
      "Other                          22592\n",
      "Industry                        9787\n",
      "Other|Industry                  4767\n",
      "Other|NIH                       3892\n",
      "NIH                             1440\n",
      "Industry|Other                   673\n",
      "Other|NIH|Industry               219\n",
      "Other|U.S. Fed                   157\n",
      "U.S. Fed                          83\n",
      "Other|Industry|NIH                76\n",
      "NIH|Other                         66\n",
      "Industry|NIH                      48\n",
      "U.S. Fed|Other                    29\n",
      "NIH|Industry                      17\n",
      "Other|NIH|U.S. Fed                15\n",
      "Other|U.S. Fed|Industry           13\n",
      "Industry|NIH|Other                12\n",
      "Industry|U.S. Fed                 11\n",
      "Other|U.S. Fed|NIH                11\n",
      "U.S. Fed|Industry                 10\n",
      "U.S. Fed|NIH                      10\n",
      "Other|Industry|U.S. Fed            9\n",
      "Industry|Other|NIH                 6\n",
      "Industry|Other|U.S. Fed            5\n",
      "U.S. Fed|Other|Industry            2\n",
      "NIH|Other|U.S. Fed                 2\n",
      "NIH|U.S. Fed                       1\n",
      "Other|NIH|U.S. Fed|Industry        1\n",
      "U.S. Fed|NIH|Other                 1\n",
      "NIH|Other|Industry                 1\n",
      "Other|U.S. Fed|NIH|Industry        1\n",
      "Other|Industry|U.S. Fed|NIH        1\n",
      "U.S. Fed|Industry|Other            1\n",
      "Industry|Other|U.S. Fed|NIH        1\n",
      "Other|U.S. Fed|Industry|NIH        1\n",
      "Industry|U.S. Fed|Other            1\n",
      "Name: Funded Bys, dtype: int64 \n",
      "\n",
      "Interventional     35610\n",
      "Observational       8200\n",
      "Expanded Access      152\n",
      "Name: Study Types, dtype: int64 \n",
      "\n",
      "No Results Available    40069\n",
      "Has Results              3893\n",
      "Name: Study Results, dtype: int64\n"
     ]
    }
   ],
   "source": [
    "# some value counts\n",
    "print trials.Recruitment.value_counts(), '\\n'\n",
    "print trials['Study Results'].value_counts(), '\\n'\n",
    "print trials.Gender.value_counts(), '\\n'\n",
    "print trials.Phases.value_counts(), '\\n'\n",
    "print trials['Funded Bys'].value_counts(), '\\n'\n",
    "print trials['Study Types'].value_counts(), '\\n'\n",
    "print trials['Study Results'].value_counts()"
   ]
  },
  {
   "cell_type": "code",
   "execution_count": 6,
   "metadata": {
    "collapsed": false
   },
   "outputs": [
    {
     "name": "stdout",
     "output_type": "stream",
     "text": [
      "18567\n",
      "34003\n",
      "15139\n",
      "1252\n"
     ]
    }
   ],
   "source": [
    "# how many unique conditions, interventions, and sponsors are listed?\n",
    "print len(trials.Conditions.unique())\n",
    "print len(trials.Interventions.unique())\n",
    "print len(trials['Sponsor/Collaborators'].unique())\n",
    "print len(trials.Age.unique())"
   ]
  },
  {
   "cell_type": "code",
   "execution_count": 8,
   "metadata": {
    "collapsed": false
   },
   "outputs": [
    {
     "data": {
      "text/plain": [
       "Rank                           0\n",
       "NCT Number                     0\n",
       "Title                          0\n",
       "Recruitment                    0\n",
       "Study Results                  0\n",
       "Conditions                     0\n",
       "Interventions               4253\n",
       "Sponsor/Collaborators          0\n",
       "Gender                         0\n",
       "Age                            0\n",
       "Phases                     15502\n",
       "Enrollment                     0\n",
       "Funded Bys                     0\n",
       "Study Types                    0\n",
       "Study Designs                518\n",
       "Other IDs                      8\n",
       "First Received                 0\n",
       "Start Date                     0\n",
       "Completion Date                0\n",
       "Last Updated                   0\n",
       "Last Verified                  0\n",
       "Results First Received         0\n",
       "Acronym                        0\n",
       "Primary Completion Date        0\n",
       "Outcome Measures            1101\n",
       "URL                            0\n",
       "dtype: int64"
      ]
     },
     "execution_count": 8,
     "metadata": {},
     "output_type": "execute_result"
    }
   ],
   "source": [
    "# View nulls\n",
    "pd.isnull(trials).sum()"
   ]
  },
  {
   "cell_type": "code",
   "execution_count": 12,
   "metadata": {
    "collapsed": false
   },
   "outputs": [],
   "source": [
    "# trials.set_index(trials['First Received'], inplace=True)\n",
    "\n",
    "# plot trials over time - wonder what caused massive btwn 2012 and 2015?\n",
    "# trials['NCT Number'].resample('A').count().plot()\n",
    "\n",
    "# plot the count of trials per year that have results over time\n",
    "# trials[trials['Study Results'] == 'Has Results']['NCT Number'].resample('A').count().plot()"
   ]
  },
  {
   "cell_type": "code",
   "execution_count": null,
   "metadata": {
    "collapsed": true
   },
   "outputs": [],
   "source": []
  }
 ],
 "metadata": {
  "kernelspec": {
   "display_name": "Python 2",
   "language": "python",
   "name": "python2"
  },
  "language_info": {
   "codemirror_mode": {
    "name": "ipython",
    "version": 2
   },
   "file_extension": ".py",
   "mimetype": "text/x-python",
   "name": "python",
   "nbconvert_exporter": "python",
   "pygments_lexer": "ipython2",
   "version": "2.7.11"
  }
 },
 "nbformat": 4,
 "nbformat_minor": 0
}
